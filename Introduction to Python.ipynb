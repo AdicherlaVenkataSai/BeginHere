{
  "nbformat": 4,
  "nbformat_minor": 0,
  "metadata": {
    "colab": {
      "name": "IntroductiontoPython.ipynb",
      "provenance": [],
      "authorship_tag": "ABX9TyN8AZ3DK64aEXX09to11zkU",
      "include_colab_link": true
    },
    "kernelspec": {
      "name": "python3",
      "display_name": "Python 3"
    }
  },
  "cells": [
    {
      "cell_type": "markdown",
      "metadata": {
        "id": "view-in-github",
        "colab_type": "text"
      },
      "source": [
        "<a href=\"https://colab.research.google.com/github/AdicherlaVenkataSai/PyforML/blob/master/Introduction%20to%20Python.ipynb\" target=\"_parent\"><img src=\"https://colab.research.google.com/assets/colab-badge.svg\" alt=\"Open In Colab\"/></a>"
      ]
    },
    {
      "cell_type": "markdown",
      "metadata": {
        "id": "fJp_Fs-Biv8i",
        "colab_type": "text"
      },
      "source": [
        "# 1. DATA STRUCTURES IN PYTHON\n",
        "\n",
        "### lists\n",
        "1. A list can store a sequence of objects\n",
        "2. These objects can be of various types\n"
      ]
    },
    {
      "cell_type": "code",
      "metadata": {
        "id": "e9j26Ppeinud",
        "colab_type": "code",
        "colab": {
          "base_uri": "https://localhost:8080/",
          "height": 51
        },
        "outputId": "d4e52323-0082-417f-dbe4-e5c2ee08d12b"
      },
      "source": [
        "mylist = ['Hello', 12, 'world', 11.111]  # a list can have both strings and numbers\n",
        "print(mylist)\n",
        "print(type(mylist))\n"
      ],
      "execution_count": null,
      "outputs": [
        {
          "output_type": "stream",
          "text": [
            "['Hello', 12, 'world', 11.111]\n",
            "<class 'list'>\n"
          ],
          "name": "stdout"
        }
      ]
    },
    {
      "cell_type": "code",
      "metadata": {
        "id": "-Ptkm3-qjZNr",
        "colab_type": "code",
        "colab": {
          "base_uri": "https://localhost:8080/",
          "height": 85
        },
        "outputId": "746e529a-801c-4ea9-994f-034d92706104"
      },
      "source": [
        "# The indexing can be done from both the sides 0 / -1\n",
        "\n",
        "print(mylist[0])\n",
        "print(mylist[-4])\n",
        "print(mylist[3])\n",
        "print(mylist[-1])"
      ],
      "execution_count": null,
      "outputs": [
        {
          "output_type": "stream",
          "text": [
            "Hello\n",
            "Hello\n",
            "11.111\n",
            "11.111\n"
          ],
          "name": "stdout"
        }
      ]
    },
    {
      "cell_type": "code",
      "metadata": {
        "id": "gaH9wo80jyLz",
        "colab_type": "code",
        "colab": {
          "base_uri": "https://localhost:8080/",
          "height": 68
        },
        "outputId": "1f365714-63f8-4efd-b93a-a74f553ee36c"
      },
      "source": [
        "# even we have the concept of slicing\n",
        "\n",
        "print(mylist[0:2])  # slicing at position 2 (excludes 2), we get myslist[0], mylist[1]\n",
        "print(mylist[1:4])  # slicing from position 1 to 4\n",
        "print(mylist[2:])  # sliced at position 2, we get mylist[2], mylist[3]"
      ],
      "execution_count": null,
      "outputs": [
        {
          "output_type": "stream",
          "text": [
            "['Hello', 12]\n",
            "[12, 'world', 11.111]\n",
            "['world', 11.111]\n"
          ],
          "name": "stdout"
        }
      ]
    },
    {
      "cell_type": "code",
      "metadata": {
        "id": "cNCJL9NBkLpe",
        "colab_type": "code",
        "colab": {
          "base_uri": "https://localhost:8080/",
          "height": 34
        },
        "outputId": "bc3fda1b-d884-4814-d40c-ae8f6472fd24"
      },
      "source": [
        "# lists can be concatenated like strings\n",
        "\n",
        "a = [1, 2, 3, 4, 5]\n",
        "b = ['A', 'B', 'C']\n",
        "c = ['A', 500, 'C']\n",
        "\n",
        "b + c  # In the result we can observe duplicate 'A', lists allows duplicates"
      ],
      "execution_count": null,
      "outputs": [
        {
          "output_type": "execute_result",
          "data": {
            "text/plain": [
              "['A', 'B', 'C', 'A', 500, 'C']"
            ]
          },
          "metadata": {
            "tags": []
          },
          "execution_count": 5
        }
      ]
    },
    {
      "cell_type": "code",
      "metadata": {
        "id": "kspEkX1RlAOq",
        "colab_type": "code",
        "colab": {
          "base_uri": "https://localhost:8080/",
          "height": 34
        },
        "outputId": "fb998ab8-0587-454c-8c3a-0c7fd88820af"
      },
      "source": [
        "a + b + c  # Here the order is preserved and we have all the elements(includes duplicates)"
      ],
      "execution_count": null,
      "outputs": [
        {
          "output_type": "execute_result",
          "data": {
            "text/plain": [
              "[1, 2, 3, 4, 5, 'A', 'B', 'C', 'A', 500, 'C']"
            ]
          },
          "metadata": {
            "tags": []
          },
          "execution_count": 6
        }
      ]
    },
    {
      "cell_type": "code",
      "metadata": {
        "id": "kaTByW6AlRWy",
        "colab_type": "code",
        "colab": {
          "base_uri": "https://localhost:8080/",
          "height": 68
        },
        "outputId": "6d896be9-8cad-4b1c-9365-e304911a52e5"
      },
      "source": [
        "d = a + b + c \n",
        "print(d)  # re-assigning them to new variable\n",
        "print(d[-1])  # last element in the list d\n",
        "print(d[-5:])  # last 5 elements in the list d"
      ],
      "execution_count": null,
      "outputs": [
        {
          "output_type": "stream",
          "text": [
            "[1, 2, 3, 4, 5, 'A', 'B', 'C', 'A', 500, 'C']\n",
            "C\n",
            "['B', 'C', 'A', 500, 'C']\n"
          ],
          "name": "stdout"
        }
      ]
    },
    {
      "cell_type": "code",
      "metadata": {
        "id": "ns0D3CURl8kN",
        "colab_type": "code",
        "colab": {
          "base_uri": "https://localhost:8080/",
          "height": 51
        },
        "outputId": "797fa0d3-ca52-4bdc-d73d-4db3b74b824c"
      },
      "source": [
        "mylist = ['Bangalore', 'Delhi', 'Chennai', 2000, 3400.56, 'Cool']  # new list\n",
        "print(len(mylist))   # gives the length of the list\n",
        "mylist  # prints the list"
      ],
      "execution_count": null,
      "outputs": [
        {
          "output_type": "stream",
          "text": [
            "6\n"
          ],
          "name": "stdout"
        },
        {
          "output_type": "execute_result",
          "data": {
            "text/plain": [
              "['Bangalore', 'Delhi', 'Chennai', 2000, 3400.56, 'Cool']"
            ]
          },
          "metadata": {
            "tags": []
          },
          "execution_count": 15
        }
      ]
    },
    {
      "cell_type": "code",
      "metadata": {
        "id": "kRy6P6Jpmizj",
        "colab_type": "code",
        "colab": {
          "base_uri": "https://localhost:8080/",
          "height": 34
        },
        "outputId": "d2c64d9a-ae4d-4cd4-c6c2-41dbda3f448d"
      },
      "source": [
        "# Removing the items form a list\n",
        "# An object can be removed from a list by using del(), remove(), pop() functions\n",
        "\n",
        "# When  you want to del according to the index, multiple values can also be deleted\n",
        "del(mylist[5])  \n",
        "print(mylist)\n"
      ],
      "execution_count": null,
      "outputs": [
        {
          "output_type": "stream",
          "text": [
            "['Bangalore', 'Delhi', 'Chennai', 2000, 3400.56]\n"
          ],
          "name": "stdout"
        }
      ]
    },
    {
      "cell_type": "code",
      "metadata": {
        "id": "brA1tbpupOY1",
        "colab_type": "code",
        "colab": {
          "base_uri": "https://localhost:8080/",
          "height": 34
        },
        "outputId": "a5831bab-3116-45dd-fb56-94dee065bf34"
      },
      "source": [
        "del(mylist[:2])  # from starting to 2nd position  \n",
        "print(mylist)\n",
        "\n",
        "# note: 1. Only used when you don't know the element to be deleted\n",
        "#       2. Deleted using only when you know indexs\n",
        "#       3. del() function displays the element delted\n"
      ],
      "execution_count": null,
      "outputs": [
        {
          "output_type": "stream",
          "text": [
            "['Chennai', 2000, 3400.56]\n"
          ],
          "name": "stdout"
        }
      ]
    },
    {
      "cell_type": "code",
      "metadata": {
        "id": "u5Dv52qyp9iG",
        "colab_type": "code",
        "colab": {
          "base_uri": "https://localhost:8080/",
          "height": 34
        },
        "outputId": "7b839d42-8f0c-4056-dc50-d95b368ddc75"
      },
      "source": [
        "newlist = ['Hello', 2, 3, 2, 'world', 2]\n",
        "\n",
        "# when you only know the element to be deleted and doesnt know its index values\n",
        "# we use remove() function to delete it\n",
        "newlist.remove(3)  # here am removing 3, by mentioning itself in remove function\n",
        "                   # rather providing its index\n",
        "newlist\n",
        "newlist.remove(2)  # removing 2\n",
        "newlist\n",
        "# here only one duplicate of 2 is removed\n",
        "# the limitation of remove() function is, it only removes one duplicate from left hand side\n",
        "# like only first match is removed from the list"
      ],
      "execution_count": null,
      "outputs": [
        {
          "output_type": "execute_result",
          "data": {
            "text/plain": [
              "['Hello', 2, 'world', 2]"
            ]
          },
          "metadata": {
            "tags": []
          },
          "execution_count": 23
        }
      ]
    },
    {
      "cell_type": "code",
      "metadata": {
        "id": "Ysmp1YdgrdFF",
        "colab_type": "code",
        "colab": {
          "base_uri": "https://localhost:8080/",
          "height": 34
        },
        "outputId": "a9df260c-e4b4-4997-ffb5-1f7427a28b87"
      },
      "source": [
        "list1 = [1, 2, 3, 4, 5]\n",
        "list1.pop(2)\n",
        "# In case of pop() function, we provide the index value of the element to \n",
        "# be deleted, after deleting it, the value of the deleted element is displayed\n"
      ],
      "execution_count": null,
      "outputs": [
        {
          "output_type": "execute_result",
          "data": {
            "text/plain": [
              "3"
            ]
          },
          "metadata": {
            "tags": []
          },
          "execution_count": 24
        }
      ]
    },
    {
      "cell_type": "code",
      "metadata": {
        "id": "2Rx7BTDOrlQy",
        "colab_type": "code",
        "colab": {
          "base_uri": "https://localhost:8080/",
          "height": 51
        },
        "outputId": "f437964f-0ad5-4068-ddbd-e14f9b59f1b2"
      },
      "source": [
        "# Checking for an existence of an element in the list\n",
        "\n",
        "print(4 in list1)  \n",
        "# 'in' statement checks whether an element is present in the list or not\n",
        "# and returns True if it is else False\n",
        "print(9 in list1)\n"
      ],
      "execution_count": null,
      "outputs": [
        {
          "output_type": "stream",
          "text": [
            "True\n",
            "False\n"
          ],
          "name": "stdout"
        }
      ]
    },
    {
      "cell_type": "code",
      "metadata": {
        "id": "uYy8QgD1s8eb",
        "colab_type": "code",
        "colab": {
          "base_uri": "https://localhost:8080/",
          "height": 34
        },
        "outputId": "6c859c56-53cb-46ce-b130-9ae13a35c801"
      },
      "source": [
        "list2 = ['Chennai', 'Mumbai', 'Goa']\n",
        "\n",
        "'Banglore' in list2"
      ],
      "execution_count": null,
      "outputs": [
        {
          "output_type": "execute_result",
          "data": {
            "text/plain": [
              "False"
            ]
          },
          "metadata": {
            "tags": []
          },
          "execution_count": 29
        }
      ]
    },
    {
      "cell_type": "code",
      "metadata": {
        "id": "sEIJGjtdxQC-",
        "colab_type": "code",
        "colab": {
          "base_uri": "https://localhost:8080/",
          "height": 34
        },
        "outputId": "35fc075d-6724-4dbf-d16f-ac7f461e61f8"
      },
      "source": [
        "'Goa' in list2"
      ],
      "execution_count": null,
      "outputs": [
        {
          "output_type": "execute_result",
          "data": {
            "text/plain": [
              "True"
            ]
          },
          "metadata": {
            "tags": []
          },
          "execution_count": 30
        }
      ]
    },
    {
      "cell_type": "code",
      "metadata": {
        "id": "t9ieJx_cxUqm",
        "colab_type": "code",
        "colab": {
          "base_uri": "https://localhost:8080/",
          "height": 34
        },
        "outputId": "5978424e-1547-4b12-a8d7-65ea34e4e3c6"
      },
      "source": [
        "'Banglore' not in list2  # as it is not in list2 we get true"
      ],
      "execution_count": null,
      "outputs": [
        {
          "output_type": "execute_result",
          "data": {
            "text/plain": [
              "True"
            ]
          },
          "metadata": {
            "tags": []
          },
          "execution_count": 31
        }
      ]
    },
    {
      "cell_type": "code",
      "metadata": {
        "id": "RJWprzDKxcKD",
        "colab_type": "code",
        "colab": {
          "base_uri": "https://localhost:8080/",
          "height": 34
        },
        "outputId": "9aa8842d-69db-464e-e7e5-0a89c9358a90"
      },
      "source": [
        "# fetching min and max (numerical data in list)\n",
        "\n",
        "l1 = [1, 2, 3]\n",
        "max(l1), min(l1)\n",
        "# This functions doesn't work for string data"
      ],
      "execution_count": null,
      "outputs": [
        {
          "output_type": "execute_result",
          "data": {
            "text/plain": [
              "(3, 1)"
            ]
          },
          "metadata": {
            "tags": []
          },
          "execution_count": 33
        }
      ]
    },
    {
      "cell_type": "code",
      "metadata": {
        "id": "bL-WMjXg2B1t",
        "colab_type": "code",
        "colab": {
          "base_uri": "https://localhost:8080/",
          "height": 34
        },
        "outputId": "c52ca69c-d6a0-45f7-ffff-5f6c3da0f76c"
      },
      "source": [
        "# adding an element at the end: append()\n",
        "\n",
        "l1 = [1, 2, 3, 4]\n",
        "l1.append(5)  # single element can be appended at end\n",
        "# l1.append(6, 7)  # append() takes exactly one argument (2 given)\n",
        "l1"
      ],
      "execution_count": null,
      "outputs": [
        {
          "output_type": "execute_result",
          "data": {
            "text/plain": [
              "[1, 2, 3, 4, 5]"
            ]
          },
          "metadata": {
            "tags": []
          },
          "execution_count": 40
        }
      ]
    },
    {
      "cell_type": "code",
      "metadata": {
        "id": "4umKLQtJLDso",
        "colab_type": "code",
        "colab": {
          "base_uri": "https://localhost:8080/",
          "height": 34
        },
        "outputId": "aaf84f6e-cca5-4026-e3e4-4c908519beac"
      },
      "source": [
        "l1.append([6, 7])  # if we make of list of items to append and try\n",
        "l1  # we'll find results in abonormal manner\n",
        "    # i.e; a list of [6,7] is added in the existing list instead of 6, 7 elements\n",
        "    "
      ],
      "execution_count": null,
      "outputs": [
        {
          "output_type": "execute_result",
          "data": {
            "text/plain": [
              "[1, 2, 3, 4, 5, [6, 7]]"
            ]
          },
          "metadata": {
            "tags": []
          },
          "execution_count": 41
        }
      ]
    },
    {
      "cell_type": "code",
      "metadata": {
        "id": "lLvZrMmeLqb9",
        "colab_type": "code",
        "colab": {
          "base_uri": "https://localhost:8080/",
          "height": 51
        },
        "outputId": "fa0a77ed-dbb3-45c3-f3eb-ffa757794f1f"
      },
      "source": [
        "# To overcome the limitation of append()\n",
        "# we're using extend(), we pass a list of elements to be added as an ip to a list\n",
        "l1 = [1, 2, 3, 4]\n",
        "print(l1)\n",
        "l1.extend([5, 6, 7])\n",
        "l1\n",
        "# But these two functions can only add the element at end itself, not in other positions"
      ],
      "execution_count": null,
      "outputs": [
        {
          "output_type": "stream",
          "text": [
            "[1, 2, 3, 4]\n"
          ],
          "name": "stdout"
        },
        {
          "output_type": "execute_result",
          "data": {
            "text/plain": [
              "[1, 2, 3, 4, 5, 6, 7]"
            ]
          },
          "metadata": {
            "tags": []
          },
          "execution_count": 42
        }
      ]
    },
    {
      "cell_type": "code",
      "metadata": {
        "id": "OCWTeyr0MsN9",
        "colab_type": "code",
        "colab": {
          "base_uri": "https://localhost:8080/",
          "height": 51
        },
        "outputId": "85356ab3-51af-43d0-cfaf-2fc39b065107"
      },
      "source": [
        "# Here we use insert(position, value) function to acheive it\n",
        "l1 = [1, 2, 3, 4]\n",
        "print(l1)\n",
        "l1.insert(0, 0)  # inserting at position 0 with value 0\n",
        "l1\n",
        "# note: The positions of previously available elements get adjusted according to insert position\n"
      ],
      "execution_count": null,
      "outputs": [
        {
          "output_type": "stream",
          "text": [
            "[1, 2, 3, 4]\n"
          ],
          "name": "stdout"
        },
        {
          "output_type": "execute_result",
          "data": {
            "text/plain": [
              "[0, 1, 2, 3, 4]"
            ]
          },
          "metadata": {
            "tags": []
          },
          "execution_count": 45
        }
      ]
    },
    {
      "cell_type": "code",
      "metadata": {
        "id": "puSDD6RQNOKf",
        "colab_type": "code",
        "colab": {
          "base_uri": "https://localhost:8080/",
          "height": 68
        },
        "outputId": "bd84e732-7411-4316-d0b4-f19c99d0781c"
      },
      "source": [
        "# Sorting \n",
        "\n",
        "# sort() function, reorders the list based on the values it holds.\n",
        "# note: The original list gets updated after sort()\n",
        "l1 = [1, 2, 3, 4]\n",
        "print(l1)\n",
        "l1.sort()  # as the list is already sorted, will display the same output as l1\n",
        "print(l1)\n",
        "l2 = [4, 3, 2, 1]\n",
        "l2.sort()\n",
        "l2"
      ],
      "execution_count": null,
      "outputs": [
        {
          "output_type": "stream",
          "text": [
            "[1, 2, 3, 4]\n",
            "[1, 2, 3, 4]\n"
          ],
          "name": "stdout"
        },
        {
          "output_type": "execute_result",
          "data": {
            "text/plain": [
              "[1, 2, 3, 4]"
            ]
          },
          "metadata": {
            "tags": []
          },
          "execution_count": 47
        }
      ]
    },
    {
      "cell_type": "code",
      "metadata": {
        "id": "0oxDpIikOAa8",
        "colab_type": "code",
        "colab": {
          "base_uri": "https://localhost:8080/",
          "height": 51
        },
        "outputId": "b291d06d-19d5-4339-b0b1-be636e551c2e"
      },
      "source": [
        "#sorted() function, it doesnt update the actual list, rather it gives the sorted list\n",
        "l2 = [4, 3, 2, 1]\n",
        "print(sorted(l2))\n",
        "l2"
      ],
      "execution_count": null,
      "outputs": [
        {
          "output_type": "stream",
          "text": [
            "[1, 2, 3, 4]\n"
          ],
          "name": "stdout"
        },
        {
          "output_type": "execute_result",
          "data": {
            "text/plain": [
              "[4, 3, 2, 1]"
            ]
          },
          "metadata": {
            "tags": []
          },
          "execution_count": 48
        }
      ]
    },
    {
      "cell_type": "code",
      "metadata": {
        "id": "1MWWfFQqO59A",
        "colab_type": "code",
        "colab": {
          "base_uri": "https://localhost:8080/",
          "height": 102
        },
        "outputId": "7165c54a-fbe5-497b-dd7d-d9f506aa0059"
      },
      "source": [
        "# Re-assigning the  list (overwrite a value)\n",
        "# list_name[position] = value\n",
        "\n",
        "print(l2)\n",
        "l2[0] = 1 \n",
        "print(l2)\n",
        "l2[1] = 2\n",
        "print(l2)\n",
        "l2[2] = 3 \n",
        "print(l2)\n",
        "l2[3] = 4\n",
        "print(l2)"
      ],
      "execution_count": null,
      "outputs": [
        {
          "output_type": "stream",
          "text": [
            "[4, 3, 2, 1]\n",
            "[1, 3, 2, 1]\n",
            "[1, 2, 2, 1]\n",
            "[1, 2, 3, 1]\n",
            "[1, 2, 3, 4]\n"
          ],
          "name": "stdout"
        }
      ]
    },
    {
      "cell_type": "markdown",
      "metadata": {
        "id": "NELcq78IP2OL",
        "colab_type": "text"
      },
      "source": [
        "### Tuples\n",
        "\n",
        "Very similar to list(mutable), but these are immutable.\n",
        "note: Immutable are the ones which can't be updated/changed/rewritten over the actual ones(once its created then its final)\n",
        "1. Elements in tuple can't be edited once  assigned\n",
        "2. A tuple can't be appended to or extended in any way\n",
        "3. Tuples are indexed similar to lists"
      ]
    },
    {
      "cell_type": "code",
      "metadata": {
        "id": "gVRY1D-4PquN",
        "colab_type": "code",
        "colab": {
          "base_uri": "https://localhost:8080/",
          "height": 51
        },
        "outputId": "be981d15-e422-4bef-a1dd-4682bd3e3f6f"
      },
      "source": [
        "# note: we using ( ) to make tuples rather [ ]  for lists\n",
        "tuple1 = ('welcome', 21.33, 'hello world', 70.2)\n",
        "print(type(tuple1))\n",
        "tuple1"
      ],
      "execution_count": null,
      "outputs": [
        {
          "output_type": "stream",
          "text": [
            "<class 'tuple'>\n"
          ],
          "name": "stdout"
        },
        {
          "output_type": "execute_result",
          "data": {
            "text/plain": [
              "('welcome', 21.33, 'hello world', 70.2)"
            ]
          },
          "metadata": {
            "tags": []
          },
          "execution_count": 50
        }
      ]
    },
    {
      "cell_type": "code",
      "metadata": {
        "id": "-kTI0MoJRTMH",
        "colab_type": "code",
        "colab": {
          "base_uri": "https://localhost:8080/",
          "height": 163
        },
        "outputId": "9d12361d-0fb4-4636-a5aa-909ba8441bf3"
      },
      "source": [
        "#tuple1.append(5)  # trying to append value 5\n",
        "                  # 'tuple' object has no attribute 'append'"
      ],
      "execution_count": null,
      "outputs": [
        {
          "output_type": "error",
          "ename": "AttributeError",
          "evalue": "ignored",
          "traceback": [
            "\u001b[0;31m---------------------------------------------------------------------------\u001b[0m",
            "\u001b[0;31mAttributeError\u001b[0m                            Traceback (most recent call last)",
            "\u001b[0;32m<ipython-input-51-57a5733ba4ac>\u001b[0m in \u001b[0;36m<module>\u001b[0;34m()\u001b[0m\n\u001b[0;32m----> 1\u001b[0;31m \u001b[0mtuple1\u001b[0m\u001b[0;34m.\u001b[0m\u001b[0mappend\u001b[0m\u001b[0;34m(\u001b[0m\u001b[0;36m5\u001b[0m\u001b[0;34m)\u001b[0m  \u001b[0;31m# trying to append value 5\u001b[0m\u001b[0;34m\u001b[0m\u001b[0;34m\u001b[0m\u001b[0m\n\u001b[0m",
            "\u001b[0;31mAttributeError\u001b[0m: 'tuple' object has no attribute 'append'"
          ]
        }
      ]
    },
    {
      "cell_type": "code",
      "metadata": {
        "id": "bnUGOFGDRJx0",
        "colab_type": "code",
        "colab": {
          "base_uri": "https://localhost:8080/",
          "height": 68
        },
        "outputId": "6c182549-313f-450a-bd0d-d56093ad1c76"
      },
      "source": [
        "# we can apply all other operations similar as list, except mentoned above\n",
        "\n",
        "print(tuple1[0])\n",
        "print(tuple1[:2])  #  excludes the element at position 2\n",
        "print(tuple1[-1])\n"
      ],
      "execution_count": null,
      "outputs": [
        {
          "output_type": "stream",
          "text": [
            "welcome\n",
            "('welcome', 21.33)\n",
            "70.2\n"
          ],
          "name": "stdout"
        }
      ]
    },
    {
      "cell_type": "markdown",
      "metadata": {
        "id": "-wsxbTn6R4fv",
        "colab_type": "text"
      },
      "source": [
        "### Dictionaries\n",
        "1. Type of collection which contains of key, value pairs\n",
        "2. The key and values can be of any type\n",
        "3. Dictionary is indexed through the keys\n",
        "4. No duplicates allowed"
      ]
    },
    {
      "cell_type": "code",
      "metadata": {
        "id": "Y4hodiHjRoYl",
        "colab_type": "code",
        "colab": {
          "base_uri": "https://localhost:8080/",
          "height": 34
        },
        "outputId": "04d2ef3f-3ef1-4a8e-8db2-ec82cfd05f01"
      },
      "source": [
        "# we use { keys: values, ... } \n",
        "\n",
        "dict = { 'A': 1, 'B': 2, 1: 'A', 2: 'B'}\n",
        "dict, dict[1], dict['A']  # key act as an index "
      ],
      "execution_count": null,
      "outputs": [
        {
          "output_type": "execute_result",
          "data": {
            "text/plain": [
              "({1: 'A', 2: 'B', 'A': 1, 'B': 2}, 'A', 1)"
            ]
          },
          "metadata": {
            "tags": []
          },
          "execution_count": 58
        }
      ]
    },
    {
      "cell_type": "code",
      "metadata": {
        "id": "l2pKbmNDSjqs",
        "colab_type": "code",
        "colab": {
          "base_uri": "https://localhost:8080/",
          "height": 34
        },
        "outputId": "457ee1a7-d976-46f8-9910-9d1dd146b5a3"
      },
      "source": [
        "dict2 = { 'A': 1, 'B': 2, 'A': 1, 2: 'B'}  # trying to assign duplicate key;value pair\n",
        "dict2  # Check the o/p, the duplicate got ignored\n",
        "# note: it even ignores the key: value pair with same keys and different values"
      ],
      "execution_count": null,
      "outputs": [
        {
          "output_type": "execute_result",
          "data": {
            "text/plain": [
              "{2: 'B', 'A': 1, 'B': 2}"
            ]
          },
          "metadata": {
            "tags": []
          },
          "execution_count": 59
        }
      ]
    },
    {
      "cell_type": "code",
      "metadata": {
        "id": "JnSMGW_lTPeS",
        "colab_type": "code",
        "colab": {
          "base_uri": "https://localhost:8080/",
          "height": 34
        },
        "outputId": "2d6ceb24-975b-4a4b-f5ef-a4e846de4f5d"
      },
      "source": [
        "len(dict), len(dict2)  # just to check the length of dictionaries"
      ],
      "execution_count": null,
      "outputs": [
        {
          "output_type": "execute_result",
          "data": {
            "text/plain": [
              "(4, 3)"
            ]
          },
          "metadata": {
            "tags": []
          },
          "execution_count": 60
        }
      ]
    },
    {
      "cell_type": "markdown",
      "metadata": {
        "id": "DwijM4CYT_KI",
        "colab_type": "text"
      },
      "source": [
        "### Sets\n",
        "A set is an unordered collection of data type that is iterable, mutable, and has no duplicate elements\n",
        "note: combination of dictionaries and list\n"
      ]
    },
    {
      "cell_type": "code",
      "metadata": {
        "id": "UXLjymsqToVR",
        "colab_type": "code",
        "colab": {
          "base_uri": "https://localhost:8080/",
          "height": 34
        },
        "outputId": "14d868bd-7d39-4d33-cd49-a71f45556b94"
      },
      "source": [
        "# we use { }\n",
        "\n",
        "s = {'a', 1, 'b', 'c', 1, 'a', 2, 3}  # only unique values are stored, no duplicate entries\n",
        "s"
      ],
      "execution_count": null,
      "outputs": [
        {
          "output_type": "execute_result",
          "data": {
            "text/plain": [
              "{1, 2, 3, 'a', 'b', 'c'}"
            ]
          },
          "metadata": {
            "tags": []
          },
          "execution_count": 61
        }
      ]
    },
    {
      "cell_type": "markdown",
      "metadata": {
        "id": "d-EqlMymcbuL",
        "colab_type": "text"
      },
      "source": [
        "# 2. CONDITIONAL STATEMENTS\n",
        "\n",
        "> if, else  and elif"
      ]
    },
    {
      "cell_type": "code",
      "metadata": {
        "id": "96GBvoGhUff6",
        "colab_type": "code",
        "colab": {
          "base_uri": "https://localhost:8080/",
          "height": 34
        },
        "outputId": "5fbf20bc-1866-484f-975d-1a984f2add76"
      },
      "source": [
        "# only if condition\n",
        "a = 10\n",
        "if(a > 9):\n",
        "  print(a, 'is greater than 9')"
      ],
      "execution_count": null,
      "outputs": [
        {
          "output_type": "stream",
          "text": [
            "10 is greater than 9\n"
          ],
          "name": "stdout"
        }
      ]
    },
    {
      "cell_type": "code",
      "metadata": {
        "id": "xtHUsWB1cfGg",
        "colab_type": "code",
        "colab": {
          "base_uri": "https://localhost:8080/",
          "height": 34
        },
        "outputId": "9150426e-b076-4b4b-d350-1e1f06313d43"
      },
      "source": [
        "# if-else\n",
        "a = 10\n",
        "if(a > 10):\n",
        "  print(a, 'is greater than 10')\n",
        "else:\n",
        "  print(a, 'is not greater than 10')"
      ],
      "execution_count": null,
      "outputs": [
        {
          "output_type": "stream",
          "text": [
            "10 is not greater than 10\n"
          ],
          "name": "stdout"
        }
      ]
    },
    {
      "cell_type": "code",
      "metadata": {
        "id": "LL-dBnCNchtJ",
        "colab_type": "code",
        "colab": {
          "base_uri": "https://localhost:8080/",
          "height": 34
        },
        "outputId": "cd4fd3e2-0346-4aab-c47f-ced4a17540d8"
      },
      "source": [
        "# if-elif-else\n",
        "a = 10\n",
        "if(a > 10):\n",
        "  print(a, 'is greater than 10')\n",
        "elif(a < 10):\n",
        "  print(a, 'is less than 10')\n",
        "else:\n",
        "  print(a, 'is equal than 10')"
      ],
      "execution_count": null,
      "outputs": [
        {
          "output_type": "stream",
          "text": [
            "10 is equal than 10\n"
          ],
          "name": "stdout"
        }
      ]
    },
    {
      "cell_type": "code",
      "metadata": {
        "id": "9MVvCYw8cmFi",
        "colab_type": "code",
        "colab": {
          "base_uri": "https://localhost:8080/",
          "height": 170
        },
        "outputId": "fcad030a-b2a7-4d3d-87df-0855c172cd4a"
      },
      "source": [
        "age = int(input('Enter your age:'))\n",
        "qualification = input('Enter your Qualification:')\n",
        "matrial_status = input('Enter your Martial Status:')\n",
        "\n",
        "if(age < 35 and qualification == 'PG' and matrial_status == 'married'):\n",
        "  print('*' * 10)\n",
        "  print('Your age: ',age)\n",
        "  print('Qualification: ',qualification)\n",
        "  print('Martial Stauts: ',matrial_status)\n",
        "  print('Congratualitions! You\\'re qualified for ABC immigration')\n",
        "  print('*' * 10)\n",
        "elif(age > 35):\n",
        "  print('*' * 10)\n",
        "  print('Your age: ',age)\n",
        "  print('Qualification: ',qualification)\n",
        "  print('Martial Stauts: ',matrial_status)\n",
        "  print('Oops! Age bar, not applicable for ABC immigration')\n",
        "  print('*' * 10)\n",
        "elif(qualification == 'UG'):\n",
        "  print('*' * 10)\n",
        "  print('Your age: ',age)\n",
        "  print('Qualification: ',qualification)\n",
        "  print('Martial Stauts: ',matrial_status)\n",
        "  print('Oops! You\\'re underqualified to immigrate')\n",
        "  print('*' * 10)\n",
        "elif(matrial_status != 'married'):\n",
        "  print('*' * 10)\n",
        "  print('Your age: ',age)\n",
        "  print('Qualification: ',qualification)\n",
        "  print('Martial Stauts: ',matrial_status)\n",
        "  print('Oops! You have failed the martial qualification, not eligible for ABC immigration')\n",
        "  print('*' * 10)\n",
        "\n",
        "\n"
      ],
      "execution_count": null,
      "outputs": [
        {
          "output_type": "stream",
          "text": [
            "Enter your age:34\n",
            "Enter your Qualification:PG\n",
            "Enter your Martial Status:married\n",
            "**********\n",
            "Your age:  34\n",
            "Qualification:  PG\n",
            "Martial Stauts:  married\n",
            "Congratualitions! You're qualified for ABC immigration\n",
            "**********\n"
          ],
          "name": "stdout"
        }
      ]
    },
    {
      "cell_type": "markdown",
      "metadata": {
        "id": "AyBRaWVIdLgv",
        "colab_type": "text"
      },
      "source": [
        "### 3. LOOPS"
      ]
    },
    {
      "cell_type": "code",
      "metadata": {
        "id": "0Ty1bP_dcodi",
        "colab_type": "code",
        "colab": {
          "base_uri": "https://localhost:8080/",
          "height": 170
        },
        "outputId": "cecdcbd3-5798-4fc6-e8c8-cdcb68579836"
      },
      "source": [
        "# for loop\n",
        "for name in range(1, 10):\n",
        "  print('Hello')"
      ],
      "execution_count": 1,
      "outputs": [
        {
          "output_type": "stream",
          "text": [
            "Hello\n",
            "Hello\n",
            "Hello\n",
            "Hello\n",
            "Hello\n",
            "Hello\n",
            "Hello\n",
            "Hello\n",
            "Hello\n"
          ],
          "name": "stdout"
        }
      ]
    },
    {
      "cell_type": "code",
      "metadata": {
        "id": "ENI1Uy3bpRT7",
        "colab_type": "code",
        "colab": {
          "base_uri": "https://localhost:8080/",
          "height": 102
        },
        "outputId": "c26e5870-3577-4225-d8c2-c8719fe78f11"
      },
      "source": [
        "l1 = ['A', 'B', 'C', 'D', 'E']\n",
        "for name in l1:\n",
        "  invite = 'Hi ' + name + '. Please come to the party'\n",
        "  print(invite)"
      ],
      "execution_count": 4,
      "outputs": [
        {
          "output_type": "stream",
          "text": [
            "Hi A. Please come to the party\n",
            "Hi B. Please come to the party\n",
            "Hi C. Please come to the party\n",
            "Hi D. Please come to the party\n",
            "Hi E. Please come to the party\n"
          ],
          "name": "stdout"
        }
      ]
    },
    {
      "cell_type": "code",
      "metadata": {
        "id": "XnCX1dCPpxM2",
        "colab_type": "code",
        "colab": {
          "base_uri": "https://localhost:8080/",
          "height": 187
        },
        "outputId": "d9a69a29-5fa9-44b4-ad95-95b6fd1ff032"
      },
      "source": [
        "# while loop, it checks some condition\n",
        "count = 1\n",
        "while(count <= 10):\n",
        "  print(count)\n",
        "  count += 1"
      ],
      "execution_count": 5,
      "outputs": [
        {
          "output_type": "stream",
          "text": [
            "1\n",
            "2\n",
            "3\n",
            "4\n",
            "5\n",
            "6\n",
            "7\n",
            "8\n",
            "9\n",
            "10\n"
          ],
          "name": "stdout"
        }
      ]
    },
    {
      "cell_type": "code",
      "metadata": {
        "id": "FwL7a3GtqA3X",
        "colab_type": "code",
        "colab": {
          "base_uri": "https://localhost:8080/",
          "height": 34
        },
        "outputId": "ed45c9dd-a41d-4695-b506-d6729345a2d2"
      },
      "source": [
        "# nested loops\n",
        "list_ = []\n",
        "for x in range(1, 100):\n",
        "  if(x % 7 == 0):\n",
        "    list_.append(x)\n",
        "list_"
      ],
      "execution_count": 7,
      "outputs": [
        {
          "output_type": "execute_result",
          "data": {
            "text/plain": [
              "[7, 14, 21, 28, 35, 42, 49, 56, 63, 70, 77, 84, 91, 98]"
            ]
          },
          "metadata": {
            "tags": []
          },
          "execution_count": 7
        }
      ]
    },
    {
      "cell_type": "markdown",
      "metadata": {
        "id": "2Tq_h9KtsQHY",
        "colab_type": "text"
      },
      "source": [
        "# 4. FUNCTIONS"
      ]
    },
    {
      "cell_type": "code",
      "metadata": {
        "id": "lVAH7Simq0L2",
        "colab_type": "code",
        "colab": {
          "base_uri": "https://localhost:8080/",
          "height": 34
        },
        "outputId": "84478d4d-9a71-48c8-9d8d-793a351fded1"
      },
      "source": [
        "def greetings_Call():  # creating a function\n",
        "  print('Welcome I am inside the function')\n",
        "\n",
        "greetings_Call()  # calling the function"
      ],
      "execution_count": 8,
      "outputs": [
        {
          "output_type": "stream",
          "text": [
            "Welcome I am inside the function\n"
          ],
          "name": "stdout"
        }
      ]
    },
    {
      "cell_type": "code",
      "metadata": {
        "id": "7RbDTwHTsguK",
        "colab_type": "code",
        "colab": {
          "base_uri": "https://localhost:8080/",
          "height": 34
        },
        "outputId": "4558b544-96bf-4540-ef9e-023d2ea3b4d7"
      },
      "source": [
        "def sumit(a, b):\n",
        "  return a, b, a+b  # sum of a, b is a+b\n",
        "\n",
        "sumit(10, 20)"
      ],
      "execution_count": 10,
      "outputs": [
        {
          "output_type": "execute_result",
          "data": {
            "text/plain": [
              "(10, 20, 30)"
            ]
          },
          "metadata": {
            "tags": []
          },
          "execution_count": 10
        }
      ]
    },
    {
      "cell_type": "markdown",
      "metadata": {
        "id": "Yy5iw8yfuAyt",
        "colab_type": "text"
      },
      "source": [
        "### lambda"
      ]
    },
    {
      "cell_type": "code",
      "metadata": {
        "id": "Q9qJ8LKhs3-S",
        "colab_type": "code",
        "colab": {
          "base_uri": "https://localhost:8080/",
          "height": 34
        },
        "outputId": "0135787e-9cbb-4fb3-ae73-ad654d3cdd02"
      },
      "source": [
        "# lambda function\n",
        "add = lambda x, y : x + y\n",
        "add(10, 20) "
      ],
      "execution_count": 11,
      "outputs": [
        {
          "output_type": "execute_result",
          "data": {
            "text/plain": [
              "30"
            ]
          },
          "metadata": {
            "tags": []
          },
          "execution_count": 11
        }
      ]
    },
    {
      "cell_type": "code",
      "metadata": {
        "id": "tAIx9pSVtrgh",
        "colab_type": "code",
        "colab": {
          "base_uri": "https://localhost:8080/",
          "height": 34
        },
        "outputId": "1cdebabb-4ffe-4987-f6a0-9a03775983ae"
      },
      "source": [
        "a = lambda x : x % 2 == 0\n",
        "a(10)"
      ],
      "execution_count": 13,
      "outputs": [
        {
          "output_type": "execute_result",
          "data": {
            "text/plain": [
              "True"
            ]
          },
          "metadata": {
            "tags": []
          },
          "execution_count": 13
        }
      ]
    },
    {
      "cell_type": "code",
      "metadata": {
        "id": "nXCYmPu9tzQ7",
        "colab_type": "code",
        "colab": {
          "base_uri": "https://localhost:8080/",
          "height": 34
        },
        "outputId": "3c88efea-cde7-4c94-cbda-b36a38e09d13"
      },
      "source": [
        "a(21)"
      ],
      "execution_count": 14,
      "outputs": [
        {
          "output_type": "execute_result",
          "data": {
            "text/plain": [
              "False"
            ]
          },
          "metadata": {
            "tags": []
          },
          "execution_count": 14
        }
      ]
    },
    {
      "cell_type": "markdown",
      "metadata": {
        "id": "gk3foHVTuFMQ",
        "colab_type": "text"
      },
      "source": [
        "### filters"
      ]
    },
    {
      "cell_type": "code",
      "metadata": {
        "id": "xyAmmvrjt2d2",
        "colab_type": "code",
        "colab": {
          "base_uri": "https://localhost:8080/",
          "height": 34
        },
        "outputId": "6e660104-babf-4e19-c870-ebbed479d3fe"
      },
      "source": [
        "# syntax  = filter(function, sequence)\n",
        "# the functon is applied on the sequnece and the values/content is filtered based on the functionn\n",
        "l1 = [5, 7, 32, 97, 54, 62, 61, 3248]\n",
        "final_list = list(filter(lambda x : (x % 2 == 0), l1))\n",
        "final_list\n",
        "# using filter we can't compute anything, rather we only decide either it is true or false"
      ],
      "execution_count": 16,
      "outputs": [
        {
          "output_type": "execute_result",
          "data": {
            "text/plain": [
              "[32, 54, 62, 3248]"
            ]
          },
          "metadata": {
            "tags": []
          },
          "execution_count": 16
        }
      ]
    },
    {
      "cell_type": "markdown",
      "metadata": {
        "id": "JusNn2MhviXO",
        "colab_type": "text"
      },
      "source": [
        "### map"
      ]
    },
    {
      "cell_type": "code",
      "metadata": {
        "id": "GJ0xUzaTuzyc",
        "colab_type": "code",
        "colab": {
          "base_uri": "https://localhost:8080/",
          "height": 34
        },
        "outputId": "2192ea37-9685-4d7b-dbd7-a0e979d21d22"
      },
      "source": [
        "# so we use map, calculate and stores it\n",
        "# map(function, sequence)\n",
        "varlist = [0, 10, 0, 30, 1]\n",
        "out = list(map(lambda x: x * 10, varlist))\n",
        "out"
      ],
      "execution_count": 17,
      "outputs": [
        {
          "output_type": "execute_result",
          "data": {
            "text/plain": [
              "[0, 100, 0, 300, 10]"
            ]
          },
          "metadata": {
            "tags": []
          },
          "execution_count": 17
        }
      ]
    },
    {
      "cell_type": "markdown",
      "metadata": {
        "id": "TEmvMWthv6Y0",
        "colab_type": "text"
      },
      "source": [
        "### reducer"
      ]
    },
    {
      "cell_type": "code",
      "metadata": {
        "id": "HSn8OP59vyUB",
        "colab_type": "code",
        "colab": {
          "base_uri": "https://localhost:8080/",
          "height": 34
        },
        "outputId": "1b12aef7-dfe3-42e4-d4e8-56f3e8ba91cb"
      },
      "source": [
        "import functools as f  # reduce function is in\n",
        "import operator as o  # add fuction is in\n",
        "l1 = [5, 8, 10, 20, 50, 100]  \n",
        "# 5 + 8 = 13, store 13\n",
        "# 13 + 10 = 23, store 23\n",
        "# go on,unitl nothing is left to add and it doesnt update the list, rather update the sum value\n",
        "sum = f.reduce(o.add, l1)  # reduce(function, sequence)\n",
        "sum"
      ],
      "execution_count": 19,
      "outputs": [
        {
          "output_type": "execute_result",
          "data": {
            "text/plain": [
              "193"
            ]
          },
          "metadata": {
            "tags": []
          },
          "execution_count": 19
        }
      ]
    },
    {
      "cell_type": "markdown",
      "metadata": {
        "id": "Wm1Af6Knw4ch",
        "colab_type": "text"
      },
      "source": [
        "### accumulator"
      ]
    },
    {
      "cell_type": "code",
      "metadata": {
        "id": "nUhTPZk_wKYi",
        "colab_type": "code",
        "colab": {
          "base_uri": "https://localhost:8080/",
          "height": 34
        },
        "outputId": "a646fc50-a93a-46aa-c394-f4552e5375e3"
      },
      "source": [
        "import itertools as i\n",
        "l1 = [1, 3, 4, 10, 4]\n",
        "print(list(i.accumulate(l1, lambda x, y : x+y)))\n",
        "# consider two arguments form the list and add them up"
      ],
      "execution_count": 20,
      "outputs": [
        {
          "output_type": "stream",
          "text": [
            "[1, 4, 8, 18, 22]\n"
          ],
          "name": "stdout"
        }
      ]
    },
    {
      "cell_type": "code",
      "metadata": {
        "id": "ayowo7UGxUSR",
        "colab_type": "code",
        "colab": {
          "base_uri": "https://localhost:8080/",
          "height": 34
        },
        "outputId": "2d5ebd72-d16f-4869-98b1-09786378bbdd"
      },
      "source": [
        "print(list(i.accumulate(l1, lambda x, y : x*y)))"
      ],
      "execution_count": 21,
      "outputs": [
        {
          "output_type": "stream",
          "text": [
            "[1, 3, 12, 120, 480]\n"
          ],
          "name": "stdout"
        }
      ]
    },
    {
      "cell_type": "code",
      "metadata": {
        "id": "Wpf2oe58xfgq",
        "colab_type": "code",
        "colab": {}
      },
      "source": [
        ""
      ],
      "execution_count": null,
      "outputs": []
    }
  ]
}