{
  "nbformat": 4,
  "nbformat_minor": 0,
  "metadata": {
    "colab": {
      "name": "Numpy-Pandas.ipynb",
      "provenance": [],
      "authorship_tag": "ABX9TyPngZrSgDse3jnLosoJFE7r",
      "include_colab_link": true
    },
    "kernelspec": {
      "name": "python3",
      "display_name": "Python 3"
    }
  },
  "cells": [
    {
      "cell_type": "markdown",
      "metadata": {
        "id": "view-in-github",
        "colab_type": "text"
      },
      "source": [
        "<a href=\"https://colab.research.google.com/github/AdicherlaVenkataSai/PyforML/blob/master/Numpy_Pandas.ipynb\" target=\"_parent\"><img src=\"https://colab.research.google.com/assets/colab-badge.svg\" alt=\"Open In Colab\"/></a>"
      ]
    },
    {
      "cell_type": "markdown",
      "metadata": {
        "id": "mpXceg6pfcv4",
        "colab_type": "text"
      },
      "source": [
        "1. vector is one dimensional array\n",
        "2. matrics is two dimensional array\n",
        "3. tensor is any array greater than 2 dimensions"
      ]
    },
    {
      "cell_type": "markdown",
      "metadata": {
        "id": "LEFTpzqyfcm3",
        "colab_type": "text"
      },
      "source": [
        "\n",
        "# Numpy\n",
        "1. Its a python package for doing math(advance), some special functions(sine, cosine, exponential, sqrt)\n",
        "2. generating samples from many type of random variables\n",
        "3. linear algebra, matric multiplication and matric-vector multiplication\n"
      ]
    },
    {
      "cell_type": "code",
      "metadata": {
        "id": "Gh6WLeFve2JW",
        "colab_type": "code",
        "colab": {}
      },
      "source": [
        "import numpy as np  # aliasing "
      ],
      "execution_count": 2,
      "outputs": []
    },
    {
      "cell_type": "code",
      "metadata": {
        "id": "Au1GZxaEgl5M",
        "colab_type": "code",
        "colab": {
          "base_uri": "https://localhost:8080/",
          "height": 68
        },
        "outputId": "652b8d22-8906-4c7a-d7af-972a4a6c0cc1"
      },
      "source": [
        "print(np.cos(np.pi))  # cos(pi) = -1\n",
        "print(np.sqrt(1.21))  # 1.1\n",
        "print(np.log(np.exp(5.2)))  # natural log base e with exponetial of number gives the number"
      ],
      "execution_count": 3,
      "outputs": [
        {
          "output_type": "stream",
          "text": [
            "-1.0\n",
            "1.1\n",
            "5.2\n"
          ],
          "name": "stdout"
        }
      ]
    },
    {
      "cell_type": "code",
      "metadata": {
        "id": "PaSCWupcg9e0",
        "colab_type": "code",
        "colab": {
          "base_uri": "https://localhost:8080/",
          "height": 85
        },
        "outputId": "0ac7aa9f-d25c-4e23-d3de-a5f69330e669"
      },
      "source": [
        "# creating a numpy array\n",
        "print(np.array([1, 2,3]))  # list to array\n",
        "\n",
        "# creating matrices\n",
        "print(np.array([[1, 2,3], [4, 5, 6], [7, 8, 9]]))  # lists to matrix"
      ],
      "execution_count": 4,
      "outputs": [
        {
          "output_type": "stream",
          "text": [
            "[1 2 3]\n",
            "[[1 2 3]\n",
            " [4 5 6]\n",
            " [7 8 9]]\n"
          ],
          "name": "stdout"
        }
      ]
    },
    {
      "cell_type": "code",
      "metadata": {
        "id": "VZ6nXdethhLD",
        "colab_type": "code",
        "colab": {
          "base_uri": "https://localhost:8080/",
          "height": 68
        },
        "outputId": "63e16ed4-166f-4dbe-b8c9-b94802610672"
      },
      "source": [
        "matrix = np.array([[1, 2,3], [4, 5, 6], [7, 8, 9]])\n",
        "print(matrix.T)  # gives the transpose of it"
      ],
      "execution_count": 5,
      "outputs": [
        {
          "output_type": "stream",
          "text": [
            "[[1 4 7]\n",
            " [2 5 8]\n",
            " [3 6 9]]\n"
          ],
          "name": "stdout"
        }
      ]
    },
    {
      "cell_type": "code",
      "metadata": {
        "id": "cw4RAXSQh32b",
        "colab_type": "code",
        "colab": {
          "base_uri": "https://localhost:8080/",
          "height": 34
        },
        "outputId": "dad6ad29-2614-4cea-b9d6-26214d9d49e2"
      },
      "source": [
        "vector1 = np.arange(0,15)  # arange() similar like range , a\n",
        "vector1"
      ],
      "execution_count": 6,
      "outputs": [
        {
          "output_type": "execute_result",
          "data": {
            "text/plain": [
              "array([ 0,  1,  2,  3,  4,  5,  6,  7,  8,  9, 10, 11, 12, 13, 14])"
            ]
          },
          "metadata": {
            "tags": []
          },
          "execution_count": 6
        }
      ]
    },
    {
      "cell_type": "code",
      "metadata": {
        "id": "JM5eeX1ZkN_j",
        "colab_type": "code",
        "colab": {
          "base_uri": "https://localhost:8080/",
          "height": 51
        },
        "outputId": "6238bd19-d895-4434-9f8d-c3b6a300cb3e"
      },
      "source": [
        "vector2 = np.arange(0,45,5)  # step size is provided\n",
        "vector2, print(vector2)"
      ],
      "execution_count": 7,
      "outputs": [
        {
          "output_type": "stream",
          "text": [
            "[ 0  5 10 15 20 25 30 35 40]\n"
          ],
          "name": "stdout"
        },
        {
          "output_type": "execute_result",
          "data": {
            "text/plain": [
              "(array([ 0,  5, 10, 15, 20, 25, 30, 35, 40]), None)"
            ]
          },
          "metadata": {
            "tags": []
          },
          "execution_count": 7
        }
      ]
    },
    {
      "cell_type": "code",
      "metadata": {
        "id": "lX2T88wBkYeV",
        "colab_type": "code",
        "colab": {
          "base_uri": "https://localhost:8080/",
          "height": 136
        },
        "outputId": "1c7300ec-3d82-4a83-8ac8-189320758c7f"
      },
      "source": [
        "# np.linspace(starting pt(included), ending pt(included), no of points reqired(entries))\n",
        "vector3 = np.linspace(0, 5, 10) \n",
        "vector3, print(vector3.reshape(5,2))\n",
        "# reshape(rows, cols), it returns a matrix but it doesnt update vector\n",
        "print(vector3)"
      ],
      "execution_count": 8,
      "outputs": [
        {
          "output_type": "stream",
          "text": [
            "[[0.         0.55555556]\n",
            " [1.11111111 1.66666667]\n",
            " [2.22222222 2.77777778]\n",
            " [3.33333333 3.88888889]\n",
            " [4.44444444 5.        ]]\n",
            "[0.         0.55555556 1.11111111 1.66666667 2.22222222 2.77777778\n",
            " 3.33333333 3.88888889 4.44444444 5.        ]\n"
          ],
          "name": "stdout"
        }
      ]
    },
    {
      "cell_type": "code",
      "metadata": {
        "id": "wZyLCwZvlMzO",
        "colab_type": "code",
        "colab": {
          "base_uri": "https://localhost:8080/",
          "height": 51
        },
        "outputId": "2d0af11d-495f-49d1-e68a-a3b5d567df9f"
      },
      "source": [
        "vector3_reshaped = vector3.reshape(2,5)\n",
        "vector3_reshaped"
      ],
      "execution_count": 9,
      "outputs": [
        {
          "output_type": "execute_result",
          "data": {
            "text/plain": [
              "array([[0.        , 0.55555556, 1.11111111, 1.66666667, 2.22222222],\n",
              "       [2.77777778, 3.33333333, 3.88888889, 4.44444444, 5.        ]])"
            ]
          },
          "metadata": {
            "tags": []
          },
          "execution_count": 9
        }
      ]
    },
    {
      "cell_type": "code",
      "metadata": {
        "id": "1qjMcvJYmwgp",
        "colab_type": "code",
        "colab": {
          "base_uri": "https://localhost:8080/",
          "height": 136
        },
        "outputId": "768bafd9-76ef-4956-e551-3afbdd8b5767"
      },
      "source": [
        "random_vector = np.random.randn(15)  # perfect distribution\n",
        "\n",
        "print(random_vector)\n",
        "print(random_vector > 0)  # returns the logicals\n",
        "print(random_vector[random_vector > 0])  # gives only values that satisfies the condition"
      ],
      "execution_count": 10,
      "outputs": [
        {
          "output_type": "stream",
          "text": [
            "[-0.00303312 -0.93333845 -0.85902392 -0.42629624 -0.47029055 -0.59773346\n",
            " -0.17217695  0.90666157 -0.11701817  0.27748593  2.13810615  1.03392123\n",
            "  1.2768089   0.16854739  0.28759968]\n",
            "[False False False False False False False  True False  True  True  True\n",
            "  True  True  True]\n",
            "[0.90666157 0.27748593 2.13810615 1.03392123 1.2768089  0.16854739\n",
            " 0.28759968]\n"
          ],
          "name": "stdout"
        }
      ]
    },
    {
      "cell_type": "code",
      "metadata": {
        "id": "gsVY8Xjuni2p",
        "colab_type": "code",
        "colab": {
          "base_uri": "https://localhost:8080/",
          "height": 136
        },
        "outputId": "ce7b584c-7a88-437f-ea65-73c2410eb98f"
      },
      "source": [
        "print(random_vector)\n",
        "random_vector[random_vector > 0.5] = -5\n",
        "print(random_vector)"
      ],
      "execution_count": 11,
      "outputs": [
        {
          "output_type": "stream",
          "text": [
            "[-0.00303312 -0.93333845 -0.85902392 -0.42629624 -0.47029055 -0.59773346\n",
            " -0.17217695  0.90666157 -0.11701817  0.27748593  2.13810615  1.03392123\n",
            "  1.2768089   0.16854739  0.28759968]\n",
            "[-3.03311825e-03 -9.33338445e-01 -8.59023918e-01 -4.26296238e-01\n",
            " -4.70290554e-01 -5.97733460e-01 -1.72176949e-01 -5.00000000e+00\n",
            " -1.17018172e-01  2.77485928e-01 -5.00000000e+00 -5.00000000e+00\n",
            " -5.00000000e+00  1.68547392e-01  2.87599684e-01]\n"
          ],
          "name": "stdout"
        }
      ]
    },
    {
      "cell_type": "markdown",
      "metadata": {
        "id": "IYl8ysQKpUQE",
        "colab_type": "text"
      },
      "source": [
        "# Pandas\n",
        "1. Managing data\n",
        "2. creates 2 new data types for slicing data: series and dataframe(excel sheet)\n",
        "3. dataframe is more robust type for storing the data, more flexible than numpy arrays\n",
        "4. It also has SQL-like functions for merging, joining and sorting dfs\n"
      ]
    },
    {
      "cell_type": "code",
      "metadata": {
        "id": "XBHLXqfIobEC",
        "colab_type": "code",
        "colab": {}
      },
      "source": [
        "import pandas as pd\n",
        "import numpy as np"
      ],
      "execution_count": 12,
      "outputs": []
    },
    {
      "cell_type": "code",
      "metadata": {
        "id": "ntQaIrC2rnut",
        "colab_type": "code",
        "colab": {
          "base_uri": "https://localhost:8080/",
          "height": 34
        },
        "outputId": "255d7048-d52c-4510-fa7c-d768b8aeb8ff"
      },
      "source": [
        "# series is a individual column in a df\n",
        "mylist = [5.4, 6.1, 1.7, 99.8]\n",
        "myarray = np.array(mylist)\n",
        "mylist, myarray"
      ],
      "execution_count": 13,
      "outputs": [
        {
          "output_type": "execute_result",
          "data": {
            "text/plain": [
              "([5.4, 6.1, 1.7, 99.8], array([ 5.4,  6.1,  1.7, 99.8]))"
            ]
          },
          "metadata": {
            "tags": []
          },
          "execution_count": 13
        }
      ]
    },
    {
      "cell_type": "code",
      "metadata": {
        "id": "cR9uts5EsAmO",
        "colab_type": "code",
        "colab": {
          "base_uri": "https://localhost:8080/",
          "height": 187
        },
        "outputId": "7f951746-41ed-4d6a-c4d1-49b23d366c40"
      },
      "source": [
        "series1 = pd.Series(data = mylist)\n",
        "print(series1)\n",
        "series2 = pd.Series(data = myarray)\n",
        "series2\n",
        "# here we have same op after converting list, numpy array as Series"
      ],
      "execution_count": 14,
      "outputs": [
        {
          "output_type": "stream",
          "text": [
            "0     5.4\n",
            "1     6.1\n",
            "2     1.7\n",
            "3    99.8\n",
            "dtype: float64\n"
          ],
          "name": "stdout"
        },
        {
          "output_type": "execute_result",
          "data": {
            "text/plain": [
              "0     5.4\n",
              "1     6.1\n",
              "2     1.7\n",
              "3    99.8\n",
              "dtype: float64"
            ]
          },
          "metadata": {
            "tags": []
          },
          "execution_count": 14
        }
      ]
    },
    {
      "cell_type": "code",
      "metadata": {
        "id": "6j_hEfEisadZ",
        "colab_type": "code",
        "colab": {
          "base_uri": "https://localhost:8080/",
          "height": 34
        },
        "outputId": "6f1756a2-891f-43c4-c2a3-2eadaa2aef1c"
      },
      "source": [
        "series1[2]  # accessing using indexs"
      ],
      "execution_count": 15,
      "outputs": [
        {
          "output_type": "execute_result",
          "data": {
            "text/plain": [
              "1.7"
            ]
          },
          "metadata": {
            "tags": []
          },
          "execution_count": 15
        }
      ]
    },
    {
      "cell_type": "code",
      "metadata": {
        "id": "q38DEcSvs3a9",
        "colab_type": "code",
        "colab": {
          "base_uri": "https://localhost:8080/",
          "height": 102
        },
        "outputId": "7bf5bf3e-821a-4b54-8c10-73ac85e8be75"
      },
      "source": [
        "# we can change the indexs\n",
        "mylabels = ['red', 'white', 'blue', 'gray']\n",
        "series3 = pd.Series(data = mylist, index = mylabels)\n",
        "series3"
      ],
      "execution_count": 16,
      "outputs": [
        {
          "output_type": "execute_result",
          "data": {
            "text/plain": [
              "red       5.4\n",
              "white     6.1\n",
              "blue      1.7\n",
              "gray     99.8\n",
              "dtype: float64"
            ]
          },
          "metadata": {
            "tags": []
          },
          "execution_count": 16
        }
      ]
    },
    {
      "cell_type": "code",
      "metadata": {
        "id": "QqQh78-4tRZ6",
        "colab_type": "code",
        "colab": {
          "base_uri": "https://localhost:8080/",
          "height": 102
        },
        "outputId": "de0751ff-f62e-4478-e99f-3db2529b606e"
      },
      "source": [
        "# even we can write in this way also\n",
        "series4 = pd.Series(mylist, mylabels)\n",
        "series4"
      ],
      "execution_count": 17,
      "outputs": [
        {
          "output_type": "execute_result",
          "data": {
            "text/plain": [
              "red       5.4\n",
              "white     6.1\n",
              "blue      1.7\n",
              "gray     99.8\n",
              "dtype: float64"
            ]
          },
          "metadata": {
            "tags": []
          },
          "execution_count": 17
        }
      ]
    },
    {
      "cell_type": "code",
      "metadata": {
        "id": "WR54AT2PtnZf",
        "colab_type": "code",
        "colab": {
          "base_uri": "https://localhost:8080/",
          "height": 34
        },
        "outputId": "d20f3666-1834-41e8-d036-d6b67323935c"
      },
      "source": [
        "# even we can also index using new labels\n",
        "series4['white']"
      ],
      "execution_count": 18,
      "outputs": [
        {
          "output_type": "execute_result",
          "data": {
            "text/plain": [
              "6.1"
            ]
          },
          "metadata": {
            "tags": []
          },
          "execution_count": 18
        }
      ]
    },
    {
      "cell_type": "code",
      "metadata": {
        "id": "TNCGoYDCtzXF",
        "colab_type": "code",
        "colab": {
          "base_uri": "https://localhost:8080/",
          "height": 102
        },
        "outputId": "b75d6fcc-1b58-45ee-f8a7-137e2b2add9c"
      },
      "source": [
        "# calculation on series\n",
        "series5 = pd.Series([5.4, 1.1, 8.0, 1.6])\n",
        "series1 + series5  # adding series 1 and 5"
      ],
      "execution_count": 19,
      "outputs": [
        {
          "output_type": "execute_result",
          "data": {
            "text/plain": [
              "0     10.8\n",
              "1      7.2\n",
              "2      9.7\n",
              "3    101.4\n",
              "dtype: float64"
            ]
          },
          "metadata": {
            "tags": []
          },
          "execution_count": 19
        }
      ]
    },
    {
      "cell_type": "code",
      "metadata": {
        "id": "lY11yLLnuJX0",
        "colab_type": "code",
        "colab": {
          "base_uri": "https://localhost:8080/",
          "height": 297
        },
        "outputId": "975c302f-be4f-4960-f420-37d692f04a0a"
      },
      "source": [
        "# axis = 0: rows, axis = 1: cols\n",
        "# if sort = True it'll be in alphabetical order\n",
        "df1 = pd.concat([series4,series5], axis = 1, sort = False) \n",
        "df1"
      ],
      "execution_count": 20,
      "outputs": [
        {
          "output_type": "execute_result",
          "data": {
            "text/html": [
              "<div>\n",
              "<style scoped>\n",
              "    .dataframe tbody tr th:only-of-type {\n",
              "        vertical-align: middle;\n",
              "    }\n",
              "\n",
              "    .dataframe tbody tr th {\n",
              "        vertical-align: top;\n",
              "    }\n",
              "\n",
              "    .dataframe thead th {\n",
              "        text-align: right;\n",
              "    }\n",
              "</style>\n",
              "<table border=\"1\" class=\"dataframe\">\n",
              "  <thead>\n",
              "    <tr style=\"text-align: right;\">\n",
              "      <th></th>\n",
              "      <th>0</th>\n",
              "      <th>1</th>\n",
              "    </tr>\n",
              "  </thead>\n",
              "  <tbody>\n",
              "    <tr>\n",
              "      <th>0</th>\n",
              "      <td>NaN</td>\n",
              "      <td>5.4</td>\n",
              "    </tr>\n",
              "    <tr>\n",
              "      <th>1</th>\n",
              "      <td>NaN</td>\n",
              "      <td>1.1</td>\n",
              "    </tr>\n",
              "    <tr>\n",
              "      <th>2</th>\n",
              "      <td>NaN</td>\n",
              "      <td>8.0</td>\n",
              "    </tr>\n",
              "    <tr>\n",
              "      <th>3</th>\n",
              "      <td>NaN</td>\n",
              "      <td>1.6</td>\n",
              "    </tr>\n",
              "    <tr>\n",
              "      <th>blue</th>\n",
              "      <td>1.7</td>\n",
              "      <td>NaN</td>\n",
              "    </tr>\n",
              "    <tr>\n",
              "      <th>gray</th>\n",
              "      <td>99.8</td>\n",
              "      <td>NaN</td>\n",
              "    </tr>\n",
              "    <tr>\n",
              "      <th>red</th>\n",
              "      <td>5.4</td>\n",
              "      <td>NaN</td>\n",
              "    </tr>\n",
              "    <tr>\n",
              "      <th>white</th>\n",
              "      <td>6.1</td>\n",
              "      <td>NaN</td>\n",
              "    </tr>\n",
              "  </tbody>\n",
              "</table>\n",
              "</div>"
            ],
            "text/plain": [
              "          0    1\n",
              "0       NaN  5.4\n",
              "1       NaN  1.1\n",
              "2       NaN  8.0\n",
              "3       NaN  1.6\n",
              "blue    1.7  NaN\n",
              "gray   99.8  NaN\n",
              "red     5.4  NaN\n",
              "white   6.1  NaN"
            ]
          },
          "metadata": {
            "tags": []
          },
          "execution_count": 20
        }
      ]
    },
    {
      "cell_type": "code",
      "metadata": {
        "id": "hto3zGekvNKx",
        "colab_type": "code",
        "colab": {
          "base_uri": "https://localhost:8080/",
          "height": 204
        },
        "outputId": "f51480f6-087b-4750-8252-b295710ad3bc"
      },
      "source": [
        "df2 = pd.DataFrame(np.random.randn(5, 5))\n",
        "df2"
      ],
      "execution_count": 21,
      "outputs": [
        {
          "output_type": "execute_result",
          "data": {
            "text/html": [
              "<div>\n",
              "<style scoped>\n",
              "    .dataframe tbody tr th:only-of-type {\n",
              "        vertical-align: middle;\n",
              "    }\n",
              "\n",
              "    .dataframe tbody tr th {\n",
              "        vertical-align: top;\n",
              "    }\n",
              "\n",
              "    .dataframe thead th {\n",
              "        text-align: right;\n",
              "    }\n",
              "</style>\n",
              "<table border=\"1\" class=\"dataframe\">\n",
              "  <thead>\n",
              "    <tr style=\"text-align: right;\">\n",
              "      <th></th>\n",
              "      <th>0</th>\n",
              "      <th>1</th>\n",
              "      <th>2</th>\n",
              "      <th>3</th>\n",
              "      <th>4</th>\n",
              "    </tr>\n",
              "  </thead>\n",
              "  <tbody>\n",
              "    <tr>\n",
              "      <th>0</th>\n",
              "      <td>0.914682</td>\n",
              "      <td>0.470832</td>\n",
              "      <td>0.951208</td>\n",
              "      <td>1.887976</td>\n",
              "      <td>0.204011</td>\n",
              "    </tr>\n",
              "    <tr>\n",
              "      <th>1</th>\n",
              "      <td>1.079866</td>\n",
              "      <td>-1.041780</td>\n",
              "      <td>-1.084888</td>\n",
              "      <td>0.624126</td>\n",
              "      <td>0.410688</td>\n",
              "    </tr>\n",
              "    <tr>\n",
              "      <th>2</th>\n",
              "      <td>-1.889438</td>\n",
              "      <td>0.605756</td>\n",
              "      <td>-0.994759</td>\n",
              "      <td>-1.471385</td>\n",
              "      <td>0.549526</td>\n",
              "    </tr>\n",
              "    <tr>\n",
              "      <th>3</th>\n",
              "      <td>-0.904066</td>\n",
              "      <td>-0.169683</td>\n",
              "      <td>-0.813442</td>\n",
              "      <td>1.349411</td>\n",
              "      <td>0.689150</td>\n",
              "    </tr>\n",
              "    <tr>\n",
              "      <th>4</th>\n",
              "      <td>0.532224</td>\n",
              "      <td>0.637817</td>\n",
              "      <td>1.300404</td>\n",
              "      <td>1.948607</td>\n",
              "      <td>1.519273</td>\n",
              "    </tr>\n",
              "  </tbody>\n",
              "</table>\n",
              "</div>"
            ],
            "text/plain": [
              "          0         1         2         3         4\n",
              "0  0.914682  0.470832  0.951208  1.887976  0.204011\n",
              "1  1.079866 -1.041780 -1.084888  0.624126  0.410688\n",
              "2 -1.889438  0.605756 -0.994759 -1.471385  0.549526\n",
              "3 -0.904066 -0.169683 -0.813442  1.349411  0.689150\n",
              "4  0.532224  0.637817  1.300404  1.948607  1.519273"
            ]
          },
          "metadata": {
            "tags": []
          },
          "execution_count": 21
        }
      ]
    },
    {
      "cell_type": "code",
      "metadata": {
        "id": "kgGDrOxkv59u",
        "colab_type": "code",
        "colab": {
          "base_uri": "https://localhost:8080/",
          "height": 204
        },
        "outputId": "26fd368e-f1af-436e-b039-c3139f204cb7"
      },
      "source": [
        "# index = row lables, columns = cols labels\n",
        "df3 = pd.DataFrame(np.random.randn(5, 5), index = ['first R', 'second R', 'third R', 'fourth R', 'fifth R'], columns = ['first C', 'second C', 'third C', 'fourth C', 'fifth C'])\n",
        "df3"
      ],
      "execution_count": 22,
      "outputs": [
        {
          "output_type": "execute_result",
          "data": {
            "text/html": [
              "<div>\n",
              "<style scoped>\n",
              "    .dataframe tbody tr th:only-of-type {\n",
              "        vertical-align: middle;\n",
              "    }\n",
              "\n",
              "    .dataframe tbody tr th {\n",
              "        vertical-align: top;\n",
              "    }\n",
              "\n",
              "    .dataframe thead th {\n",
              "        text-align: right;\n",
              "    }\n",
              "</style>\n",
              "<table border=\"1\" class=\"dataframe\">\n",
              "  <thead>\n",
              "    <tr style=\"text-align: right;\">\n",
              "      <th></th>\n",
              "      <th>first C</th>\n",
              "      <th>second C</th>\n",
              "      <th>third C</th>\n",
              "      <th>fourth C</th>\n",
              "      <th>fifth C</th>\n",
              "    </tr>\n",
              "  </thead>\n",
              "  <tbody>\n",
              "    <tr>\n",
              "      <th>first R</th>\n",
              "      <td>0.102460</td>\n",
              "      <td>1.920491</td>\n",
              "      <td>-1.305816</td>\n",
              "      <td>-0.269105</td>\n",
              "      <td>0.790597</td>\n",
              "    </tr>\n",
              "    <tr>\n",
              "      <th>second R</th>\n",
              "      <td>-0.189728</td>\n",
              "      <td>0.996689</td>\n",
              "      <td>-0.741356</td>\n",
              "      <td>0.227088</td>\n",
              "      <td>1.187489</td>\n",
              "    </tr>\n",
              "    <tr>\n",
              "      <th>third R</th>\n",
              "      <td>-2.199147</td>\n",
              "      <td>1.317541</td>\n",
              "      <td>-0.267268</td>\n",
              "      <td>-0.510097</td>\n",
              "      <td>0.248813</td>\n",
              "    </tr>\n",
              "    <tr>\n",
              "      <th>fourth R</th>\n",
              "      <td>0.024197</td>\n",
              "      <td>0.888772</td>\n",
              "      <td>0.758566</td>\n",
              "      <td>0.548187</td>\n",
              "      <td>-2.081272</td>\n",
              "    </tr>\n",
              "    <tr>\n",
              "      <th>fifth R</th>\n",
              "      <td>1.427292</td>\n",
              "      <td>0.257247</td>\n",
              "      <td>0.929275</td>\n",
              "      <td>0.973147</td>\n",
              "      <td>-0.805985</td>\n",
              "    </tr>\n",
              "  </tbody>\n",
              "</table>\n",
              "</div>"
            ],
            "text/plain": [
              "           first C  second C   third C  fourth C   fifth C\n",
              "first R   0.102460  1.920491 -1.305816 -0.269105  0.790597\n",
              "second R -0.189728  0.996689 -0.741356  0.227088  1.187489\n",
              "third R  -2.199147  1.317541 -0.267268 -0.510097  0.248813\n",
              "fourth R  0.024197  0.888772  0.758566  0.548187 -2.081272\n",
              "fifth R   1.427292  0.257247  0.929275  0.973147 -0.805985"
            ]
          },
          "metadata": {
            "tags": []
          },
          "execution_count": 22
        }
      ]
    },
    {
      "cell_type": "code",
      "metadata": {
        "id": "nZOcmS76wX_3",
        "colab_type": "code",
        "colab": {
          "base_uri": "https://localhost:8080/",
          "height": 221
        },
        "outputId": "d3b0ec1b-6074-4414-cfda-ebc1d68b50ef"
      },
      "source": [
        "# accessing individual series in a dataframe\n",
        "# dataframe is list of list, so we can't directly access the rows using []\n",
        "print(df3['second C'])  # column [] : it's a series\n",
        "print(df3[['first C', 'third C']])  # column [] : it's a dataframe"
      ],
      "execution_count": 23,
      "outputs": [
        {
          "output_type": "stream",
          "text": [
            "first R     1.920491\n",
            "second R    0.996689\n",
            "third R     1.317541\n",
            "fourth R    0.888772\n",
            "fifth R     0.257247\n",
            "Name: second C, dtype: float64\n",
            "           first C   third C\n",
            "first R   0.102460 -1.305816\n",
            "second R -0.189728 -0.741356\n",
            "third R  -2.199147 -0.267268\n",
            "fourth R  0.024197  0.758566\n",
            "fifth R   1.427292  0.929275\n"
          ],
          "name": "stdout"
        }
      ]
    },
    {
      "cell_type": "code",
      "metadata": {
        "id": "KIFXvAmhw6ho",
        "colab_type": "code",
        "colab": {
          "base_uri": "https://localhost:8080/",
          "height": 119
        },
        "outputId": "fee4d0e2-2314-4ad9-e7ce-41e0d9d7f18e"
      },
      "source": [
        "# two access rows of a dataframe\n",
        "df3.loc['first R']"
      ],
      "execution_count": 24,
      "outputs": [
        {
          "output_type": "execute_result",
          "data": {
            "text/plain": [
              "first C     0.102460\n",
              "second C    1.920491\n",
              "third C    -1.305816\n",
              "fourth C   -0.269105\n",
              "fifth C     0.790597\n",
              "Name: first R, dtype: float64"
            ]
          },
          "metadata": {
            "tags": []
          },
          "execution_count": 24
        }
      ]
    },
    {
      "cell_type": "code",
      "metadata": {
        "id": "_-3lWr0OyR0I",
        "colab_type": "code",
        "colab": {
          "base_uri": "https://localhost:8080/",
          "height": 119
        },
        "outputId": "20d2a6e7-eade-41f2-feee-31dd89585f45"
      },
      "source": [
        "df3.iloc[0]  # even though we renamed the labels, still we can access with the indexs starting form 0"
      ],
      "execution_count": 25,
      "outputs": [
        {
          "output_type": "execute_result",
          "data": {
            "text/plain": [
              "first C     0.102460\n",
              "second C    1.920491\n",
              "third C    -1.305816\n",
              "fourth C   -0.269105\n",
              "fifth C     0.790597\n",
              "Name: first R, dtype: float64"
            ]
          },
          "metadata": {
            "tags": []
          },
          "execution_count": 25
        }
      ]
    },
    {
      "cell_type": "code",
      "metadata": {
        "id": "sle9P1rqyYnR",
        "colab_type": "code",
        "colab": {}
      },
      "source": [
        "#df3.loc[['fouth R'], ['second C']]"
      ],
      "execution_count": 26,
      "outputs": []
    },
    {
      "cell_type": "code",
      "metadata": {
        "id": "7F-2DraSzHRz",
        "colab_type": "code",
        "colab": {
          "base_uri": "https://localhost:8080/",
          "height": 204
        },
        "outputId": "37b743f6-c971-4f6d-ee6c-c0dbc039398a"
      },
      "source": [
        "df3 > 0  # logicals"
      ],
      "execution_count": 27,
      "outputs": [
        {
          "output_type": "execute_result",
          "data": {
            "text/html": [
              "<div>\n",
              "<style scoped>\n",
              "    .dataframe tbody tr th:only-of-type {\n",
              "        vertical-align: middle;\n",
              "    }\n",
              "\n",
              "    .dataframe tbody tr th {\n",
              "        vertical-align: top;\n",
              "    }\n",
              "\n",
              "    .dataframe thead th {\n",
              "        text-align: right;\n",
              "    }\n",
              "</style>\n",
              "<table border=\"1\" class=\"dataframe\">\n",
              "  <thead>\n",
              "    <tr style=\"text-align: right;\">\n",
              "      <th></th>\n",
              "      <th>first C</th>\n",
              "      <th>second C</th>\n",
              "      <th>third C</th>\n",
              "      <th>fourth C</th>\n",
              "      <th>fifth C</th>\n",
              "    </tr>\n",
              "  </thead>\n",
              "  <tbody>\n",
              "    <tr>\n",
              "      <th>first R</th>\n",
              "      <td>True</td>\n",
              "      <td>True</td>\n",
              "      <td>False</td>\n",
              "      <td>False</td>\n",
              "      <td>True</td>\n",
              "    </tr>\n",
              "    <tr>\n",
              "      <th>second R</th>\n",
              "      <td>False</td>\n",
              "      <td>True</td>\n",
              "      <td>False</td>\n",
              "      <td>True</td>\n",
              "      <td>True</td>\n",
              "    </tr>\n",
              "    <tr>\n",
              "      <th>third R</th>\n",
              "      <td>False</td>\n",
              "      <td>True</td>\n",
              "      <td>False</td>\n",
              "      <td>False</td>\n",
              "      <td>True</td>\n",
              "    </tr>\n",
              "    <tr>\n",
              "      <th>fourth R</th>\n",
              "      <td>True</td>\n",
              "      <td>True</td>\n",
              "      <td>True</td>\n",
              "      <td>True</td>\n",
              "      <td>False</td>\n",
              "    </tr>\n",
              "    <tr>\n",
              "      <th>fifth R</th>\n",
              "      <td>True</td>\n",
              "      <td>True</td>\n",
              "      <td>True</td>\n",
              "      <td>True</td>\n",
              "      <td>False</td>\n",
              "    </tr>\n",
              "  </tbody>\n",
              "</table>\n",
              "</div>"
            ],
            "text/plain": [
              "          first C  second C  third C  fourth C  fifth C\n",
              "first R      True      True    False     False     True\n",
              "second R    False      True    False      True     True\n",
              "third R     False      True    False     False     True\n",
              "fourth R     True      True     True      True    False\n",
              "fifth R      True      True     True      True    False"
            ]
          },
          "metadata": {
            "tags": []
          },
          "execution_count": 27
        }
      ]
    },
    {
      "cell_type": "code",
      "metadata": {
        "id": "QBfpnoh_zeTM",
        "colab_type": "code",
        "colab": {
          "base_uri": "https://localhost:8080/",
          "height": 204
        },
        "outputId": "962ab031-a7ea-4f6f-990f-95f279e0de0c"
      },
      "source": [
        "df3[df3 > 0]  # prints only the postive vales, other are NAN(negative)"
      ],
      "execution_count": 28,
      "outputs": [
        {
          "output_type": "execute_result",
          "data": {
            "text/html": [
              "<div>\n",
              "<style scoped>\n",
              "    .dataframe tbody tr th:only-of-type {\n",
              "        vertical-align: middle;\n",
              "    }\n",
              "\n",
              "    .dataframe tbody tr th {\n",
              "        vertical-align: top;\n",
              "    }\n",
              "\n",
              "    .dataframe thead th {\n",
              "        text-align: right;\n",
              "    }\n",
              "</style>\n",
              "<table border=\"1\" class=\"dataframe\">\n",
              "  <thead>\n",
              "    <tr style=\"text-align: right;\">\n",
              "      <th></th>\n",
              "      <th>first C</th>\n",
              "      <th>second C</th>\n",
              "      <th>third C</th>\n",
              "      <th>fourth C</th>\n",
              "      <th>fifth C</th>\n",
              "    </tr>\n",
              "  </thead>\n",
              "  <tbody>\n",
              "    <tr>\n",
              "      <th>first R</th>\n",
              "      <td>0.102460</td>\n",
              "      <td>1.920491</td>\n",
              "      <td>NaN</td>\n",
              "      <td>NaN</td>\n",
              "      <td>0.790597</td>\n",
              "    </tr>\n",
              "    <tr>\n",
              "      <th>second R</th>\n",
              "      <td>NaN</td>\n",
              "      <td>0.996689</td>\n",
              "      <td>NaN</td>\n",
              "      <td>0.227088</td>\n",
              "      <td>1.187489</td>\n",
              "    </tr>\n",
              "    <tr>\n",
              "      <th>third R</th>\n",
              "      <td>NaN</td>\n",
              "      <td>1.317541</td>\n",
              "      <td>NaN</td>\n",
              "      <td>NaN</td>\n",
              "      <td>0.248813</td>\n",
              "    </tr>\n",
              "    <tr>\n",
              "      <th>fourth R</th>\n",
              "      <td>0.024197</td>\n",
              "      <td>0.888772</td>\n",
              "      <td>0.758566</td>\n",
              "      <td>0.548187</td>\n",
              "      <td>NaN</td>\n",
              "    </tr>\n",
              "    <tr>\n",
              "      <th>fifth R</th>\n",
              "      <td>1.427292</td>\n",
              "      <td>0.257247</td>\n",
              "      <td>0.929275</td>\n",
              "      <td>0.973147</td>\n",
              "      <td>NaN</td>\n",
              "    </tr>\n",
              "  </tbody>\n",
              "</table>\n",
              "</div>"
            ],
            "text/plain": [
              "           first C  second C   third C  fourth C   fifth C\n",
              "first R   0.102460  1.920491       NaN       NaN  0.790597\n",
              "second R       NaN  0.996689       NaN  0.227088  1.187489\n",
              "third R        NaN  1.317541       NaN       NaN  0.248813\n",
              "fourth R  0.024197  0.888772  0.758566  0.548187       NaN\n",
              "fifth R   1.427292  0.257247  0.929275  0.973147       NaN"
            ]
          },
          "metadata": {
            "tags": []
          },
          "execution_count": 28
        }
      ]
    },
    {
      "cell_type": "code",
      "metadata": {
        "id": "cJ125iFHzj0U",
        "colab_type": "code",
        "colab": {
          "base_uri": "https://localhost:8080/",
          "height": 204
        },
        "outputId": "2f5d9267-305a-4133-c0eb-a514f52e27e3"
      },
      "source": [
        "# modifying the dataframe\n",
        "\n",
        "# add cols\n",
        "df3['sixth C'] = np.random.randn(5, 1)\n",
        "df3"
      ],
      "execution_count": 29,
      "outputs": [
        {
          "output_type": "execute_result",
          "data": {
            "text/html": [
              "<div>\n",
              "<style scoped>\n",
              "    .dataframe tbody tr th:only-of-type {\n",
              "        vertical-align: middle;\n",
              "    }\n",
              "\n",
              "    .dataframe tbody tr th {\n",
              "        vertical-align: top;\n",
              "    }\n",
              "\n",
              "    .dataframe thead th {\n",
              "        text-align: right;\n",
              "    }\n",
              "</style>\n",
              "<table border=\"1\" class=\"dataframe\">\n",
              "  <thead>\n",
              "    <tr style=\"text-align: right;\">\n",
              "      <th></th>\n",
              "      <th>first C</th>\n",
              "      <th>second C</th>\n",
              "      <th>third C</th>\n",
              "      <th>fourth C</th>\n",
              "      <th>fifth C</th>\n",
              "      <th>sixth C</th>\n",
              "    </tr>\n",
              "  </thead>\n",
              "  <tbody>\n",
              "    <tr>\n",
              "      <th>first R</th>\n",
              "      <td>0.102460</td>\n",
              "      <td>1.920491</td>\n",
              "      <td>-1.305816</td>\n",
              "      <td>-0.269105</td>\n",
              "      <td>0.790597</td>\n",
              "      <td>-0.320070</td>\n",
              "    </tr>\n",
              "    <tr>\n",
              "      <th>second R</th>\n",
              "      <td>-0.189728</td>\n",
              "      <td>0.996689</td>\n",
              "      <td>-0.741356</td>\n",
              "      <td>0.227088</td>\n",
              "      <td>1.187489</td>\n",
              "      <td>-0.855786</td>\n",
              "    </tr>\n",
              "    <tr>\n",
              "      <th>third R</th>\n",
              "      <td>-2.199147</td>\n",
              "      <td>1.317541</td>\n",
              "      <td>-0.267268</td>\n",
              "      <td>-0.510097</td>\n",
              "      <td>0.248813</td>\n",
              "      <td>-1.816064</td>\n",
              "    </tr>\n",
              "    <tr>\n",
              "      <th>fourth R</th>\n",
              "      <td>0.024197</td>\n",
              "      <td>0.888772</td>\n",
              "      <td>0.758566</td>\n",
              "      <td>0.548187</td>\n",
              "      <td>-2.081272</td>\n",
              "      <td>-0.272258</td>\n",
              "    </tr>\n",
              "    <tr>\n",
              "      <th>fifth R</th>\n",
              "      <td>1.427292</td>\n",
              "      <td>0.257247</td>\n",
              "      <td>0.929275</td>\n",
              "      <td>0.973147</td>\n",
              "      <td>-0.805985</td>\n",
              "      <td>-0.574817</td>\n",
              "    </tr>\n",
              "  </tbody>\n",
              "</table>\n",
              "</div>"
            ],
            "text/plain": [
              "           first C  second C   third C  fourth C   fifth C   sixth C\n",
              "first R   0.102460  1.920491 -1.305816 -0.269105  0.790597 -0.320070\n",
              "second R -0.189728  0.996689 -0.741356  0.227088  1.187489 -0.855786\n",
              "third R  -2.199147  1.317541 -0.267268 -0.510097  0.248813 -1.816064\n",
              "fourth R  0.024197  0.888772  0.758566  0.548187 -2.081272 -0.272258\n",
              "fifth R   1.427292  0.257247  0.929275  0.973147 -0.805985 -0.574817"
            ]
          },
          "metadata": {
            "tags": []
          },
          "execution_count": 29
        }
      ]
    },
    {
      "cell_type": "code",
      "metadata": {
        "id": "_gTPGjlR0Ci6",
        "colab_type": "code",
        "colab": {
          "base_uri": "https://localhost:8080/",
          "height": 204
        },
        "outputId": "6159e862-c906-40d5-bdbc-ac3a32cf1e70"
      },
      "source": [
        "df3.drop('first C', axis =1)  # droping the cols"
      ],
      "execution_count": 30,
      "outputs": [
        {
          "output_type": "execute_result",
          "data": {
            "text/html": [
              "<div>\n",
              "<style scoped>\n",
              "    .dataframe tbody tr th:only-of-type {\n",
              "        vertical-align: middle;\n",
              "    }\n",
              "\n",
              "    .dataframe tbody tr th {\n",
              "        vertical-align: top;\n",
              "    }\n",
              "\n",
              "    .dataframe thead th {\n",
              "        text-align: right;\n",
              "    }\n",
              "</style>\n",
              "<table border=\"1\" class=\"dataframe\">\n",
              "  <thead>\n",
              "    <tr style=\"text-align: right;\">\n",
              "      <th></th>\n",
              "      <th>second C</th>\n",
              "      <th>third C</th>\n",
              "      <th>fourth C</th>\n",
              "      <th>fifth C</th>\n",
              "      <th>sixth C</th>\n",
              "    </tr>\n",
              "  </thead>\n",
              "  <tbody>\n",
              "    <tr>\n",
              "      <th>first R</th>\n",
              "      <td>1.920491</td>\n",
              "      <td>-1.305816</td>\n",
              "      <td>-0.269105</td>\n",
              "      <td>0.790597</td>\n",
              "      <td>-0.320070</td>\n",
              "    </tr>\n",
              "    <tr>\n",
              "      <th>second R</th>\n",
              "      <td>0.996689</td>\n",
              "      <td>-0.741356</td>\n",
              "      <td>0.227088</td>\n",
              "      <td>1.187489</td>\n",
              "      <td>-0.855786</td>\n",
              "    </tr>\n",
              "    <tr>\n",
              "      <th>third R</th>\n",
              "      <td>1.317541</td>\n",
              "      <td>-0.267268</td>\n",
              "      <td>-0.510097</td>\n",
              "      <td>0.248813</td>\n",
              "      <td>-1.816064</td>\n",
              "    </tr>\n",
              "    <tr>\n",
              "      <th>fourth R</th>\n",
              "      <td>0.888772</td>\n",
              "      <td>0.758566</td>\n",
              "      <td>0.548187</td>\n",
              "      <td>-2.081272</td>\n",
              "      <td>-0.272258</td>\n",
              "    </tr>\n",
              "    <tr>\n",
              "      <th>fifth R</th>\n",
              "      <td>0.257247</td>\n",
              "      <td>0.929275</td>\n",
              "      <td>0.973147</td>\n",
              "      <td>-0.805985</td>\n",
              "      <td>-0.574817</td>\n",
              "    </tr>\n",
              "  </tbody>\n",
              "</table>\n",
              "</div>"
            ],
            "text/plain": [
              "          second C   third C  fourth C   fifth C   sixth C\n",
              "first R   1.920491 -1.305816 -0.269105  0.790597 -0.320070\n",
              "second R  0.996689 -0.741356  0.227088  1.187489 -0.855786\n",
              "third R   1.317541 -0.267268 -0.510097  0.248813 -1.816064\n",
              "fourth R  0.888772  0.758566  0.548187 -2.081272 -0.272258\n",
              "fifth R   0.257247  0.929275  0.973147 -0.805985 -0.574817"
            ]
          },
          "metadata": {
            "tags": []
          },
          "execution_count": 30
        }
      ]
    },
    {
      "cell_type": "code",
      "metadata": {
        "id": "pXFUjLkG0Jd3",
        "colab_type": "code",
        "colab": {
          "base_uri": "https://localhost:8080/",
          "height": 173
        },
        "outputId": "9ff6e618-8842-4f13-a9a3-1f256e1e49dc"
      },
      "source": [
        "df3.drop('first R', axis =0)  # droping the cols"
      ],
      "execution_count": 31,
      "outputs": [
        {
          "output_type": "execute_result",
          "data": {
            "text/html": [
              "<div>\n",
              "<style scoped>\n",
              "    .dataframe tbody tr th:only-of-type {\n",
              "        vertical-align: middle;\n",
              "    }\n",
              "\n",
              "    .dataframe tbody tr th {\n",
              "        vertical-align: top;\n",
              "    }\n",
              "\n",
              "    .dataframe thead th {\n",
              "        text-align: right;\n",
              "    }\n",
              "</style>\n",
              "<table border=\"1\" class=\"dataframe\">\n",
              "  <thead>\n",
              "    <tr style=\"text-align: right;\">\n",
              "      <th></th>\n",
              "      <th>first C</th>\n",
              "      <th>second C</th>\n",
              "      <th>third C</th>\n",
              "      <th>fourth C</th>\n",
              "      <th>fifth C</th>\n",
              "      <th>sixth C</th>\n",
              "    </tr>\n",
              "  </thead>\n",
              "  <tbody>\n",
              "    <tr>\n",
              "      <th>second R</th>\n",
              "      <td>-0.189728</td>\n",
              "      <td>0.996689</td>\n",
              "      <td>-0.741356</td>\n",
              "      <td>0.227088</td>\n",
              "      <td>1.187489</td>\n",
              "      <td>-0.855786</td>\n",
              "    </tr>\n",
              "    <tr>\n",
              "      <th>third R</th>\n",
              "      <td>-2.199147</td>\n",
              "      <td>1.317541</td>\n",
              "      <td>-0.267268</td>\n",
              "      <td>-0.510097</td>\n",
              "      <td>0.248813</td>\n",
              "      <td>-1.816064</td>\n",
              "    </tr>\n",
              "    <tr>\n",
              "      <th>fourth R</th>\n",
              "      <td>0.024197</td>\n",
              "      <td>0.888772</td>\n",
              "      <td>0.758566</td>\n",
              "      <td>0.548187</td>\n",
              "      <td>-2.081272</td>\n",
              "      <td>-0.272258</td>\n",
              "    </tr>\n",
              "    <tr>\n",
              "      <th>fifth R</th>\n",
              "      <td>1.427292</td>\n",
              "      <td>0.257247</td>\n",
              "      <td>0.929275</td>\n",
              "      <td>0.973147</td>\n",
              "      <td>-0.805985</td>\n",
              "      <td>-0.574817</td>\n",
              "    </tr>\n",
              "  </tbody>\n",
              "</table>\n",
              "</div>"
            ],
            "text/plain": [
              "           first C  second C   third C  fourth C   fifth C   sixth C\n",
              "second R -0.189728  0.996689 -0.741356  0.227088  1.187489 -0.855786\n",
              "third R  -2.199147  1.317541 -0.267268 -0.510097  0.248813 -1.816064\n",
              "fourth R  0.024197  0.888772  0.758566  0.548187 -2.081272 -0.272258\n",
              "fifth R   1.427292  0.257247  0.929275  0.973147 -0.805985 -0.574817"
            ]
          },
          "metadata": {
            "tags": []
          },
          "execution_count": 31
        }
      ]
    },
    {
      "cell_type": "code",
      "metadata": {
        "id": "CnH8X3mq0QRj",
        "colab_type": "code",
        "colab": {
          "base_uri": "https://localhost:8080/",
          "height": 204
        },
        "outputId": "bc4d90c9-ca2e-439d-9865-4cb0cd5cefcc"
      },
      "source": [
        "df3\n",
        "# drop doesnt drop in the main dataframe, it only returned the droped dataframe"
      ],
      "execution_count": 32,
      "outputs": [
        {
          "output_type": "execute_result",
          "data": {
            "text/html": [
              "<div>\n",
              "<style scoped>\n",
              "    .dataframe tbody tr th:only-of-type {\n",
              "        vertical-align: middle;\n",
              "    }\n",
              "\n",
              "    .dataframe tbody tr th {\n",
              "        vertical-align: top;\n",
              "    }\n",
              "\n",
              "    .dataframe thead th {\n",
              "        text-align: right;\n",
              "    }\n",
              "</style>\n",
              "<table border=\"1\" class=\"dataframe\">\n",
              "  <thead>\n",
              "    <tr style=\"text-align: right;\">\n",
              "      <th></th>\n",
              "      <th>first C</th>\n",
              "      <th>second C</th>\n",
              "      <th>third C</th>\n",
              "      <th>fourth C</th>\n",
              "      <th>fifth C</th>\n",
              "      <th>sixth C</th>\n",
              "    </tr>\n",
              "  </thead>\n",
              "  <tbody>\n",
              "    <tr>\n",
              "      <th>first R</th>\n",
              "      <td>0.102460</td>\n",
              "      <td>1.920491</td>\n",
              "      <td>-1.305816</td>\n",
              "      <td>-0.269105</td>\n",
              "      <td>0.790597</td>\n",
              "      <td>-0.320070</td>\n",
              "    </tr>\n",
              "    <tr>\n",
              "      <th>second R</th>\n",
              "      <td>-0.189728</td>\n",
              "      <td>0.996689</td>\n",
              "      <td>-0.741356</td>\n",
              "      <td>0.227088</td>\n",
              "      <td>1.187489</td>\n",
              "      <td>-0.855786</td>\n",
              "    </tr>\n",
              "    <tr>\n",
              "      <th>third R</th>\n",
              "      <td>-2.199147</td>\n",
              "      <td>1.317541</td>\n",
              "      <td>-0.267268</td>\n",
              "      <td>-0.510097</td>\n",
              "      <td>0.248813</td>\n",
              "      <td>-1.816064</td>\n",
              "    </tr>\n",
              "    <tr>\n",
              "      <th>fourth R</th>\n",
              "      <td>0.024197</td>\n",
              "      <td>0.888772</td>\n",
              "      <td>0.758566</td>\n",
              "      <td>0.548187</td>\n",
              "      <td>-2.081272</td>\n",
              "      <td>-0.272258</td>\n",
              "    </tr>\n",
              "    <tr>\n",
              "      <th>fifth R</th>\n",
              "      <td>1.427292</td>\n",
              "      <td>0.257247</td>\n",
              "      <td>0.929275</td>\n",
              "      <td>0.973147</td>\n",
              "      <td>-0.805985</td>\n",
              "      <td>-0.574817</td>\n",
              "    </tr>\n",
              "  </tbody>\n",
              "</table>\n",
              "</div>"
            ],
            "text/plain": [
              "           first C  second C   third C  fourth C   fifth C   sixth C\n",
              "first R   0.102460  1.920491 -1.305816 -0.269105  0.790597 -0.320070\n",
              "second R -0.189728  0.996689 -0.741356  0.227088  1.187489 -0.855786\n",
              "third R  -2.199147  1.317541 -0.267268 -0.510097  0.248813 -1.816064\n",
              "fourth R  0.024197  0.888772  0.758566  0.548187 -2.081272 -0.272258\n",
              "fifth R   1.427292  0.257247  0.929275  0.973147 -0.805985 -0.574817"
            ]
          },
          "metadata": {
            "tags": []
          },
          "execution_count": 32
        }
      ]
    },
    {
      "cell_type": "code",
      "metadata": {
        "id": "N1UJBJw70TA0",
        "colab_type": "code",
        "colab": {
          "base_uri": "https://localhost:8080/",
          "height": 204
        },
        "outputId": "8de26681-39c5-4443-9f1d-f083371d2836"
      },
      "source": [
        "# to reflect it, we need to update it \n",
        "df4 = df3.drop('first C', axis = 1)  # col deleted\n",
        "df4"
      ],
      "execution_count": 33,
      "outputs": [
        {
          "output_type": "execute_result",
          "data": {
            "text/html": [
              "<div>\n",
              "<style scoped>\n",
              "    .dataframe tbody tr th:only-of-type {\n",
              "        vertical-align: middle;\n",
              "    }\n",
              "\n",
              "    .dataframe tbody tr th {\n",
              "        vertical-align: top;\n",
              "    }\n",
              "\n",
              "    .dataframe thead th {\n",
              "        text-align: right;\n",
              "    }\n",
              "</style>\n",
              "<table border=\"1\" class=\"dataframe\">\n",
              "  <thead>\n",
              "    <tr style=\"text-align: right;\">\n",
              "      <th></th>\n",
              "      <th>second C</th>\n",
              "      <th>third C</th>\n",
              "      <th>fourth C</th>\n",
              "      <th>fifth C</th>\n",
              "      <th>sixth C</th>\n",
              "    </tr>\n",
              "  </thead>\n",
              "  <tbody>\n",
              "    <tr>\n",
              "      <th>first R</th>\n",
              "      <td>1.920491</td>\n",
              "      <td>-1.305816</td>\n",
              "      <td>-0.269105</td>\n",
              "      <td>0.790597</td>\n",
              "      <td>-0.320070</td>\n",
              "    </tr>\n",
              "    <tr>\n",
              "      <th>second R</th>\n",
              "      <td>0.996689</td>\n",
              "      <td>-0.741356</td>\n",
              "      <td>0.227088</td>\n",
              "      <td>1.187489</td>\n",
              "      <td>-0.855786</td>\n",
              "    </tr>\n",
              "    <tr>\n",
              "      <th>third R</th>\n",
              "      <td>1.317541</td>\n",
              "      <td>-0.267268</td>\n",
              "      <td>-0.510097</td>\n",
              "      <td>0.248813</td>\n",
              "      <td>-1.816064</td>\n",
              "    </tr>\n",
              "    <tr>\n",
              "      <th>fourth R</th>\n",
              "      <td>0.888772</td>\n",
              "      <td>0.758566</td>\n",
              "      <td>0.548187</td>\n",
              "      <td>-2.081272</td>\n",
              "      <td>-0.272258</td>\n",
              "    </tr>\n",
              "    <tr>\n",
              "      <th>fifth R</th>\n",
              "      <td>0.257247</td>\n",
              "      <td>0.929275</td>\n",
              "      <td>0.973147</td>\n",
              "      <td>-0.805985</td>\n",
              "      <td>-0.574817</td>\n",
              "    </tr>\n",
              "  </tbody>\n",
              "</table>\n",
              "</div>"
            ],
            "text/plain": [
              "          second C   third C  fourth C   fifth C   sixth C\n",
              "first R   1.920491 -1.305816 -0.269105  0.790597 -0.320070\n",
              "second R  0.996689 -0.741356  0.227088  1.187489 -0.855786\n",
              "third R   1.317541 -0.267268 -0.510097  0.248813 -1.816064\n",
              "fourth R  0.888772  0.758566  0.548187 -2.081272 -0.272258\n",
              "fifth R   0.257247  0.929275  0.973147 -0.805985 -0.574817"
            ]
          },
          "metadata": {
            "tags": []
          },
          "execution_count": 33
        }
      ]
    },
    {
      "cell_type": "code",
      "metadata": {
        "id": "lZwcVEMj0lXZ",
        "colab_type": "code",
        "colab": {
          "base_uri": "https://localhost:8080/",
          "height": 173
        },
        "outputId": "e4fade47-ea4e-4184-97ac-03f9d2c578af"
      },
      "source": [
        "df5 = df3.drop('first R', axis = 0)  # row deleted\n",
        "df5"
      ],
      "execution_count": 34,
      "outputs": [
        {
          "output_type": "execute_result",
          "data": {
            "text/html": [
              "<div>\n",
              "<style scoped>\n",
              "    .dataframe tbody tr th:only-of-type {\n",
              "        vertical-align: middle;\n",
              "    }\n",
              "\n",
              "    .dataframe tbody tr th {\n",
              "        vertical-align: top;\n",
              "    }\n",
              "\n",
              "    .dataframe thead th {\n",
              "        text-align: right;\n",
              "    }\n",
              "</style>\n",
              "<table border=\"1\" class=\"dataframe\">\n",
              "  <thead>\n",
              "    <tr style=\"text-align: right;\">\n",
              "      <th></th>\n",
              "      <th>first C</th>\n",
              "      <th>second C</th>\n",
              "      <th>third C</th>\n",
              "      <th>fourth C</th>\n",
              "      <th>fifth C</th>\n",
              "      <th>sixth C</th>\n",
              "    </tr>\n",
              "  </thead>\n",
              "  <tbody>\n",
              "    <tr>\n",
              "      <th>second R</th>\n",
              "      <td>-0.189728</td>\n",
              "      <td>0.996689</td>\n",
              "      <td>-0.741356</td>\n",
              "      <td>0.227088</td>\n",
              "      <td>1.187489</td>\n",
              "      <td>-0.855786</td>\n",
              "    </tr>\n",
              "    <tr>\n",
              "      <th>third R</th>\n",
              "      <td>-2.199147</td>\n",
              "      <td>1.317541</td>\n",
              "      <td>-0.267268</td>\n",
              "      <td>-0.510097</td>\n",
              "      <td>0.248813</td>\n",
              "      <td>-1.816064</td>\n",
              "    </tr>\n",
              "    <tr>\n",
              "      <th>fourth R</th>\n",
              "      <td>0.024197</td>\n",
              "      <td>0.888772</td>\n",
              "      <td>0.758566</td>\n",
              "      <td>0.548187</td>\n",
              "      <td>-2.081272</td>\n",
              "      <td>-0.272258</td>\n",
              "    </tr>\n",
              "    <tr>\n",
              "      <th>fifth R</th>\n",
              "      <td>1.427292</td>\n",
              "      <td>0.257247</td>\n",
              "      <td>0.929275</td>\n",
              "      <td>0.973147</td>\n",
              "      <td>-0.805985</td>\n",
              "      <td>-0.574817</td>\n",
              "    </tr>\n",
              "  </tbody>\n",
              "</table>\n",
              "</div>"
            ],
            "text/plain": [
              "           first C  second C   third C  fourth C   fifth C   sixth C\n",
              "second R -0.189728  0.996689 -0.741356  0.227088  1.187489 -0.855786\n",
              "third R  -2.199147  1.317541 -0.267268 -0.510097  0.248813 -1.816064\n",
              "fourth R  0.024197  0.888772  0.758566  0.548187 -2.081272 -0.272258\n",
              "fifth R   1.427292  0.257247  0.929275  0.973147 -0.805985 -0.574817"
            ]
          },
          "metadata": {
            "tags": []
          },
          "execution_count": 34
        }
      ]
    },
    {
      "cell_type": "code",
      "metadata": {
        "id": "PsCJNotS0tE5",
        "colab_type": "code",
        "colab": {
          "base_uri": "https://localhost:8080/",
          "height": 187
        },
        "outputId": "c39d1a43-5ee4-4df4-ae73-b0c91103a600"
      },
      "source": [
        "# remianing the dataframes index labels\n",
        "print(df5.reset_index()) # it does't affect the main dataframe\n",
        "print(df5)"
      ],
      "execution_count": 35,
      "outputs": [
        {
          "output_type": "stream",
          "text": [
            "      index   first C  second C   third C  fourth C   fifth C   sixth C\n",
            "0  second R -0.189728  0.996689 -0.741356  0.227088  1.187489 -0.855786\n",
            "1   third R -2.199147  1.317541 -0.267268 -0.510097  0.248813 -1.816064\n",
            "2  fourth R  0.024197  0.888772  0.758566  0.548187 -2.081272 -0.272258\n",
            "3   fifth R  1.427292  0.257247  0.929275  0.973147 -0.805985 -0.574817\n",
            "           first C  second C   third C  fourth C   fifth C   sixth C\n",
            "second R -0.189728  0.996689 -0.741356  0.227088  1.187489 -0.855786\n",
            "third R  -2.199147  1.317541 -0.267268 -0.510097  0.248813 -1.816064\n",
            "fourth R  0.024197  0.888772  0.758566  0.548187 -2.081272 -0.272258\n",
            "fifth R   1.427292  0.257247  0.929275  0.973147 -0.805985 -0.574817\n"
          ],
          "name": "stdout"
        }
      ]
    },
    {
      "cell_type": "code",
      "metadata": {
        "id": "IXejZaZG06xW",
        "colab_type": "code",
        "colab": {
          "base_uri": "https://localhost:8080/",
          "height": 173
        },
        "outputId": "8d3ad2dd-79fd-4d23-ed5d-0f4117c385bd"
      },
      "source": [
        "# to have the change refelected in the dataframe, use inplace = True\n",
        "df5.reset_index(inplace = True)\n",
        "df5"
      ],
      "execution_count": 36,
      "outputs": [
        {
          "output_type": "execute_result",
          "data": {
            "text/html": [
              "<div>\n",
              "<style scoped>\n",
              "    .dataframe tbody tr th:only-of-type {\n",
              "        vertical-align: middle;\n",
              "    }\n",
              "\n",
              "    .dataframe tbody tr th {\n",
              "        vertical-align: top;\n",
              "    }\n",
              "\n",
              "    .dataframe thead th {\n",
              "        text-align: right;\n",
              "    }\n",
              "</style>\n",
              "<table border=\"1\" class=\"dataframe\">\n",
              "  <thead>\n",
              "    <tr style=\"text-align: right;\">\n",
              "      <th></th>\n",
              "      <th>index</th>\n",
              "      <th>first C</th>\n",
              "      <th>second C</th>\n",
              "      <th>third C</th>\n",
              "      <th>fourth C</th>\n",
              "      <th>fifth C</th>\n",
              "      <th>sixth C</th>\n",
              "    </tr>\n",
              "  </thead>\n",
              "  <tbody>\n",
              "    <tr>\n",
              "      <th>0</th>\n",
              "      <td>second R</td>\n",
              "      <td>-0.189728</td>\n",
              "      <td>0.996689</td>\n",
              "      <td>-0.741356</td>\n",
              "      <td>0.227088</td>\n",
              "      <td>1.187489</td>\n",
              "      <td>-0.855786</td>\n",
              "    </tr>\n",
              "    <tr>\n",
              "      <th>1</th>\n",
              "      <td>third R</td>\n",
              "      <td>-2.199147</td>\n",
              "      <td>1.317541</td>\n",
              "      <td>-0.267268</td>\n",
              "      <td>-0.510097</td>\n",
              "      <td>0.248813</td>\n",
              "      <td>-1.816064</td>\n",
              "    </tr>\n",
              "    <tr>\n",
              "      <th>2</th>\n",
              "      <td>fourth R</td>\n",
              "      <td>0.024197</td>\n",
              "      <td>0.888772</td>\n",
              "      <td>0.758566</td>\n",
              "      <td>0.548187</td>\n",
              "      <td>-2.081272</td>\n",
              "      <td>-0.272258</td>\n",
              "    </tr>\n",
              "    <tr>\n",
              "      <th>3</th>\n",
              "      <td>fifth R</td>\n",
              "      <td>1.427292</td>\n",
              "      <td>0.257247</td>\n",
              "      <td>0.929275</td>\n",
              "      <td>0.973147</td>\n",
              "      <td>-0.805985</td>\n",
              "      <td>-0.574817</td>\n",
              "    </tr>\n",
              "  </tbody>\n",
              "</table>\n",
              "</div>"
            ],
            "text/plain": [
              "      index   first C  second C   third C  fourth C   fifth C   sixth C\n",
              "0  second R -0.189728  0.996689 -0.741356  0.227088  1.187489 -0.855786\n",
              "1   third R -2.199147  1.317541 -0.267268 -0.510097  0.248813 -1.816064\n",
              "2  fourth R  0.024197  0.888772  0.758566  0.548187 -2.081272 -0.272258\n",
              "3   fifth R  1.427292  0.257247  0.929275  0.973147 -0.805985 -0.574817"
            ]
          },
          "metadata": {
            "tags": []
          },
          "execution_count": 36
        }
      ]
    },
    {
      "cell_type": "code",
      "metadata": {
        "id": "HZNcxLhb1bze",
        "colab_type": "code",
        "colab": {
          "base_uri": "https://localhost:8080/",
          "height": 204
        },
        "outputId": "95b0acf7-b8fb-46cb-c70c-8c1a281c96af"
      },
      "source": [
        "df3.drop('first C', axis = 1, inplace = True)\n",
        "df3"
      ],
      "execution_count": 37,
      "outputs": [
        {
          "output_type": "execute_result",
          "data": {
            "text/html": [
              "<div>\n",
              "<style scoped>\n",
              "    .dataframe tbody tr th:only-of-type {\n",
              "        vertical-align: middle;\n",
              "    }\n",
              "\n",
              "    .dataframe tbody tr th {\n",
              "        vertical-align: top;\n",
              "    }\n",
              "\n",
              "    .dataframe thead th {\n",
              "        text-align: right;\n",
              "    }\n",
              "</style>\n",
              "<table border=\"1\" class=\"dataframe\">\n",
              "  <thead>\n",
              "    <tr style=\"text-align: right;\">\n",
              "      <th></th>\n",
              "      <th>second C</th>\n",
              "      <th>third C</th>\n",
              "      <th>fourth C</th>\n",
              "      <th>fifth C</th>\n",
              "      <th>sixth C</th>\n",
              "    </tr>\n",
              "  </thead>\n",
              "  <tbody>\n",
              "    <tr>\n",
              "      <th>first R</th>\n",
              "      <td>1.920491</td>\n",
              "      <td>-1.305816</td>\n",
              "      <td>-0.269105</td>\n",
              "      <td>0.790597</td>\n",
              "      <td>-0.320070</td>\n",
              "    </tr>\n",
              "    <tr>\n",
              "      <th>second R</th>\n",
              "      <td>0.996689</td>\n",
              "      <td>-0.741356</td>\n",
              "      <td>0.227088</td>\n",
              "      <td>1.187489</td>\n",
              "      <td>-0.855786</td>\n",
              "    </tr>\n",
              "    <tr>\n",
              "      <th>third R</th>\n",
              "      <td>1.317541</td>\n",
              "      <td>-0.267268</td>\n",
              "      <td>-0.510097</td>\n",
              "      <td>0.248813</td>\n",
              "      <td>-1.816064</td>\n",
              "    </tr>\n",
              "    <tr>\n",
              "      <th>fourth R</th>\n",
              "      <td>0.888772</td>\n",
              "      <td>0.758566</td>\n",
              "      <td>0.548187</td>\n",
              "      <td>-2.081272</td>\n",
              "      <td>-0.272258</td>\n",
              "    </tr>\n",
              "    <tr>\n",
              "      <th>fifth R</th>\n",
              "      <td>0.257247</td>\n",
              "      <td>0.929275</td>\n",
              "      <td>0.973147</td>\n",
              "      <td>-0.805985</td>\n",
              "      <td>-0.574817</td>\n",
              "    </tr>\n",
              "  </tbody>\n",
              "</table>\n",
              "</div>"
            ],
            "text/plain": [
              "          second C   third C  fourth C   fifth C   sixth C\n",
              "first R   1.920491 -1.305816 -0.269105  0.790597 -0.320070\n",
              "second R  0.996689 -0.741356  0.227088  1.187489 -0.855786\n",
              "third R   1.317541 -0.267268 -0.510097  0.248813 -1.816064\n",
              "fourth R  0.888772  0.758566  0.548187 -2.081272 -0.272258\n",
              "fifth R   0.257247  0.929275  0.973147 -0.805985 -0.574817"
            ]
          },
          "metadata": {
            "tags": []
          },
          "execution_count": 37
        }
      ]
    },
    {
      "cell_type": "code",
      "metadata": {
        "id": "flwydqvz1-5J",
        "colab_type": "code",
        "colab": {
          "base_uri": "https://localhost:8080/",
          "height": 207
        },
        "outputId": "288aa70f-0e30-472d-fd8b-f486d3b9cf18"
      },
      "source": [
        "# can rename the index\n",
        "df5['new names'] = ['This', 'is', 'the', 'row']\n",
        "df5"
      ],
      "execution_count": 38,
      "outputs": [
        {
          "output_type": "execute_result",
          "data": {
            "text/html": [
              "<div>\n",
              "<style scoped>\n",
              "    .dataframe tbody tr th:only-of-type {\n",
              "        vertical-align: middle;\n",
              "    }\n",
              "\n",
              "    .dataframe tbody tr th {\n",
              "        vertical-align: top;\n",
              "    }\n",
              "\n",
              "    .dataframe thead th {\n",
              "        text-align: right;\n",
              "    }\n",
              "</style>\n",
              "<table border=\"1\" class=\"dataframe\">\n",
              "  <thead>\n",
              "    <tr style=\"text-align: right;\">\n",
              "      <th></th>\n",
              "      <th>index</th>\n",
              "      <th>first C</th>\n",
              "      <th>second C</th>\n",
              "      <th>third C</th>\n",
              "      <th>fourth C</th>\n",
              "      <th>fifth C</th>\n",
              "      <th>sixth C</th>\n",
              "      <th>new names</th>\n",
              "    </tr>\n",
              "  </thead>\n",
              "  <tbody>\n",
              "    <tr>\n",
              "      <th>0</th>\n",
              "      <td>second R</td>\n",
              "      <td>-0.189728</td>\n",
              "      <td>0.996689</td>\n",
              "      <td>-0.741356</td>\n",
              "      <td>0.227088</td>\n",
              "      <td>1.187489</td>\n",
              "      <td>-0.855786</td>\n",
              "      <td>This</td>\n",
              "    </tr>\n",
              "    <tr>\n",
              "      <th>1</th>\n",
              "      <td>third R</td>\n",
              "      <td>-2.199147</td>\n",
              "      <td>1.317541</td>\n",
              "      <td>-0.267268</td>\n",
              "      <td>-0.510097</td>\n",
              "      <td>0.248813</td>\n",
              "      <td>-1.816064</td>\n",
              "      <td>is</td>\n",
              "    </tr>\n",
              "    <tr>\n",
              "      <th>2</th>\n",
              "      <td>fourth R</td>\n",
              "      <td>0.024197</td>\n",
              "      <td>0.888772</td>\n",
              "      <td>0.758566</td>\n",
              "      <td>0.548187</td>\n",
              "      <td>-2.081272</td>\n",
              "      <td>-0.272258</td>\n",
              "      <td>the</td>\n",
              "    </tr>\n",
              "    <tr>\n",
              "      <th>3</th>\n",
              "      <td>fifth R</td>\n",
              "      <td>1.427292</td>\n",
              "      <td>0.257247</td>\n",
              "      <td>0.929275</td>\n",
              "      <td>0.973147</td>\n",
              "      <td>-0.805985</td>\n",
              "      <td>-0.574817</td>\n",
              "      <td>row</td>\n",
              "    </tr>\n",
              "  </tbody>\n",
              "</table>\n",
              "</div>"
            ],
            "text/plain": [
              "      index   first C  second C  ...   fifth C   sixth C  new names\n",
              "0  second R -0.189728  0.996689  ...  1.187489 -0.855786       This\n",
              "1   third R -2.199147  1.317541  ...  0.248813 -1.816064         is\n",
              "2  fourth R  0.024197  0.888772  ... -2.081272 -0.272258        the\n",
              "3   fifth R  1.427292  0.257247  ... -0.805985 -0.574817        row\n",
              "\n",
              "[4 rows x 8 columns]"
            ]
          },
          "metadata": {
            "tags": []
          },
          "execution_count": 38
        }
      ]
    },
    {
      "cell_type": "code",
      "metadata": {
        "id": "VQKLXK2H2S2k",
        "colab_type": "code",
        "colab": {
          "base_uri": "https://localhost:8080/",
          "height": 204
        },
        "outputId": "8c0ede6b-13bf-4009-a953-0a4faf55696b"
      },
      "source": [
        "df5.set_index('new names', inplace = True)\n",
        "df5"
      ],
      "execution_count": 39,
      "outputs": [
        {
          "output_type": "execute_result",
          "data": {
            "text/html": [
              "<div>\n",
              "<style scoped>\n",
              "    .dataframe tbody tr th:only-of-type {\n",
              "        vertical-align: middle;\n",
              "    }\n",
              "\n",
              "    .dataframe tbody tr th {\n",
              "        vertical-align: top;\n",
              "    }\n",
              "\n",
              "    .dataframe thead th {\n",
              "        text-align: right;\n",
              "    }\n",
              "</style>\n",
              "<table border=\"1\" class=\"dataframe\">\n",
              "  <thead>\n",
              "    <tr style=\"text-align: right;\">\n",
              "      <th></th>\n",
              "      <th>index</th>\n",
              "      <th>first C</th>\n",
              "      <th>second C</th>\n",
              "      <th>third C</th>\n",
              "      <th>fourth C</th>\n",
              "      <th>fifth C</th>\n",
              "      <th>sixth C</th>\n",
              "    </tr>\n",
              "    <tr>\n",
              "      <th>new names</th>\n",
              "      <th></th>\n",
              "      <th></th>\n",
              "      <th></th>\n",
              "      <th></th>\n",
              "      <th></th>\n",
              "      <th></th>\n",
              "      <th></th>\n",
              "    </tr>\n",
              "  </thead>\n",
              "  <tbody>\n",
              "    <tr>\n",
              "      <th>This</th>\n",
              "      <td>second R</td>\n",
              "      <td>-0.189728</td>\n",
              "      <td>0.996689</td>\n",
              "      <td>-0.741356</td>\n",
              "      <td>0.227088</td>\n",
              "      <td>1.187489</td>\n",
              "      <td>-0.855786</td>\n",
              "    </tr>\n",
              "    <tr>\n",
              "      <th>is</th>\n",
              "      <td>third R</td>\n",
              "      <td>-2.199147</td>\n",
              "      <td>1.317541</td>\n",
              "      <td>-0.267268</td>\n",
              "      <td>-0.510097</td>\n",
              "      <td>0.248813</td>\n",
              "      <td>-1.816064</td>\n",
              "    </tr>\n",
              "    <tr>\n",
              "      <th>the</th>\n",
              "      <td>fourth R</td>\n",
              "      <td>0.024197</td>\n",
              "      <td>0.888772</td>\n",
              "      <td>0.758566</td>\n",
              "      <td>0.548187</td>\n",
              "      <td>-2.081272</td>\n",
              "      <td>-0.272258</td>\n",
              "    </tr>\n",
              "    <tr>\n",
              "      <th>row</th>\n",
              "      <td>fifth R</td>\n",
              "      <td>1.427292</td>\n",
              "      <td>0.257247</td>\n",
              "      <td>0.929275</td>\n",
              "      <td>0.973147</td>\n",
              "      <td>-0.805985</td>\n",
              "      <td>-0.574817</td>\n",
              "    </tr>\n",
              "  </tbody>\n",
              "</table>\n",
              "</div>"
            ],
            "text/plain": [
              "              index   first C  second C   third C  fourth C   fifth C   sixth C\n",
              "new names                                                                      \n",
              "This       second R -0.189728  0.996689 -0.741356  0.227088  1.187489 -0.855786\n",
              "is          third R -2.199147  1.317541 -0.267268 -0.510097  0.248813 -1.816064\n",
              "the        fourth R  0.024197  0.888772  0.758566  0.548187 -2.081272 -0.272258\n",
              "row         fifth R  1.427292  0.257247  0.929275  0.973147 -0.805985 -0.574817"
            ]
          },
          "metadata": {
            "tags": []
          },
          "execution_count": 39
        }
      ]
    },
    {
      "cell_type": "markdown",
      "metadata": {
        "id": "JwHFWxZZBbZc",
        "colab_type": "text"
      },
      "source": [
        "# Combining Dataframes\n",
        "The waus dataframes are combined in pandas is similar to SQL\n",
        "\n",
        "1. concat\n",
        "2. join\n",
        "3. merge"
      ]
    },
    {
      "cell_type": "code",
      "metadata": {
        "id": "95uaJqnt2c91",
        "colab_type": "code",
        "colab": {}
      },
      "source": [
        "df7 = pd.DataFrame({'customer':['101', '102', '103', '104']\n",
        "                     , 'category':['cat2', 'cat2', 'cat1', 'cat3']\n",
        "                     , 'important':['yes', 'no', 'yes', 'yes']\n",
        "                     , 'sales':[123, 52, 214, 663]\n",
        "                     })  # index = [0, 1, 2, 3]\n",
        "\n",
        "                    \n",
        "df8 = pd.DataFrame({'customer':['101', '103', '104', '105']\n",
        "                     , 'color':['yellow', 'green', 'green', 'blue']\n",
        "                     , 'distance':[12, 9, 44, 21]\n",
        "                     , 'sales':[123, 214, 663, 331]\n",
        "                     })  # index = [4, 5, 6, 7]"
      ],
      "execution_count": 40,
      "outputs": []
    },
    {
      "cell_type": "code",
      "metadata": {
        "id": "QFDp8apWC686",
        "colab_type": "code",
        "colab": {
          "base_uri": "https://localhost:8080/",
          "height": 297
        },
        "outputId": "e8936d38-a07c-4496-f464-b615491d1939"
      },
      "source": [
        "# combining the two dataframes\n",
        "pd.concat([df7, df8], axis= 0, sort = False)\n",
        "\n",
        "# the category variable is not in df8, those places are having NaNs"
      ],
      "execution_count": 41,
      "outputs": [
        {
          "output_type": "execute_result",
          "data": {
            "text/html": [
              "<div>\n",
              "<style scoped>\n",
              "    .dataframe tbody tr th:only-of-type {\n",
              "        vertical-align: middle;\n",
              "    }\n",
              "\n",
              "    .dataframe tbody tr th {\n",
              "        vertical-align: top;\n",
              "    }\n",
              "\n",
              "    .dataframe thead th {\n",
              "        text-align: right;\n",
              "    }\n",
              "</style>\n",
              "<table border=\"1\" class=\"dataframe\">\n",
              "  <thead>\n",
              "    <tr style=\"text-align: right;\">\n",
              "      <th></th>\n",
              "      <th>customer</th>\n",
              "      <th>category</th>\n",
              "      <th>important</th>\n",
              "      <th>sales</th>\n",
              "      <th>color</th>\n",
              "      <th>distance</th>\n",
              "    </tr>\n",
              "  </thead>\n",
              "  <tbody>\n",
              "    <tr>\n",
              "      <th>0</th>\n",
              "      <td>101</td>\n",
              "      <td>cat2</td>\n",
              "      <td>yes</td>\n",
              "      <td>123</td>\n",
              "      <td>NaN</td>\n",
              "      <td>NaN</td>\n",
              "    </tr>\n",
              "    <tr>\n",
              "      <th>1</th>\n",
              "      <td>102</td>\n",
              "      <td>cat2</td>\n",
              "      <td>no</td>\n",
              "      <td>52</td>\n",
              "      <td>NaN</td>\n",
              "      <td>NaN</td>\n",
              "    </tr>\n",
              "    <tr>\n",
              "      <th>2</th>\n",
              "      <td>103</td>\n",
              "      <td>cat1</td>\n",
              "      <td>yes</td>\n",
              "      <td>214</td>\n",
              "      <td>NaN</td>\n",
              "      <td>NaN</td>\n",
              "    </tr>\n",
              "    <tr>\n",
              "      <th>3</th>\n",
              "      <td>104</td>\n",
              "      <td>cat3</td>\n",
              "      <td>yes</td>\n",
              "      <td>663</td>\n",
              "      <td>NaN</td>\n",
              "      <td>NaN</td>\n",
              "    </tr>\n",
              "    <tr>\n",
              "      <th>0</th>\n",
              "      <td>101</td>\n",
              "      <td>NaN</td>\n",
              "      <td>NaN</td>\n",
              "      <td>123</td>\n",
              "      <td>yellow</td>\n",
              "      <td>12.0</td>\n",
              "    </tr>\n",
              "    <tr>\n",
              "      <th>1</th>\n",
              "      <td>103</td>\n",
              "      <td>NaN</td>\n",
              "      <td>NaN</td>\n",
              "      <td>214</td>\n",
              "      <td>green</td>\n",
              "      <td>9.0</td>\n",
              "    </tr>\n",
              "    <tr>\n",
              "      <th>2</th>\n",
              "      <td>104</td>\n",
              "      <td>NaN</td>\n",
              "      <td>NaN</td>\n",
              "      <td>663</td>\n",
              "      <td>green</td>\n",
              "      <td>44.0</td>\n",
              "    </tr>\n",
              "    <tr>\n",
              "      <th>3</th>\n",
              "      <td>105</td>\n",
              "      <td>NaN</td>\n",
              "      <td>NaN</td>\n",
              "      <td>331</td>\n",
              "      <td>blue</td>\n",
              "      <td>21.0</td>\n",
              "    </tr>\n",
              "  </tbody>\n",
              "</table>\n",
              "</div>"
            ],
            "text/plain": [
              "  customer category important  sales   color  distance\n",
              "0      101     cat2       yes    123     NaN       NaN\n",
              "1      102     cat2        no     52     NaN       NaN\n",
              "2      103     cat1       yes    214     NaN       NaN\n",
              "3      104     cat3       yes    663     NaN       NaN\n",
              "0      101      NaN       NaN    123  yellow      12.0\n",
              "1      103      NaN       NaN    214   green       9.0\n",
              "2      104      NaN       NaN    663   green      44.0\n",
              "3      105      NaN       NaN    331    blue      21.0"
            ]
          },
          "metadata": {
            "tags": []
          },
          "execution_count": 41
        }
      ]
    },
    {
      "cell_type": "code",
      "metadata": {
        "id": "d3NB_rpVEJmH",
        "colab_type": "code",
        "colab": {
          "base_uri": "https://localhost:8080/",
          "height": 297
        },
        "outputId": "00ad50c6-3cdb-4f2d-c7dc-aa41b6738c09"
      },
      "source": [
        "pd.concat([df7, df8], axis= 0, sort = True)\n",
        "# organises cols in aplhabetical order"
      ],
      "execution_count": 42,
      "outputs": [
        {
          "output_type": "execute_result",
          "data": {
            "text/html": [
              "<div>\n",
              "<style scoped>\n",
              "    .dataframe tbody tr th:only-of-type {\n",
              "        vertical-align: middle;\n",
              "    }\n",
              "\n",
              "    .dataframe tbody tr th {\n",
              "        vertical-align: top;\n",
              "    }\n",
              "\n",
              "    .dataframe thead th {\n",
              "        text-align: right;\n",
              "    }\n",
              "</style>\n",
              "<table border=\"1\" class=\"dataframe\">\n",
              "  <thead>\n",
              "    <tr style=\"text-align: right;\">\n",
              "      <th></th>\n",
              "      <th>category</th>\n",
              "      <th>color</th>\n",
              "      <th>customer</th>\n",
              "      <th>distance</th>\n",
              "      <th>important</th>\n",
              "      <th>sales</th>\n",
              "    </tr>\n",
              "  </thead>\n",
              "  <tbody>\n",
              "    <tr>\n",
              "      <th>0</th>\n",
              "      <td>cat2</td>\n",
              "      <td>NaN</td>\n",
              "      <td>101</td>\n",
              "      <td>NaN</td>\n",
              "      <td>yes</td>\n",
              "      <td>123</td>\n",
              "    </tr>\n",
              "    <tr>\n",
              "      <th>1</th>\n",
              "      <td>cat2</td>\n",
              "      <td>NaN</td>\n",
              "      <td>102</td>\n",
              "      <td>NaN</td>\n",
              "      <td>no</td>\n",
              "      <td>52</td>\n",
              "    </tr>\n",
              "    <tr>\n",
              "      <th>2</th>\n",
              "      <td>cat1</td>\n",
              "      <td>NaN</td>\n",
              "      <td>103</td>\n",
              "      <td>NaN</td>\n",
              "      <td>yes</td>\n",
              "      <td>214</td>\n",
              "    </tr>\n",
              "    <tr>\n",
              "      <th>3</th>\n",
              "      <td>cat3</td>\n",
              "      <td>NaN</td>\n",
              "      <td>104</td>\n",
              "      <td>NaN</td>\n",
              "      <td>yes</td>\n",
              "      <td>663</td>\n",
              "    </tr>\n",
              "    <tr>\n",
              "      <th>0</th>\n",
              "      <td>NaN</td>\n",
              "      <td>yellow</td>\n",
              "      <td>101</td>\n",
              "      <td>12.0</td>\n",
              "      <td>NaN</td>\n",
              "      <td>123</td>\n",
              "    </tr>\n",
              "    <tr>\n",
              "      <th>1</th>\n",
              "      <td>NaN</td>\n",
              "      <td>green</td>\n",
              "      <td>103</td>\n",
              "      <td>9.0</td>\n",
              "      <td>NaN</td>\n",
              "      <td>214</td>\n",
              "    </tr>\n",
              "    <tr>\n",
              "      <th>2</th>\n",
              "      <td>NaN</td>\n",
              "      <td>green</td>\n",
              "      <td>104</td>\n",
              "      <td>44.0</td>\n",
              "      <td>NaN</td>\n",
              "      <td>663</td>\n",
              "    </tr>\n",
              "    <tr>\n",
              "      <th>3</th>\n",
              "      <td>NaN</td>\n",
              "      <td>blue</td>\n",
              "      <td>105</td>\n",
              "      <td>21.0</td>\n",
              "      <td>NaN</td>\n",
              "      <td>331</td>\n",
              "    </tr>\n",
              "  </tbody>\n",
              "</table>\n",
              "</div>"
            ],
            "text/plain": [
              "  category   color customer  distance important  sales\n",
              "0     cat2     NaN      101       NaN       yes    123\n",
              "1     cat2     NaN      102       NaN        no     52\n",
              "2     cat1     NaN      103       NaN       yes    214\n",
              "3     cat3     NaN      104       NaN       yes    663\n",
              "0      NaN  yellow      101      12.0       NaN    123\n",
              "1      NaN   green      103       9.0       NaN    214\n",
              "2      NaN   green      104      44.0       NaN    663\n",
              "3      NaN    blue      105      21.0       NaN    331"
            ]
          },
          "metadata": {
            "tags": []
          },
          "execution_count": 42
        }
      ]
    },
    {
      "cell_type": "code",
      "metadata": {
        "id": "tvoOsFavEhAI",
        "colab_type": "code",
        "colab": {
          "base_uri": "https://localhost:8080/",
          "height": 173
        },
        "outputId": "bb11b9b8-1bd1-4403-ec3a-7d1bbbedd3cd"
      },
      "source": [
        "pd.concat([df7, df8], axis= 1, sort = False)\n",
        "# concats works on index values\n",
        "# putting df7, df8 sibe by side by their index value"
      ],
      "execution_count": 43,
      "outputs": [
        {
          "output_type": "execute_result",
          "data": {
            "text/html": [
              "<div>\n",
              "<style scoped>\n",
              "    .dataframe tbody tr th:only-of-type {\n",
              "        vertical-align: middle;\n",
              "    }\n",
              "\n",
              "    .dataframe tbody tr th {\n",
              "        vertical-align: top;\n",
              "    }\n",
              "\n",
              "    .dataframe thead th {\n",
              "        text-align: right;\n",
              "    }\n",
              "</style>\n",
              "<table border=\"1\" class=\"dataframe\">\n",
              "  <thead>\n",
              "    <tr style=\"text-align: right;\">\n",
              "      <th></th>\n",
              "      <th>customer</th>\n",
              "      <th>category</th>\n",
              "      <th>important</th>\n",
              "      <th>sales</th>\n",
              "      <th>customer</th>\n",
              "      <th>color</th>\n",
              "      <th>distance</th>\n",
              "      <th>sales</th>\n",
              "    </tr>\n",
              "  </thead>\n",
              "  <tbody>\n",
              "    <tr>\n",
              "      <th>0</th>\n",
              "      <td>101</td>\n",
              "      <td>cat2</td>\n",
              "      <td>yes</td>\n",
              "      <td>123</td>\n",
              "      <td>101</td>\n",
              "      <td>yellow</td>\n",
              "      <td>12</td>\n",
              "      <td>123</td>\n",
              "    </tr>\n",
              "    <tr>\n",
              "      <th>1</th>\n",
              "      <td>102</td>\n",
              "      <td>cat2</td>\n",
              "      <td>no</td>\n",
              "      <td>52</td>\n",
              "      <td>103</td>\n",
              "      <td>green</td>\n",
              "      <td>9</td>\n",
              "      <td>214</td>\n",
              "    </tr>\n",
              "    <tr>\n",
              "      <th>2</th>\n",
              "      <td>103</td>\n",
              "      <td>cat1</td>\n",
              "      <td>yes</td>\n",
              "      <td>214</td>\n",
              "      <td>104</td>\n",
              "      <td>green</td>\n",
              "      <td>44</td>\n",
              "      <td>663</td>\n",
              "    </tr>\n",
              "    <tr>\n",
              "      <th>3</th>\n",
              "      <td>104</td>\n",
              "      <td>cat3</td>\n",
              "      <td>yes</td>\n",
              "      <td>663</td>\n",
              "      <td>105</td>\n",
              "      <td>blue</td>\n",
              "      <td>21</td>\n",
              "      <td>331</td>\n",
              "    </tr>\n",
              "  </tbody>\n",
              "</table>\n",
              "</div>"
            ],
            "text/plain": [
              "  customer category important  sales customer   color  distance  sales\n",
              "0      101     cat2       yes    123      101  yellow        12    123\n",
              "1      102     cat2        no     52      103   green         9    214\n",
              "2      103     cat1       yes    214      104   green        44    663\n",
              "3      104     cat3       yes    663      105    blue        21    331"
            ]
          },
          "metadata": {
            "tags": []
          },
          "execution_count": 43
        }
      ]
    },
    {
      "cell_type": "code",
      "metadata": {
        "id": "LaPhLcMbEieA",
        "colab_type": "code",
        "colab": {}
      },
      "source": [
        "df7 = pd.DataFrame({'customer':['101', '102', '103', '104']\n",
        "                     , 'category':['cat2', 'cat2', 'cat1', 'cat3']\n",
        "                     , 'important':['yes', 'no', 'yes', 'yes']\n",
        "                     , 'sales':[123, 52, 214, 663]\n",
        "                     }, index = [0, 1, 2, 3])  # \n",
        "\n",
        "                    \n",
        "df8 = pd.DataFrame({'customer':['101', '103', '104', '105']\n",
        "                     , 'color':['yellow', 'green', 'green', 'blue']\n",
        "                     , 'distance':[12, 9, 44, 21]\n",
        "                     , 'sales':[123, 214, 663, 331]\n",
        "                     }, index = [4, 5, 6, 7])  # "
      ],
      "execution_count": 44,
      "outputs": []
    },
    {
      "cell_type": "code",
      "metadata": {
        "id": "EhfIEcjtGHOr",
        "colab_type": "code",
        "colab": {
          "base_uri": "https://localhost:8080/",
          "height": 297
        },
        "outputId": "89324a50-add6-4c01-c764-0c14cff657b7"
      },
      "source": [
        "pd.concat([df7, df8], axis= 0, sort = False)"
      ],
      "execution_count": 45,
      "outputs": [
        {
          "output_type": "execute_result",
          "data": {
            "text/html": [
              "<div>\n",
              "<style scoped>\n",
              "    .dataframe tbody tr th:only-of-type {\n",
              "        vertical-align: middle;\n",
              "    }\n",
              "\n",
              "    .dataframe tbody tr th {\n",
              "        vertical-align: top;\n",
              "    }\n",
              "\n",
              "    .dataframe thead th {\n",
              "        text-align: right;\n",
              "    }\n",
              "</style>\n",
              "<table border=\"1\" class=\"dataframe\">\n",
              "  <thead>\n",
              "    <tr style=\"text-align: right;\">\n",
              "      <th></th>\n",
              "      <th>customer</th>\n",
              "      <th>category</th>\n",
              "      <th>important</th>\n",
              "      <th>sales</th>\n",
              "      <th>color</th>\n",
              "      <th>distance</th>\n",
              "    </tr>\n",
              "  </thead>\n",
              "  <tbody>\n",
              "    <tr>\n",
              "      <th>0</th>\n",
              "      <td>101</td>\n",
              "      <td>cat2</td>\n",
              "      <td>yes</td>\n",
              "      <td>123</td>\n",
              "      <td>NaN</td>\n",
              "      <td>NaN</td>\n",
              "    </tr>\n",
              "    <tr>\n",
              "      <th>1</th>\n",
              "      <td>102</td>\n",
              "      <td>cat2</td>\n",
              "      <td>no</td>\n",
              "      <td>52</td>\n",
              "      <td>NaN</td>\n",
              "      <td>NaN</td>\n",
              "    </tr>\n",
              "    <tr>\n",
              "      <th>2</th>\n",
              "      <td>103</td>\n",
              "      <td>cat1</td>\n",
              "      <td>yes</td>\n",
              "      <td>214</td>\n",
              "      <td>NaN</td>\n",
              "      <td>NaN</td>\n",
              "    </tr>\n",
              "    <tr>\n",
              "      <th>3</th>\n",
              "      <td>104</td>\n",
              "      <td>cat3</td>\n",
              "      <td>yes</td>\n",
              "      <td>663</td>\n",
              "      <td>NaN</td>\n",
              "      <td>NaN</td>\n",
              "    </tr>\n",
              "    <tr>\n",
              "      <th>4</th>\n",
              "      <td>101</td>\n",
              "      <td>NaN</td>\n",
              "      <td>NaN</td>\n",
              "      <td>123</td>\n",
              "      <td>yellow</td>\n",
              "      <td>12.0</td>\n",
              "    </tr>\n",
              "    <tr>\n",
              "      <th>5</th>\n",
              "      <td>103</td>\n",
              "      <td>NaN</td>\n",
              "      <td>NaN</td>\n",
              "      <td>214</td>\n",
              "      <td>green</td>\n",
              "      <td>9.0</td>\n",
              "    </tr>\n",
              "    <tr>\n",
              "      <th>6</th>\n",
              "      <td>104</td>\n",
              "      <td>NaN</td>\n",
              "      <td>NaN</td>\n",
              "      <td>663</td>\n",
              "      <td>green</td>\n",
              "      <td>44.0</td>\n",
              "    </tr>\n",
              "    <tr>\n",
              "      <th>7</th>\n",
              "      <td>105</td>\n",
              "      <td>NaN</td>\n",
              "      <td>NaN</td>\n",
              "      <td>331</td>\n",
              "      <td>blue</td>\n",
              "      <td>21.0</td>\n",
              "    </tr>\n",
              "  </tbody>\n",
              "</table>\n",
              "</div>"
            ],
            "text/plain": [
              "  customer category important  sales   color  distance\n",
              "0      101     cat2       yes    123     NaN       NaN\n",
              "1      102     cat2        no     52     NaN       NaN\n",
              "2      103     cat1       yes    214     NaN       NaN\n",
              "3      104     cat3       yes    663     NaN       NaN\n",
              "4      101      NaN       NaN    123  yellow      12.0\n",
              "5      103      NaN       NaN    214   green       9.0\n",
              "6      104      NaN       NaN    663   green      44.0\n",
              "7      105      NaN       NaN    331    blue      21.0"
            ]
          },
          "metadata": {
            "tags": []
          },
          "execution_count": 45
        }
      ]
    },
    {
      "cell_type": "code",
      "metadata": {
        "id": "ip9cUN8KGH4_",
        "colab_type": "code",
        "colab": {
          "base_uri": "https://localhost:8080/",
          "height": 297
        },
        "outputId": "b8b62ce4-7f08-4413-9559-33e4c8c6ad6f"
      },
      "source": [
        "pd.concat([df7, df8], axis= 0, sort = True)"
      ],
      "execution_count": 46,
      "outputs": [
        {
          "output_type": "execute_result",
          "data": {
            "text/html": [
              "<div>\n",
              "<style scoped>\n",
              "    .dataframe tbody tr th:only-of-type {\n",
              "        vertical-align: middle;\n",
              "    }\n",
              "\n",
              "    .dataframe tbody tr th {\n",
              "        vertical-align: top;\n",
              "    }\n",
              "\n",
              "    .dataframe thead th {\n",
              "        text-align: right;\n",
              "    }\n",
              "</style>\n",
              "<table border=\"1\" class=\"dataframe\">\n",
              "  <thead>\n",
              "    <tr style=\"text-align: right;\">\n",
              "      <th></th>\n",
              "      <th>category</th>\n",
              "      <th>color</th>\n",
              "      <th>customer</th>\n",
              "      <th>distance</th>\n",
              "      <th>important</th>\n",
              "      <th>sales</th>\n",
              "    </tr>\n",
              "  </thead>\n",
              "  <tbody>\n",
              "    <tr>\n",
              "      <th>0</th>\n",
              "      <td>cat2</td>\n",
              "      <td>NaN</td>\n",
              "      <td>101</td>\n",
              "      <td>NaN</td>\n",
              "      <td>yes</td>\n",
              "      <td>123</td>\n",
              "    </tr>\n",
              "    <tr>\n",
              "      <th>1</th>\n",
              "      <td>cat2</td>\n",
              "      <td>NaN</td>\n",
              "      <td>102</td>\n",
              "      <td>NaN</td>\n",
              "      <td>no</td>\n",
              "      <td>52</td>\n",
              "    </tr>\n",
              "    <tr>\n",
              "      <th>2</th>\n",
              "      <td>cat1</td>\n",
              "      <td>NaN</td>\n",
              "      <td>103</td>\n",
              "      <td>NaN</td>\n",
              "      <td>yes</td>\n",
              "      <td>214</td>\n",
              "    </tr>\n",
              "    <tr>\n",
              "      <th>3</th>\n",
              "      <td>cat3</td>\n",
              "      <td>NaN</td>\n",
              "      <td>104</td>\n",
              "      <td>NaN</td>\n",
              "      <td>yes</td>\n",
              "      <td>663</td>\n",
              "    </tr>\n",
              "    <tr>\n",
              "      <th>4</th>\n",
              "      <td>NaN</td>\n",
              "      <td>yellow</td>\n",
              "      <td>101</td>\n",
              "      <td>12.0</td>\n",
              "      <td>NaN</td>\n",
              "      <td>123</td>\n",
              "    </tr>\n",
              "    <tr>\n",
              "      <th>5</th>\n",
              "      <td>NaN</td>\n",
              "      <td>green</td>\n",
              "      <td>103</td>\n",
              "      <td>9.0</td>\n",
              "      <td>NaN</td>\n",
              "      <td>214</td>\n",
              "    </tr>\n",
              "    <tr>\n",
              "      <th>6</th>\n",
              "      <td>NaN</td>\n",
              "      <td>green</td>\n",
              "      <td>104</td>\n",
              "      <td>44.0</td>\n",
              "      <td>NaN</td>\n",
              "      <td>663</td>\n",
              "    </tr>\n",
              "    <tr>\n",
              "      <th>7</th>\n",
              "      <td>NaN</td>\n",
              "      <td>blue</td>\n",
              "      <td>105</td>\n",
              "      <td>21.0</td>\n",
              "      <td>NaN</td>\n",
              "      <td>331</td>\n",
              "    </tr>\n",
              "  </tbody>\n",
              "</table>\n",
              "</div>"
            ],
            "text/plain": [
              "  category   color customer  distance important  sales\n",
              "0     cat2     NaN      101       NaN       yes    123\n",
              "1     cat2     NaN      102       NaN        no     52\n",
              "2     cat1     NaN      103       NaN       yes    214\n",
              "3     cat3     NaN      104       NaN       yes    663\n",
              "4      NaN  yellow      101      12.0       NaN    123\n",
              "5      NaN   green      103       9.0       NaN    214\n",
              "6      NaN   green      104      44.0       NaN    663\n",
              "7      NaN    blue      105      21.0       NaN    331"
            ]
          },
          "metadata": {
            "tags": []
          },
          "execution_count": 46
        }
      ]
    },
    {
      "cell_type": "code",
      "metadata": {
        "id": "pZFa8cGmGKo8",
        "colab_type": "code",
        "colab": {
          "base_uri": "https://localhost:8080/",
          "height": 297
        },
        "outputId": "3e8b45ed-6a16-46b0-a433-1e5c57d69005"
      },
      "source": [
        "pd.concat([df7, df8], axis= 1, sort = False)"
      ],
      "execution_count": 47,
      "outputs": [
        {
          "output_type": "execute_result",
          "data": {
            "text/html": [
              "<div>\n",
              "<style scoped>\n",
              "    .dataframe tbody tr th:only-of-type {\n",
              "        vertical-align: middle;\n",
              "    }\n",
              "\n",
              "    .dataframe tbody tr th {\n",
              "        vertical-align: top;\n",
              "    }\n",
              "\n",
              "    .dataframe thead th {\n",
              "        text-align: right;\n",
              "    }\n",
              "</style>\n",
              "<table border=\"1\" class=\"dataframe\">\n",
              "  <thead>\n",
              "    <tr style=\"text-align: right;\">\n",
              "      <th></th>\n",
              "      <th>customer</th>\n",
              "      <th>category</th>\n",
              "      <th>important</th>\n",
              "      <th>sales</th>\n",
              "      <th>customer</th>\n",
              "      <th>color</th>\n",
              "      <th>distance</th>\n",
              "      <th>sales</th>\n",
              "    </tr>\n",
              "  </thead>\n",
              "  <tbody>\n",
              "    <tr>\n",
              "      <th>0</th>\n",
              "      <td>101</td>\n",
              "      <td>cat2</td>\n",
              "      <td>yes</td>\n",
              "      <td>123.0</td>\n",
              "      <td>NaN</td>\n",
              "      <td>NaN</td>\n",
              "      <td>NaN</td>\n",
              "      <td>NaN</td>\n",
              "    </tr>\n",
              "    <tr>\n",
              "      <th>1</th>\n",
              "      <td>102</td>\n",
              "      <td>cat2</td>\n",
              "      <td>no</td>\n",
              "      <td>52.0</td>\n",
              "      <td>NaN</td>\n",
              "      <td>NaN</td>\n",
              "      <td>NaN</td>\n",
              "      <td>NaN</td>\n",
              "    </tr>\n",
              "    <tr>\n",
              "      <th>2</th>\n",
              "      <td>103</td>\n",
              "      <td>cat1</td>\n",
              "      <td>yes</td>\n",
              "      <td>214.0</td>\n",
              "      <td>NaN</td>\n",
              "      <td>NaN</td>\n",
              "      <td>NaN</td>\n",
              "      <td>NaN</td>\n",
              "    </tr>\n",
              "    <tr>\n",
              "      <th>3</th>\n",
              "      <td>104</td>\n",
              "      <td>cat3</td>\n",
              "      <td>yes</td>\n",
              "      <td>663.0</td>\n",
              "      <td>NaN</td>\n",
              "      <td>NaN</td>\n",
              "      <td>NaN</td>\n",
              "      <td>NaN</td>\n",
              "    </tr>\n",
              "    <tr>\n",
              "      <th>4</th>\n",
              "      <td>NaN</td>\n",
              "      <td>NaN</td>\n",
              "      <td>NaN</td>\n",
              "      <td>NaN</td>\n",
              "      <td>101</td>\n",
              "      <td>yellow</td>\n",
              "      <td>12.0</td>\n",
              "      <td>123.0</td>\n",
              "    </tr>\n",
              "    <tr>\n",
              "      <th>5</th>\n",
              "      <td>NaN</td>\n",
              "      <td>NaN</td>\n",
              "      <td>NaN</td>\n",
              "      <td>NaN</td>\n",
              "      <td>103</td>\n",
              "      <td>green</td>\n",
              "      <td>9.0</td>\n",
              "      <td>214.0</td>\n",
              "    </tr>\n",
              "    <tr>\n",
              "      <th>6</th>\n",
              "      <td>NaN</td>\n",
              "      <td>NaN</td>\n",
              "      <td>NaN</td>\n",
              "      <td>NaN</td>\n",
              "      <td>104</td>\n",
              "      <td>green</td>\n",
              "      <td>44.0</td>\n",
              "      <td>663.0</td>\n",
              "    </tr>\n",
              "    <tr>\n",
              "      <th>7</th>\n",
              "      <td>NaN</td>\n",
              "      <td>NaN</td>\n",
              "      <td>NaN</td>\n",
              "      <td>NaN</td>\n",
              "      <td>105</td>\n",
              "      <td>blue</td>\n",
              "      <td>21.0</td>\n",
              "      <td>331.0</td>\n",
              "    </tr>\n",
              "  </tbody>\n",
              "</table>\n",
              "</div>"
            ],
            "text/plain": [
              "  customer category important  sales customer   color  distance  sales\n",
              "0      101     cat2       yes  123.0      NaN     NaN       NaN    NaN\n",
              "1      102     cat2        no   52.0      NaN     NaN       NaN    NaN\n",
              "2      103     cat1       yes  214.0      NaN     NaN       NaN    NaN\n",
              "3      104     cat3       yes  663.0      NaN     NaN       NaN    NaN\n",
              "4      NaN      NaN       NaN    NaN      101  yellow      12.0  123.0\n",
              "5      NaN      NaN       NaN    NaN      103   green       9.0  214.0\n",
              "6      NaN      NaN       NaN    NaN      104   green      44.0  663.0\n",
              "7      NaN      NaN       NaN    NaN      105    blue      21.0  331.0"
            ]
          },
          "metadata": {
            "tags": []
          },
          "execution_count": 47
        }
      ]
    },
    {
      "cell_type": "markdown",
      "metadata": {
        "id": "a51-MIjOGsOe",
        "colab_type": "text"
      },
      "source": [
        "### merge and join\n",
        "merge combines dataframes using a col's values to identify common entries\n",
        "\n",
        "join combines dataframes using the index to identify common entires"
      ]
    },
    {
      "cell_type": "code",
      "metadata": {
        "id": "_LFQygS3GOOj",
        "colab_type": "code",
        "colab": {
          "base_uri": "https://localhost:8080/",
          "height": 204
        },
        "outputId": "9901d778-520b-4b78-b2c6-d3f0e7af78cf"
      },
      "source": [
        "import numpy as np\n",
        "import pandas as pd\n",
        "\n",
        "df7 = pd.DataFrame({'customer':['101', '102', '103', '104']\n",
        "                     , 'category':['cat2', 'cat2', 'cat1', 'cat3']\n",
        "                     , 'important':['yes', 'no', 'yes', 'yes']\n",
        "                     , 'sales':[123, 52, 214, 663]\n",
        "                     }, index = [0, 1, 2, 3])  # \n",
        "\n",
        "                    \n",
        "df8 = pd.DataFrame({'customer':['101', '103', '104', '105']\n",
        "                     , 'color':['yellow', 'green', 'green', 'blue']\n",
        "                     , 'distance':[12, 9, 44, 21]\n",
        "                     , 'sales':[123, 214, 663, 331]\n",
        "                     }, index = [4, 5, 6, 7])  # \n",
        "\n",
        "pd.merge(df7, df8, how = 'outer', on = 'customer')  # outer merge is union of on \n",
        "# if we have same variable in both, they will be represented as sales_x, sales_y for sales"
      ],
      "execution_count": 48,
      "outputs": [
        {
          "output_type": "execute_result",
          "data": {
            "text/html": [
              "<div>\n",
              "<style scoped>\n",
              "    .dataframe tbody tr th:only-of-type {\n",
              "        vertical-align: middle;\n",
              "    }\n",
              "\n",
              "    .dataframe tbody tr th {\n",
              "        vertical-align: top;\n",
              "    }\n",
              "\n",
              "    .dataframe thead th {\n",
              "        text-align: right;\n",
              "    }\n",
              "</style>\n",
              "<table border=\"1\" class=\"dataframe\">\n",
              "  <thead>\n",
              "    <tr style=\"text-align: right;\">\n",
              "      <th></th>\n",
              "      <th>customer</th>\n",
              "      <th>category</th>\n",
              "      <th>important</th>\n",
              "      <th>sales_x</th>\n",
              "      <th>color</th>\n",
              "      <th>distance</th>\n",
              "      <th>sales_y</th>\n",
              "    </tr>\n",
              "  </thead>\n",
              "  <tbody>\n",
              "    <tr>\n",
              "      <th>0</th>\n",
              "      <td>101</td>\n",
              "      <td>cat2</td>\n",
              "      <td>yes</td>\n",
              "      <td>123.0</td>\n",
              "      <td>yellow</td>\n",
              "      <td>12.0</td>\n",
              "      <td>123.0</td>\n",
              "    </tr>\n",
              "    <tr>\n",
              "      <th>1</th>\n",
              "      <td>102</td>\n",
              "      <td>cat2</td>\n",
              "      <td>no</td>\n",
              "      <td>52.0</td>\n",
              "      <td>NaN</td>\n",
              "      <td>NaN</td>\n",
              "      <td>NaN</td>\n",
              "    </tr>\n",
              "    <tr>\n",
              "      <th>2</th>\n",
              "      <td>103</td>\n",
              "      <td>cat1</td>\n",
              "      <td>yes</td>\n",
              "      <td>214.0</td>\n",
              "      <td>green</td>\n",
              "      <td>9.0</td>\n",
              "      <td>214.0</td>\n",
              "    </tr>\n",
              "    <tr>\n",
              "      <th>3</th>\n",
              "      <td>104</td>\n",
              "      <td>cat3</td>\n",
              "      <td>yes</td>\n",
              "      <td>663.0</td>\n",
              "      <td>green</td>\n",
              "      <td>44.0</td>\n",
              "      <td>663.0</td>\n",
              "    </tr>\n",
              "    <tr>\n",
              "      <th>4</th>\n",
              "      <td>105</td>\n",
              "      <td>NaN</td>\n",
              "      <td>NaN</td>\n",
              "      <td>NaN</td>\n",
              "      <td>blue</td>\n",
              "      <td>21.0</td>\n",
              "      <td>331.0</td>\n",
              "    </tr>\n",
              "  </tbody>\n",
              "</table>\n",
              "</div>"
            ],
            "text/plain": [
              "  customer category important  sales_x   color  distance  sales_y\n",
              "0      101     cat2       yes    123.0  yellow      12.0    123.0\n",
              "1      102     cat2        no     52.0     NaN       NaN      NaN\n",
              "2      103     cat1       yes    214.0   green       9.0    214.0\n",
              "3      104     cat3       yes    663.0   green      44.0    663.0\n",
              "4      105      NaN       NaN      NaN    blue      21.0    331.0"
            ]
          },
          "metadata": {
            "tags": []
          },
          "execution_count": 48
        }
      ]
    },
    {
      "cell_type": "code",
      "metadata": {
        "id": "lkWrjR_wWwrp",
        "colab_type": "code",
        "colab": {
          "base_uri": "https://localhost:8080/",
          "height": 142
        },
        "outputId": "6cb84bde-0271-4455-a5b0-19949a02c9e4"
      },
      "source": [
        "pd.merge(df7, df8, how = 'inner', on = 'customer')  # intersection\n",
        "# we dont have NaN in inner merge"
      ],
      "execution_count": 49,
      "outputs": [
        {
          "output_type": "execute_result",
          "data": {
            "text/html": [
              "<div>\n",
              "<style scoped>\n",
              "    .dataframe tbody tr th:only-of-type {\n",
              "        vertical-align: middle;\n",
              "    }\n",
              "\n",
              "    .dataframe tbody tr th {\n",
              "        vertical-align: top;\n",
              "    }\n",
              "\n",
              "    .dataframe thead th {\n",
              "        text-align: right;\n",
              "    }\n",
              "</style>\n",
              "<table border=\"1\" class=\"dataframe\">\n",
              "  <thead>\n",
              "    <tr style=\"text-align: right;\">\n",
              "      <th></th>\n",
              "      <th>customer</th>\n",
              "      <th>category</th>\n",
              "      <th>important</th>\n",
              "      <th>sales_x</th>\n",
              "      <th>color</th>\n",
              "      <th>distance</th>\n",
              "      <th>sales_y</th>\n",
              "    </tr>\n",
              "  </thead>\n",
              "  <tbody>\n",
              "    <tr>\n",
              "      <th>0</th>\n",
              "      <td>101</td>\n",
              "      <td>cat2</td>\n",
              "      <td>yes</td>\n",
              "      <td>123</td>\n",
              "      <td>yellow</td>\n",
              "      <td>12</td>\n",
              "      <td>123</td>\n",
              "    </tr>\n",
              "    <tr>\n",
              "      <th>1</th>\n",
              "      <td>103</td>\n",
              "      <td>cat1</td>\n",
              "      <td>yes</td>\n",
              "      <td>214</td>\n",
              "      <td>green</td>\n",
              "      <td>9</td>\n",
              "      <td>214</td>\n",
              "    </tr>\n",
              "    <tr>\n",
              "      <th>2</th>\n",
              "      <td>104</td>\n",
              "      <td>cat3</td>\n",
              "      <td>yes</td>\n",
              "      <td>663</td>\n",
              "      <td>green</td>\n",
              "      <td>44</td>\n",
              "      <td>663</td>\n",
              "    </tr>\n",
              "  </tbody>\n",
              "</table>\n",
              "</div>"
            ],
            "text/plain": [
              "  customer category important  sales_x   color  distance  sales_y\n",
              "0      101     cat2       yes      123  yellow        12      123\n",
              "1      103     cat1       yes      214   green         9      214\n",
              "2      104     cat3       yes      663   green        44      663"
            ]
          },
          "metadata": {
            "tags": []
          },
          "execution_count": 49
        }
      ]
    },
    {
      "cell_type": "code",
      "metadata": {
        "id": "Dd3kdfBzX2oE",
        "colab_type": "code",
        "colab": {
          "base_uri": "https://localhost:8080/",
          "height": 173
        },
        "outputId": "055efc67-f1cc-4e22-dd4b-c2ee00e301a6"
      },
      "source": [
        "pd.merge(df7, df8, how = 'left', on = 'customer') \n",
        "# gives all rows from first dataframe i.e: df7"
      ],
      "execution_count": 50,
      "outputs": [
        {
          "output_type": "execute_result",
          "data": {
            "text/html": [
              "<div>\n",
              "<style scoped>\n",
              "    .dataframe tbody tr th:only-of-type {\n",
              "        vertical-align: middle;\n",
              "    }\n",
              "\n",
              "    .dataframe tbody tr th {\n",
              "        vertical-align: top;\n",
              "    }\n",
              "\n",
              "    .dataframe thead th {\n",
              "        text-align: right;\n",
              "    }\n",
              "</style>\n",
              "<table border=\"1\" class=\"dataframe\">\n",
              "  <thead>\n",
              "    <tr style=\"text-align: right;\">\n",
              "      <th></th>\n",
              "      <th>customer</th>\n",
              "      <th>category</th>\n",
              "      <th>important</th>\n",
              "      <th>sales_x</th>\n",
              "      <th>color</th>\n",
              "      <th>distance</th>\n",
              "      <th>sales_y</th>\n",
              "    </tr>\n",
              "  </thead>\n",
              "  <tbody>\n",
              "    <tr>\n",
              "      <th>0</th>\n",
              "      <td>101</td>\n",
              "      <td>cat2</td>\n",
              "      <td>yes</td>\n",
              "      <td>123</td>\n",
              "      <td>yellow</td>\n",
              "      <td>12.0</td>\n",
              "      <td>123.0</td>\n",
              "    </tr>\n",
              "    <tr>\n",
              "      <th>1</th>\n",
              "      <td>102</td>\n",
              "      <td>cat2</td>\n",
              "      <td>no</td>\n",
              "      <td>52</td>\n",
              "      <td>NaN</td>\n",
              "      <td>NaN</td>\n",
              "      <td>NaN</td>\n",
              "    </tr>\n",
              "    <tr>\n",
              "      <th>2</th>\n",
              "      <td>103</td>\n",
              "      <td>cat1</td>\n",
              "      <td>yes</td>\n",
              "      <td>214</td>\n",
              "      <td>green</td>\n",
              "      <td>9.0</td>\n",
              "      <td>214.0</td>\n",
              "    </tr>\n",
              "    <tr>\n",
              "      <th>3</th>\n",
              "      <td>104</td>\n",
              "      <td>cat3</td>\n",
              "      <td>yes</td>\n",
              "      <td>663</td>\n",
              "      <td>green</td>\n",
              "      <td>44.0</td>\n",
              "      <td>663.0</td>\n",
              "    </tr>\n",
              "  </tbody>\n",
              "</table>\n",
              "</div>"
            ],
            "text/plain": [
              "  customer category important  sales_x   color  distance  sales_y\n",
              "0      101     cat2       yes      123  yellow      12.0    123.0\n",
              "1      102     cat2        no       52     NaN       NaN      NaN\n",
              "2      103     cat1       yes      214   green       9.0    214.0\n",
              "3      104     cat3       yes      663   green      44.0    663.0"
            ]
          },
          "metadata": {
            "tags": []
          },
          "execution_count": 50
        }
      ]
    },
    {
      "cell_type": "code",
      "metadata": {
        "id": "Xn7WsC2aYBDc",
        "colab_type": "code",
        "colab": {
          "base_uri": "https://localhost:8080/",
          "height": 173
        },
        "outputId": "f8d133ae-34a1-4898-a24e-79fdf694d67e"
      },
      "source": [
        "pd.merge(df7, df8, how = 'right', on = 'customer') \n",
        "# gives all rows from second dataframe i.e: df8"
      ],
      "execution_count": 51,
      "outputs": [
        {
          "output_type": "execute_result",
          "data": {
            "text/html": [
              "<div>\n",
              "<style scoped>\n",
              "    .dataframe tbody tr th:only-of-type {\n",
              "        vertical-align: middle;\n",
              "    }\n",
              "\n",
              "    .dataframe tbody tr th {\n",
              "        vertical-align: top;\n",
              "    }\n",
              "\n",
              "    .dataframe thead th {\n",
              "        text-align: right;\n",
              "    }\n",
              "</style>\n",
              "<table border=\"1\" class=\"dataframe\">\n",
              "  <thead>\n",
              "    <tr style=\"text-align: right;\">\n",
              "      <th></th>\n",
              "      <th>customer</th>\n",
              "      <th>category</th>\n",
              "      <th>important</th>\n",
              "      <th>sales_x</th>\n",
              "      <th>color</th>\n",
              "      <th>distance</th>\n",
              "      <th>sales_y</th>\n",
              "    </tr>\n",
              "  </thead>\n",
              "  <tbody>\n",
              "    <tr>\n",
              "      <th>0</th>\n",
              "      <td>101</td>\n",
              "      <td>cat2</td>\n",
              "      <td>yes</td>\n",
              "      <td>123.0</td>\n",
              "      <td>yellow</td>\n",
              "      <td>12</td>\n",
              "      <td>123</td>\n",
              "    </tr>\n",
              "    <tr>\n",
              "      <th>1</th>\n",
              "      <td>103</td>\n",
              "      <td>cat1</td>\n",
              "      <td>yes</td>\n",
              "      <td>214.0</td>\n",
              "      <td>green</td>\n",
              "      <td>9</td>\n",
              "      <td>214</td>\n",
              "    </tr>\n",
              "    <tr>\n",
              "      <th>2</th>\n",
              "      <td>104</td>\n",
              "      <td>cat3</td>\n",
              "      <td>yes</td>\n",
              "      <td>663.0</td>\n",
              "      <td>green</td>\n",
              "      <td>44</td>\n",
              "      <td>663</td>\n",
              "    </tr>\n",
              "    <tr>\n",
              "      <th>3</th>\n",
              "      <td>105</td>\n",
              "      <td>NaN</td>\n",
              "      <td>NaN</td>\n",
              "      <td>NaN</td>\n",
              "      <td>blue</td>\n",
              "      <td>21</td>\n",
              "      <td>331</td>\n",
              "    </tr>\n",
              "  </tbody>\n",
              "</table>\n",
              "</div>"
            ],
            "text/plain": [
              "  customer category important  sales_x   color  distance  sales_y\n",
              "0      101     cat2       yes    123.0  yellow        12      123\n",
              "1      103     cat1       yes    214.0   green         9      214\n",
              "2      104     cat3       yes    663.0   green        44      663\n",
              "3      105      NaN       NaN      NaN    blue        21      331"
            ]
          },
          "metadata": {
            "tags": []
          },
          "execution_count": 51
        }
      ]
    },
    {
      "cell_type": "markdown",
      "metadata": {
        "id": "D7qMsZJCYMsZ",
        "colab_type": "text"
      },
      "source": [
        "\"merge\" combines the column values, whereas \"join\" combines the index values"
      ]
    },
    {
      "cell_type": "code",
      "metadata": {
        "id": "7BLqJgTqYZdL",
        "colab_type": "code",
        "colab": {}
      },
      "source": [
        "df9 = pd.DataFrame({'Q1': [101, 102, 103]\n",
        "                    , 'Q2': [201, 202, 203]}\n",
        "                    , index = ['I0', 'I1', 'I2'])\n",
        "\n",
        "df10 = pd.DataFrame({'Q3': [301, 302, 303]\n",
        "                    , 'Q4': [401, 402, 403]}\n",
        "                    , index = ['I0', 'I2', 'I3'])\n"
      ],
      "execution_count": 55,
      "outputs": []
    },
    {
      "cell_type": "code",
      "metadata": {
        "id": "nhdbA-1SZbWY",
        "colab_type": "code",
        "colab": {
          "base_uri": "https://localhost:8080/",
          "height": 173
        },
        "outputId": "6790df48-2c40-4dbc-86d6-a51f8e4dd249"
      },
      "source": [
        "# join behaves just like merge\n",
        "# except instead of using the values of one of the columns\n",
        "# to combine data frames,it uses the index labels\n",
        "\n",
        "df9.join(df10, how ='outer')"
      ],
      "execution_count": 56,
      "outputs": [
        {
          "output_type": "execute_result",
          "data": {
            "text/html": [
              "<div>\n",
              "<style scoped>\n",
              "    .dataframe tbody tr th:only-of-type {\n",
              "        vertical-align: middle;\n",
              "    }\n",
              "\n",
              "    .dataframe tbody tr th {\n",
              "        vertical-align: top;\n",
              "    }\n",
              "\n",
              "    .dataframe thead th {\n",
              "        text-align: right;\n",
              "    }\n",
              "</style>\n",
              "<table border=\"1\" class=\"dataframe\">\n",
              "  <thead>\n",
              "    <tr style=\"text-align: right;\">\n",
              "      <th></th>\n",
              "      <th>Q1</th>\n",
              "      <th>Q2</th>\n",
              "      <th>Q3</th>\n",
              "      <th>Q4</th>\n",
              "    </tr>\n",
              "  </thead>\n",
              "  <tbody>\n",
              "    <tr>\n",
              "      <th>I0</th>\n",
              "      <td>101.0</td>\n",
              "      <td>201.0</td>\n",
              "      <td>301.0</td>\n",
              "      <td>401.0</td>\n",
              "    </tr>\n",
              "    <tr>\n",
              "      <th>I1</th>\n",
              "      <td>102.0</td>\n",
              "      <td>202.0</td>\n",
              "      <td>NaN</td>\n",
              "      <td>NaN</td>\n",
              "    </tr>\n",
              "    <tr>\n",
              "      <th>I2</th>\n",
              "      <td>103.0</td>\n",
              "      <td>203.0</td>\n",
              "      <td>302.0</td>\n",
              "      <td>402.0</td>\n",
              "    </tr>\n",
              "    <tr>\n",
              "      <th>I3</th>\n",
              "      <td>NaN</td>\n",
              "      <td>NaN</td>\n",
              "      <td>303.0</td>\n",
              "      <td>403.0</td>\n",
              "    </tr>\n",
              "  </tbody>\n",
              "</table>\n",
              "</div>"
            ],
            "text/plain": [
              "       Q1     Q2     Q3     Q4\n",
              "I0  101.0  201.0  301.0  401.0\n",
              "I1  102.0  202.0    NaN    NaN\n",
              "I2  103.0  203.0  302.0  402.0\n",
              "I3    NaN    NaN  303.0  403.0"
            ]
          },
          "metadata": {
            "tags": []
          },
          "execution_count": 56
        }
      ]
    },
    {
      "cell_type": "code",
      "metadata": {
        "id": "gf4Mx7oIcNCg",
        "colab_type": "code",
        "colab": {
          "base_uri": "https://localhost:8080/",
          "height": 111
        },
        "outputId": "262edc82-ac3d-475f-eeb0-292864fa7f1e"
      },
      "source": [
        "df9.join(df10, how ='outer')"
      ],
      "execution_count": 57,
      "outputs": [
        {
          "output_type": "execute_result",
          "data": {
            "text/html": [
              "<div>\n",
              "<style scoped>\n",
              "    .dataframe tbody tr th:only-of-type {\n",
              "        vertical-align: middle;\n",
              "    }\n",
              "\n",
              "    .dataframe tbody tr th {\n",
              "        vertical-align: top;\n",
              "    }\n",
              "\n",
              "    .dataframe thead th {\n",
              "        text-align: right;\n",
              "    }\n",
              "</style>\n",
              "<table border=\"1\" class=\"dataframe\">\n",
              "  <thead>\n",
              "    <tr style=\"text-align: right;\">\n",
              "      <th></th>\n",
              "      <th>Q1</th>\n",
              "      <th>Q2</th>\n",
              "      <th>Q3</th>\n",
              "      <th>Q4</th>\n",
              "    </tr>\n",
              "  </thead>\n",
              "  <tbody>\n",
              "    <tr>\n",
              "      <th>I0</th>\n",
              "      <td>101</td>\n",
              "      <td>201</td>\n",
              "      <td>301</td>\n",
              "      <td>401</td>\n",
              "    </tr>\n",
              "    <tr>\n",
              "      <th>I2</th>\n",
              "      <td>103</td>\n",
              "      <td>203</td>\n",
              "      <td>302</td>\n",
              "      <td>402</td>\n",
              "    </tr>\n",
              "  </tbody>\n",
              "</table>\n",
              "</div>"
            ],
            "text/plain": [
              "     Q1   Q2   Q3   Q4\n",
              "I0  101  201  301  401\n",
              "I2  103  203  302  402"
            ]
          },
          "metadata": {
            "tags": []
          },
          "execution_count": 57
        }
      ]
    },
    {
      "cell_type": "code",
      "metadata": {
        "id": "6lCsVlpMcfJy",
        "colab_type": "code",
        "colab": {
          "base_uri": "https://localhost:8080/",
          "height": 142
        },
        "outputId": "0b85c2bb-098c-46e2-d5bf-101c70c32f5f"
      },
      "source": [
        "df9.join(df10, how ='left')"
      ],
      "execution_count": 59,
      "outputs": [
        {
          "output_type": "execute_result",
          "data": {
            "text/html": [
              "<div>\n",
              "<style scoped>\n",
              "    .dataframe tbody tr th:only-of-type {\n",
              "        vertical-align: middle;\n",
              "    }\n",
              "\n",
              "    .dataframe tbody tr th {\n",
              "        vertical-align: top;\n",
              "    }\n",
              "\n",
              "    .dataframe thead th {\n",
              "        text-align: right;\n",
              "    }\n",
              "</style>\n",
              "<table border=\"1\" class=\"dataframe\">\n",
              "  <thead>\n",
              "    <tr style=\"text-align: right;\">\n",
              "      <th></th>\n",
              "      <th>Q1</th>\n",
              "      <th>Q2</th>\n",
              "      <th>Q3</th>\n",
              "      <th>Q4</th>\n",
              "    </tr>\n",
              "  </thead>\n",
              "  <tbody>\n",
              "    <tr>\n",
              "      <th>I0</th>\n",
              "      <td>101</td>\n",
              "      <td>201</td>\n",
              "      <td>301.0</td>\n",
              "      <td>401.0</td>\n",
              "    </tr>\n",
              "    <tr>\n",
              "      <th>I1</th>\n",
              "      <td>102</td>\n",
              "      <td>202</td>\n",
              "      <td>NaN</td>\n",
              "      <td>NaN</td>\n",
              "    </tr>\n",
              "    <tr>\n",
              "      <th>I2</th>\n",
              "      <td>103</td>\n",
              "      <td>203</td>\n",
              "      <td>302.0</td>\n",
              "      <td>402.0</td>\n",
              "    </tr>\n",
              "  </tbody>\n",
              "</table>\n",
              "</div>"
            ],
            "text/plain": [
              "     Q1   Q2     Q3     Q4\n",
              "I0  101  201  301.0  401.0\n",
              "I1  102  202    NaN    NaN\n",
              "I2  103  203  302.0  402.0"
            ]
          },
          "metadata": {
            "tags": []
          },
          "execution_count": 59
        }
      ]
    },
    {
      "cell_type": "code",
      "metadata": {
        "id": "qc5m1GRydabP",
        "colab_type": "code",
        "colab": {
          "base_uri": "https://localhost:8080/",
          "height": 142
        },
        "outputId": "23d804ac-0ac0-4bde-c88e-2718959a07d0"
      },
      "source": [
        "df9.join(df10, how ='right')"
      ],
      "execution_count": 60,
      "outputs": [
        {
          "output_type": "execute_result",
          "data": {
            "text/html": [
              "<div>\n",
              "<style scoped>\n",
              "    .dataframe tbody tr th:only-of-type {\n",
              "        vertical-align: middle;\n",
              "    }\n",
              "\n",
              "    .dataframe tbody tr th {\n",
              "        vertical-align: top;\n",
              "    }\n",
              "\n",
              "    .dataframe thead th {\n",
              "        text-align: right;\n",
              "    }\n",
              "</style>\n",
              "<table border=\"1\" class=\"dataframe\">\n",
              "  <thead>\n",
              "    <tr style=\"text-align: right;\">\n",
              "      <th></th>\n",
              "      <th>Q1</th>\n",
              "      <th>Q2</th>\n",
              "      <th>Q3</th>\n",
              "      <th>Q4</th>\n",
              "    </tr>\n",
              "  </thead>\n",
              "  <tbody>\n",
              "    <tr>\n",
              "      <th>I0</th>\n",
              "      <td>101.0</td>\n",
              "      <td>201.0</td>\n",
              "      <td>301</td>\n",
              "      <td>401</td>\n",
              "    </tr>\n",
              "    <tr>\n",
              "      <th>I2</th>\n",
              "      <td>103.0</td>\n",
              "      <td>203.0</td>\n",
              "      <td>302</td>\n",
              "      <td>402</td>\n",
              "    </tr>\n",
              "    <tr>\n",
              "      <th>I3</th>\n",
              "      <td>NaN</td>\n",
              "      <td>NaN</td>\n",
              "      <td>303</td>\n",
              "      <td>403</td>\n",
              "    </tr>\n",
              "  </tbody>\n",
              "</table>\n",
              "</div>"
            ],
            "text/plain": [
              "       Q1     Q2   Q3   Q4\n",
              "I0  101.0  201.0  301  401\n",
              "I2  103.0  203.0  302  402\n",
              "I3    NaN    NaN  303  403"
            ]
          },
          "metadata": {
            "tags": []
          },
          "execution_count": 60
        }
      ]
    },
    {
      "cell_type": "markdown",
      "metadata": {
        "id": "nbI76A22dtII",
        "colab_type": "text"
      },
      "source": [
        "# Functionalities of PANDAS"
      ]
    },
    {
      "cell_type": "code",
      "metadata": {
        "id": "UCefMGIndggg",
        "colab_type": "code",
        "colab": {
          "base_uri": "https://localhost:8080/",
          "height": 34
        },
        "outputId": "b08977f5-d957-4769-d4c8-c8a97d5b346e"
      },
      "source": [
        "#  Series\n",
        "\n",
        "df8['color'].unique()  # all unique values"
      ],
      "execution_count": 62,
      "outputs": [
        {
          "output_type": "execute_result",
          "data": {
            "text/plain": [
              "array(['yellow', 'green', 'blue'], dtype=object)"
            ]
          },
          "metadata": {
            "tags": []
          },
          "execution_count": 62
        }
      ]
    },
    {
      "cell_type": "code",
      "metadata": {
        "id": "UcwbiRtum3PN",
        "colab_type": "code",
        "colab": {
          "base_uri": "https://localhost:8080/",
          "height": 85
        },
        "outputId": "10b6d884-af09-4ab3-ce15-f8b45f487dd1"
      },
      "source": [
        "#Series\n",
        "df8['color'].value_counts()  # no of times the labels show up"
      ],
      "execution_count": 64,
      "outputs": [
        {
          "output_type": "execute_result",
          "data": {
            "text/plain": [
              "green     2\n",
              "blue      1\n",
              "yellow    1\n",
              "Name: color, dtype: int64"
            ]
          },
          "metadata": {
            "tags": []
          },
          "execution_count": 64
        }
      ]
    },
    {
      "cell_type": "code",
      "metadata": {
        "id": "WQ5FvhmOmq0B",
        "colab_type": "code",
        "colab": {
          "base_uri": "https://localhost:8080/",
          "height": 68
        },
        "outputId": "ee482d66-ef4f-4aaa-9b7e-aa233897aa83"
      },
      "source": [
        "# Series\n",
        "df9.mean()  # to cal the mean of the dataframe"
      ],
      "execution_count": 65,
      "outputs": [
        {
          "output_type": "execute_result",
          "data": {
            "text/plain": [
              "Q1    102.0\n",
              "Q2    202.0\n",
              "dtype: float64"
            ]
          },
          "metadata": {
            "tags": []
          },
          "execution_count": 65
        }
      ]
    },
    {
      "cell_type": "code",
      "metadata": {
        "id": "yTicqCGGnLrX",
        "colab_type": "code",
        "colab": {
          "base_uri": "https://localhost:8080/",
          "height": 34
        },
        "outputId": "7504b5d2-6c02-4575-e5b5-f24d43878181"
      },
      "source": [
        "df8.columns  # list of col names"
      ],
      "execution_count": 66,
      "outputs": [
        {
          "output_type": "execute_result",
          "data": {
            "text/plain": [
              "Index(['customer', 'color', 'distance', 'sales'], dtype='object')"
            ]
          },
          "metadata": {
            "tags": []
          },
          "execution_count": 66
        }
      ]
    },
    {
      "cell_type": "code",
      "metadata": {
        "id": "tNnSRLHdna8a",
        "colab_type": "code",
        "colab": {
          "base_uri": "https://localhost:8080/",
          "height": 173
        },
        "outputId": "0bf5e1bd-50c4-4e8a-a3d9-df2564598bf8"
      },
      "source": [
        "df8  # to cross check"
      ],
      "execution_count": 67,
      "outputs": [
        {
          "output_type": "execute_result",
          "data": {
            "text/html": [
              "<div>\n",
              "<style scoped>\n",
              "    .dataframe tbody tr th:only-of-type {\n",
              "        vertical-align: middle;\n",
              "    }\n",
              "\n",
              "    .dataframe tbody tr th {\n",
              "        vertical-align: top;\n",
              "    }\n",
              "\n",
              "    .dataframe thead th {\n",
              "        text-align: right;\n",
              "    }\n",
              "</style>\n",
              "<table border=\"1\" class=\"dataframe\">\n",
              "  <thead>\n",
              "    <tr style=\"text-align: right;\">\n",
              "      <th></th>\n",
              "      <th>customer</th>\n",
              "      <th>color</th>\n",
              "      <th>distance</th>\n",
              "      <th>sales</th>\n",
              "    </tr>\n",
              "  </thead>\n",
              "  <tbody>\n",
              "    <tr>\n",
              "      <th>4</th>\n",
              "      <td>101</td>\n",
              "      <td>yellow</td>\n",
              "      <td>12</td>\n",
              "      <td>123</td>\n",
              "    </tr>\n",
              "    <tr>\n",
              "      <th>5</th>\n",
              "      <td>103</td>\n",
              "      <td>green</td>\n",
              "      <td>9</td>\n",
              "      <td>214</td>\n",
              "    </tr>\n",
              "    <tr>\n",
              "      <th>6</th>\n",
              "      <td>104</td>\n",
              "      <td>green</td>\n",
              "      <td>44</td>\n",
              "      <td>663</td>\n",
              "    </tr>\n",
              "    <tr>\n",
              "      <th>7</th>\n",
              "      <td>105</td>\n",
              "      <td>blue</td>\n",
              "      <td>21</td>\n",
              "      <td>331</td>\n",
              "    </tr>\n",
              "  </tbody>\n",
              "</table>\n",
              "</div>"
            ],
            "text/plain": [
              "  customer   color  distance  sales\n",
              "4      101  yellow        12    123\n",
              "5      103   green         9    214\n",
              "6      104   green        44    663\n",
              "7      105    blue        21    331"
            ]
          },
          "metadata": {
            "tags": []
          },
          "execution_count": 67
        }
      ]
    },
    {
      "cell_type": "code",
      "metadata": {
        "id": "grOsnUgUnh2h",
        "colab_type": "code",
        "colab": {
          "base_uri": "https://localhost:8080/",
          "height": 80
        },
        "outputId": "45cbc172-46e6-4b9c-d57f-3ddfd20d9e09"
      },
      "source": [
        "# we can create a new df using the series\n",
        "new_df = df8[(df8['customer'] != '105') & (df8['color'] != 'green')]\n",
        "new_df"
      ],
      "execution_count": 68,
      "outputs": [
        {
          "output_type": "execute_result",
          "data": {
            "text/html": [
              "<div>\n",
              "<style scoped>\n",
              "    .dataframe tbody tr th:only-of-type {\n",
              "        vertical-align: middle;\n",
              "    }\n",
              "\n",
              "    .dataframe tbody tr th {\n",
              "        vertical-align: top;\n",
              "    }\n",
              "\n",
              "    .dataframe thead th {\n",
              "        text-align: right;\n",
              "    }\n",
              "</style>\n",
              "<table border=\"1\" class=\"dataframe\">\n",
              "  <thead>\n",
              "    <tr style=\"text-align: right;\">\n",
              "      <th></th>\n",
              "      <th>customer</th>\n",
              "      <th>color</th>\n",
              "      <th>distance</th>\n",
              "      <th>sales</th>\n",
              "    </tr>\n",
              "  </thead>\n",
              "  <tbody>\n",
              "    <tr>\n",
              "      <th>4</th>\n",
              "      <td>101</td>\n",
              "      <td>yellow</td>\n",
              "      <td>12</td>\n",
              "      <td>123</td>\n",
              "    </tr>\n",
              "  </tbody>\n",
              "</table>\n",
              "</div>"
            ],
            "text/plain": [
              "  customer   color  distance  sales\n",
              "4      101  yellow        12    123"
            ]
          },
          "metadata": {
            "tags": []
          },
          "execution_count": 68
        }
      ]
    },
    {
      "cell_type": "code",
      "metadata": {
        "id": "vPk12QGHn33r",
        "colab_type": "code",
        "colab": {
          "base_uri": "https://localhost:8080/",
          "height": 85
        },
        "outputId": "409a83b9-2340-415c-86fd-631f6a842489"
      },
      "source": [
        "# mean, std, sum, min of the series\n",
        "print(df8['sales'].mean())\n",
        "print(df8['distance'].min())\n",
        "print(df8['sales'].std())\n",
        "print(df8['sales'].sum())"
      ],
      "execution_count": 71,
      "outputs": [
        {
          "output_type": "stream",
          "text": [
            "332.75\n",
            "9\n",
            "236.05419575456256\n",
            "1331\n"
          ],
          "name": "stdout"
        }
      ]
    },
    {
      "cell_type": "code",
      "metadata": {
        "id": "_dz_kL9MoH4M",
        "colab_type": "code",
        "colab": {}
      },
      "source": [
        "def profit(s):\n",
        "  return s * 0.5"
      ],
      "execution_count": 72,
      "outputs": []
    },
    {
      "cell_type": "code",
      "metadata": {
        "id": "L4KCEQG1obB8",
        "colab_type": "code",
        "colab": {
          "base_uri": "https://localhost:8080/",
          "height": 102
        },
        "outputId": "457511bd-a578-4312-cd0c-27dba65322ec"
      },
      "source": [
        "df8['sales'].apply(profit)  # apply() allows to use the user defined funtion "
      ],
      "execution_count": 73,
      "outputs": [
        {
          "output_type": "execute_result",
          "data": {
            "text/plain": [
              "4     61.5\n",
              "5    107.0\n",
              "6    331.5\n",
              "7    165.5\n",
              "Name: sales, dtype: float64"
            ]
          },
          "metadata": {
            "tags": []
          },
          "execution_count": 73
        }
      ]
    },
    {
      "cell_type": "code",
      "metadata": {
        "id": "epFI8e0oorZp",
        "colab_type": "code",
        "colab": {
          "base_uri": "https://localhost:8080/",
          "height": 102
        },
        "outputId": "5080d632-52a3-4d86-a7a0-4dd84b3affcc"
      },
      "source": [
        "df8['color'].apply(len)  \n",
        "# applying the predined function\n",
        "# as we cant direclty apply the len function on the series"
      ],
      "execution_count": 75,
      "outputs": [
        {
          "output_type": "execute_result",
          "data": {
            "text/plain": [
              "4    6\n",
              "5    5\n",
              "6    5\n",
              "7    4\n",
              "Name: color, dtype: int64"
            ]
          },
          "metadata": {
            "tags": []
          },
          "execution_count": 75
        }
      ]
    },
    {
      "cell_type": "code",
      "metadata": {
        "id": "4_RMCSTSpCF3",
        "colab_type": "code",
        "colab": {
          "base_uri": "https://localhost:8080/",
          "height": 173
        },
        "outputId": "58c9c769-8a9c-4f1a-f165-7f0c87b46228"
      },
      "source": [
        "# applymap ,allows to apply a function to entire dataset, \n",
        "# only works on df, and entry by entry\n",
        "# and output is also a df\n",
        "df11 = df8[['distance', 'sales']]\n",
        "df11.applymap(profit)"
      ],
      "execution_count": 76,
      "outputs": [
        {
          "output_type": "execute_result",
          "data": {
            "text/html": [
              "<div>\n",
              "<style scoped>\n",
              "    .dataframe tbody tr th:only-of-type {\n",
              "        vertical-align: middle;\n",
              "    }\n",
              "\n",
              "    .dataframe tbody tr th {\n",
              "        vertical-align: top;\n",
              "    }\n",
              "\n",
              "    .dataframe thead th {\n",
              "        text-align: right;\n",
              "    }\n",
              "</style>\n",
              "<table border=\"1\" class=\"dataframe\">\n",
              "  <thead>\n",
              "    <tr style=\"text-align: right;\">\n",
              "      <th></th>\n",
              "      <th>distance</th>\n",
              "      <th>sales</th>\n",
              "    </tr>\n",
              "  </thead>\n",
              "  <tbody>\n",
              "    <tr>\n",
              "      <th>4</th>\n",
              "      <td>6.0</td>\n",
              "      <td>61.5</td>\n",
              "    </tr>\n",
              "    <tr>\n",
              "      <th>5</th>\n",
              "      <td>4.5</td>\n",
              "      <td>107.0</td>\n",
              "    </tr>\n",
              "    <tr>\n",
              "      <th>6</th>\n",
              "      <td>22.0</td>\n",
              "      <td>331.5</td>\n",
              "    </tr>\n",
              "    <tr>\n",
              "      <th>7</th>\n",
              "      <td>10.5</td>\n",
              "      <td>165.5</td>\n",
              "    </tr>\n",
              "  </tbody>\n",
              "</table>\n",
              "</div>"
            ],
            "text/plain": [
              "   distance  sales\n",
              "4       6.0   61.5\n",
              "5       4.5  107.0\n",
              "6      22.0  331.5\n",
              "7      10.5  165.5"
            ]
          },
          "metadata": {
            "tags": []
          },
          "execution_count": 76
        }
      ]
    },
    {
      "cell_type": "code",
      "metadata": {
        "id": "NVpCjeVppiVI",
        "colab_type": "code",
        "colab": {
          "base_uri": "https://localhost:8080/",
          "height": 68
        },
        "outputId": "aceb2d64-2cfc-4c9d-84c3-6b880be3bc89"
      },
      "source": [
        "def col_sum(co):\n",
        "  return sum(co)\n",
        "df11.apply(col_sum)"
      ],
      "execution_count": 77,
      "outputs": [
        {
          "output_type": "execute_result",
          "data": {
            "text/plain": [
              "distance      86\n",
              "sales       1331\n",
              "dtype: int64"
            ]
          },
          "metadata": {
            "tags": []
          },
          "execution_count": 77
        }
      ]
    },
    {
      "cell_type": "code",
      "metadata": {
        "id": "Z0LtWBo7pq6D",
        "colab_type": "code",
        "colab": {}
      },
      "source": [
        "del df8['color']  # we can delete a series from the df"
      ],
      "execution_count": 78,
      "outputs": []
    },
    {
      "cell_type": "code",
      "metadata": {
        "id": "YaSp9xefqCNH",
        "colab_type": "code",
        "colab": {
          "base_uri": "https://localhost:8080/",
          "height": 173
        },
        "outputId": "b1c5597a-a5e3-4158-9bf1-71325f1f4761"
      },
      "source": [
        "df8"
      ],
      "execution_count": 79,
      "outputs": [
        {
          "output_type": "execute_result",
          "data": {
            "text/html": [
              "<div>\n",
              "<style scoped>\n",
              "    .dataframe tbody tr th:only-of-type {\n",
              "        vertical-align: middle;\n",
              "    }\n",
              "\n",
              "    .dataframe tbody tr th {\n",
              "        vertical-align: top;\n",
              "    }\n",
              "\n",
              "    .dataframe thead th {\n",
              "        text-align: right;\n",
              "    }\n",
              "</style>\n",
              "<table border=\"1\" class=\"dataframe\">\n",
              "  <thead>\n",
              "    <tr style=\"text-align: right;\">\n",
              "      <th></th>\n",
              "      <th>customer</th>\n",
              "      <th>distance</th>\n",
              "      <th>sales</th>\n",
              "    </tr>\n",
              "  </thead>\n",
              "  <tbody>\n",
              "    <tr>\n",
              "      <th>4</th>\n",
              "      <td>101</td>\n",
              "      <td>12</td>\n",
              "      <td>123</td>\n",
              "    </tr>\n",
              "    <tr>\n",
              "      <th>5</th>\n",
              "      <td>103</td>\n",
              "      <td>9</td>\n",
              "      <td>214</td>\n",
              "    </tr>\n",
              "    <tr>\n",
              "      <th>6</th>\n",
              "      <td>104</td>\n",
              "      <td>44</td>\n",
              "      <td>663</td>\n",
              "    </tr>\n",
              "    <tr>\n",
              "      <th>7</th>\n",
              "      <td>105</td>\n",
              "      <td>21</td>\n",
              "      <td>331</td>\n",
              "    </tr>\n",
              "  </tbody>\n",
              "</table>\n",
              "</div>"
            ],
            "text/plain": [
              "  customer  distance  sales\n",
              "4      101        12    123\n",
              "5      103         9    214\n",
              "6      104        44    663\n",
              "7      105        21    331"
            ]
          },
          "metadata": {
            "tags": []
          },
          "execution_count": 79
        }
      ]
    },
    {
      "cell_type": "code",
      "metadata": {
        "id": "uEnPq_S5qDsH",
        "colab_type": "code",
        "colab": {
          "base_uri": "https://localhost:8080/",
          "height": 34
        },
        "outputId": "3571aae8-4570-46e9-a239-bc354ec811c1"
      },
      "source": [
        "df8.index"
      ],
      "execution_count": 80,
      "outputs": [
        {
          "output_type": "execute_result",
          "data": {
            "text/plain": [
              "Int64Index([4, 5, 6, 7], dtype='int64')"
            ]
          },
          "metadata": {
            "tags": []
          },
          "execution_count": 80
        }
      ]
    },
    {
      "cell_type": "code",
      "metadata": {
        "id": "EgjhOTLyqGb-",
        "colab_type": "code",
        "colab": {}
      },
      "source": [
        "# we can sort acccording to var\n",
        "df8.sort_values(by = 'distance', inplace = True)\n",
        "# if  inplace =  true, them it reflects in the actual d"
      ],
      "execution_count": 82,
      "outputs": []
    },
    {
      "cell_type": "code",
      "metadata": {
        "id": "Woo2fQX9qP7P",
        "colab_type": "code",
        "colab": {
          "base_uri": "https://localhost:8080/",
          "height": 235
        },
        "outputId": "265b328d-039b-47ef-d083-51485855f7d3"
      },
      "source": [
        "# if some series has mulitple of the same values then we can group all the unique entries together\n",
        "mydict = {'customer':['customer1', 'customer1', 'customer2', 'customer2','customer3', 'customer3']\n",
        "          , 'product1': [1.1, 2.1, 3.8, 4.2, 5.5, 6.9]\n",
        "          ,  'product2': [8.2, 9.1, 11.1, 5.2, 44.66, 983]}\n",
        "\n",
        "df6 = pd.DataFrame(mydict, index = ['purchase 1', 'purchase 2', 'purchase 3', 'purchase 4', 'purchase 5', 'purchase 6'])\n",
        "df6\n"
      ],
      "execution_count": 85,
      "outputs": [
        {
          "output_type": "execute_result",
          "data": {
            "text/html": [
              "<div>\n",
              "<style scoped>\n",
              "    .dataframe tbody tr th:only-of-type {\n",
              "        vertical-align: middle;\n",
              "    }\n",
              "\n",
              "    .dataframe tbody tr th {\n",
              "        vertical-align: top;\n",
              "    }\n",
              "\n",
              "    .dataframe thead th {\n",
              "        text-align: right;\n",
              "    }\n",
              "</style>\n",
              "<table border=\"1\" class=\"dataframe\">\n",
              "  <thead>\n",
              "    <tr style=\"text-align: right;\">\n",
              "      <th></th>\n",
              "      <th>customer</th>\n",
              "      <th>product1</th>\n",
              "      <th>product2</th>\n",
              "    </tr>\n",
              "  </thead>\n",
              "  <tbody>\n",
              "    <tr>\n",
              "      <th>purchase 1</th>\n",
              "      <td>customer1</td>\n",
              "      <td>1.1</td>\n",
              "      <td>8.20</td>\n",
              "    </tr>\n",
              "    <tr>\n",
              "      <th>purchase 2</th>\n",
              "      <td>customer1</td>\n",
              "      <td>2.1</td>\n",
              "      <td>9.10</td>\n",
              "    </tr>\n",
              "    <tr>\n",
              "      <th>purchase 3</th>\n",
              "      <td>customer2</td>\n",
              "      <td>3.8</td>\n",
              "      <td>11.10</td>\n",
              "    </tr>\n",
              "    <tr>\n",
              "      <th>purchase 4</th>\n",
              "      <td>customer2</td>\n",
              "      <td>4.2</td>\n",
              "      <td>5.20</td>\n",
              "    </tr>\n",
              "    <tr>\n",
              "      <th>purchase 5</th>\n",
              "      <td>customer3</td>\n",
              "      <td>5.5</td>\n",
              "      <td>44.66</td>\n",
              "    </tr>\n",
              "    <tr>\n",
              "      <th>purchase 6</th>\n",
              "      <td>customer3</td>\n",
              "      <td>6.9</td>\n",
              "      <td>983.00</td>\n",
              "    </tr>\n",
              "  </tbody>\n",
              "</table>\n",
              "</div>"
            ],
            "text/plain": [
              "             customer  product1  product2\n",
              "purchase 1  customer1       1.1      8.20\n",
              "purchase 2  customer1       2.1      9.10\n",
              "purchase 3  customer2       3.8     11.10\n",
              "purchase 4  customer2       4.2      5.20\n",
              "purchase 5  customer3       5.5     44.66\n",
              "purchase 6  customer3       6.9    983.00"
            ]
          },
          "metadata": {
            "tags": []
          },
          "execution_count": 85
        }
      ]
    },
    {
      "cell_type": "code",
      "metadata": {
        "id": "-vItNi2WsAP3",
        "colab_type": "code",
        "colab": {
          "base_uri": "https://localhost:8080/",
          "height": 34
        },
        "outputId": "45150b00-3159-4355-a4a3-2828895297cd"
      },
      "source": [
        "grouped_data = df6.groupby('customer')\n",
        "grouped_data"
      ],
      "execution_count": 86,
      "outputs": [
        {
          "output_type": "execute_result",
          "data": {
            "text/plain": [
              "<pandas.core.groupby.generic.DataFrameGroupBy object at 0x7f0258da6c18>"
            ]
          },
          "metadata": {
            "tags": []
          },
          "execution_count": 86
        }
      ]
    },
    {
      "cell_type": "code",
      "metadata": {
        "id": "S2sF7CzSsWyM",
        "colab_type": "code",
        "colab": {
          "base_uri": "https://localhost:8080/",
          "height": 224
        },
        "outputId": "50a611fb-7754-4797-e63c-27e5daceb806"
      },
      "source": [
        "grouped_data.describe()"
      ],
      "execution_count": 87,
      "outputs": [
        {
          "output_type": "execute_result",
          "data": {
            "text/html": [
              "<div>\n",
              "<style scoped>\n",
              "    .dataframe tbody tr th:only-of-type {\n",
              "        vertical-align: middle;\n",
              "    }\n",
              "\n",
              "    .dataframe tbody tr th {\n",
              "        vertical-align: top;\n",
              "    }\n",
              "\n",
              "    .dataframe thead tr th {\n",
              "        text-align: left;\n",
              "    }\n",
              "\n",
              "    .dataframe thead tr:last-of-type th {\n",
              "        text-align: right;\n",
              "    }\n",
              "</style>\n",
              "<table border=\"1\" class=\"dataframe\">\n",
              "  <thead>\n",
              "    <tr>\n",
              "      <th></th>\n",
              "      <th colspan=\"8\" halign=\"left\">product1</th>\n",
              "      <th colspan=\"8\" halign=\"left\">product2</th>\n",
              "    </tr>\n",
              "    <tr>\n",
              "      <th></th>\n",
              "      <th>count</th>\n",
              "      <th>mean</th>\n",
              "      <th>std</th>\n",
              "      <th>min</th>\n",
              "      <th>25%</th>\n",
              "      <th>50%</th>\n",
              "      <th>75%</th>\n",
              "      <th>max</th>\n",
              "      <th>count</th>\n",
              "      <th>mean</th>\n",
              "      <th>std</th>\n",
              "      <th>min</th>\n",
              "      <th>25%</th>\n",
              "      <th>50%</th>\n",
              "      <th>75%</th>\n",
              "      <th>max</th>\n",
              "    </tr>\n",
              "    <tr>\n",
              "      <th>customer</th>\n",
              "      <th></th>\n",
              "      <th></th>\n",
              "      <th></th>\n",
              "      <th></th>\n",
              "      <th></th>\n",
              "      <th></th>\n",
              "      <th></th>\n",
              "      <th></th>\n",
              "      <th></th>\n",
              "      <th></th>\n",
              "      <th></th>\n",
              "      <th></th>\n",
              "      <th></th>\n",
              "      <th></th>\n",
              "      <th></th>\n",
              "      <th></th>\n",
              "    </tr>\n",
              "  </thead>\n",
              "  <tbody>\n",
              "    <tr>\n",
              "      <th>customer1</th>\n",
              "      <td>2.0</td>\n",
              "      <td>1.6</td>\n",
              "      <td>0.707107</td>\n",
              "      <td>1.1</td>\n",
              "      <td>1.35</td>\n",
              "      <td>1.6</td>\n",
              "      <td>1.85</td>\n",
              "      <td>2.1</td>\n",
              "      <td>2.0</td>\n",
              "      <td>8.65</td>\n",
              "      <td>0.636396</td>\n",
              "      <td>8.20</td>\n",
              "      <td>8.425</td>\n",
              "      <td>8.65</td>\n",
              "      <td>8.875</td>\n",
              "      <td>9.1</td>\n",
              "    </tr>\n",
              "    <tr>\n",
              "      <th>customer2</th>\n",
              "      <td>2.0</td>\n",
              "      <td>4.0</td>\n",
              "      <td>0.282843</td>\n",
              "      <td>3.8</td>\n",
              "      <td>3.90</td>\n",
              "      <td>4.0</td>\n",
              "      <td>4.10</td>\n",
              "      <td>4.2</td>\n",
              "      <td>2.0</td>\n",
              "      <td>8.15</td>\n",
              "      <td>4.171930</td>\n",
              "      <td>5.20</td>\n",
              "      <td>6.675</td>\n",
              "      <td>8.15</td>\n",
              "      <td>9.625</td>\n",
              "      <td>11.1</td>\n",
              "    </tr>\n",
              "    <tr>\n",
              "      <th>customer3</th>\n",
              "      <td>2.0</td>\n",
              "      <td>6.2</td>\n",
              "      <td>0.989949</td>\n",
              "      <td>5.5</td>\n",
              "      <td>5.85</td>\n",
              "      <td>6.2</td>\n",
              "      <td>6.55</td>\n",
              "      <td>6.9</td>\n",
              "      <td>2.0</td>\n",
              "      <td>513.83</td>\n",
              "      <td>663.506577</td>\n",
              "      <td>44.66</td>\n",
              "      <td>279.245</td>\n",
              "      <td>513.83</td>\n",
              "      <td>748.415</td>\n",
              "      <td>983.0</td>\n",
              "    </tr>\n",
              "  </tbody>\n",
              "</table>\n",
              "</div>"
            ],
            "text/plain": [
              "          product1                      ... product2                        \n",
              "             count mean       std  min  ...      25%     50%      75%    max\n",
              "customer                                ...                                 \n",
              "customer1      2.0  1.6  0.707107  1.1  ...    8.425    8.65    8.875    9.1\n",
              "customer2      2.0  4.0  0.282843  3.8  ...    6.675    8.15    9.625   11.1\n",
              "customer3      2.0  6.2  0.989949  5.5  ...  279.245  513.83  748.415  983.0\n",
              "\n",
              "[3 rows x 16 columns]"
            ]
          },
          "metadata": {
            "tags": []
          },
          "execution_count": 87
        }
      ]
    },
    {
      "cell_type": "code",
      "metadata": {
        "id": "rqe1ACWpseqU",
        "colab_type": "code",
        "colab": {
          "base_uri": "https://localhost:8080/",
          "height": 187
        },
        "outputId": "67aaf948-dfc6-4b6e-9b99-59592230bf90"
      },
      "source": [
        "print(grouped_data.std())\n",
        "print(grouped_data.mean())"
      ],
      "execution_count": 89,
      "outputs": [
        {
          "output_type": "stream",
          "text": [
            "           product1    product2\n",
            "customer                       \n",
            "customer1  0.707107    0.636396\n",
            "customer2  0.282843    4.171930\n",
            "customer3  0.989949  663.506577\n",
            "           product1  product2\n",
            "customer                     \n",
            "customer1       1.6      8.65\n",
            "customer2       4.0      8.15\n",
            "customer3       6.2    513.83\n"
          ],
          "name": "stdout"
        }
      ]
    },
    {
      "cell_type": "markdown",
      "metadata": {
        "id": "IxibqLT-tYSt",
        "colab_type": "text"
      },
      "source": [
        "# PANDAS saving and loading DF's"
      ]
    },
    {
      "cell_type": "code",
      "metadata": {
        "id": "r8vZzj-8tPYu",
        "colab_type": "code",
        "colab": {}
      },
      "source": [
        "# saving the dataframe using to_csv(name we need to save, mentioning index will also save it in seperate col)\n",
        "df8.to_csv('df8.csv', index = True)"
      ],
      "execution_count": 90,
      "outputs": []
    },
    {
      "cell_type": "code",
      "metadata": {
        "id": "0zNUp88GyXYE",
        "colab_type": "code",
        "colab": {
          "base_uri": "https://localhost:8080/",
          "height": 173
        },
        "outputId": "883c50c8-a288-4528-b04f-077403cde094"
      },
      "source": [
        "new_df = pd.read_csv('df8.csv')\n",
        "new_df  \n",
        "# can see here, indexs are also stored\n",
        "# creates an index, as were not mentioning what is index"
      ],
      "execution_count": 94,
      "outputs": [
        {
          "output_type": "execute_result",
          "data": {
            "text/html": [
              "<div>\n",
              "<style scoped>\n",
              "    .dataframe tbody tr th:only-of-type {\n",
              "        vertical-align: middle;\n",
              "    }\n",
              "\n",
              "    .dataframe tbody tr th {\n",
              "        vertical-align: top;\n",
              "    }\n",
              "\n",
              "    .dataframe thead th {\n",
              "        text-align: right;\n",
              "    }\n",
              "</style>\n",
              "<table border=\"1\" class=\"dataframe\">\n",
              "  <thead>\n",
              "    <tr style=\"text-align: right;\">\n",
              "      <th></th>\n",
              "      <th>Unnamed: 0</th>\n",
              "      <th>customer</th>\n",
              "      <th>distance</th>\n",
              "      <th>sales</th>\n",
              "    </tr>\n",
              "  </thead>\n",
              "  <tbody>\n",
              "    <tr>\n",
              "      <th>0</th>\n",
              "      <td>5</td>\n",
              "      <td>103</td>\n",
              "      <td>9</td>\n",
              "      <td>214</td>\n",
              "    </tr>\n",
              "    <tr>\n",
              "      <th>1</th>\n",
              "      <td>4</td>\n",
              "      <td>101</td>\n",
              "      <td>12</td>\n",
              "      <td>123</td>\n",
              "    </tr>\n",
              "    <tr>\n",
              "      <th>2</th>\n",
              "      <td>7</td>\n",
              "      <td>105</td>\n",
              "      <td>21</td>\n",
              "      <td>331</td>\n",
              "    </tr>\n",
              "    <tr>\n",
              "      <th>3</th>\n",
              "      <td>6</td>\n",
              "      <td>104</td>\n",
              "      <td>44</td>\n",
              "      <td>663</td>\n",
              "    </tr>\n",
              "  </tbody>\n",
              "</table>\n",
              "</div>"
            ],
            "text/plain": [
              "   Unnamed: 0  customer  distance  sales\n",
              "0           5       103         9    214\n",
              "1           4       101        12    123\n",
              "2           7       105        21    331\n",
              "3           6       104        44    663"
            ]
          },
          "metadata": {
            "tags": []
          },
          "execution_count": 94
        }
      ]
    },
    {
      "cell_type": "code",
      "metadata": {
        "id": "U0PPVJ-eyesP",
        "colab_type": "code",
        "colab": {
          "base_uri": "https://localhost:8080/",
          "height": 173
        },
        "outputId": "8061352b-f290-4c7d-93d9-84771a96d8c0"
      },
      "source": [
        "new_df1 = pd.read_csv('df8.csv', index_col = 0)  #telling that first col is indes\n",
        "new_df1\n",
        "\n",
        "# even we can use other varibales as the index col"
      ],
      "execution_count": 96,
      "outputs": [
        {
          "output_type": "execute_result",
          "data": {
            "text/html": [
              "<div>\n",
              "<style scoped>\n",
              "    .dataframe tbody tr th:only-of-type {\n",
              "        vertical-align: middle;\n",
              "    }\n",
              "\n",
              "    .dataframe tbody tr th {\n",
              "        vertical-align: top;\n",
              "    }\n",
              "\n",
              "    .dataframe thead th {\n",
              "        text-align: right;\n",
              "    }\n",
              "</style>\n",
              "<table border=\"1\" class=\"dataframe\">\n",
              "  <thead>\n",
              "    <tr style=\"text-align: right;\">\n",
              "      <th></th>\n",
              "      <th>customer</th>\n",
              "      <th>distance</th>\n",
              "      <th>sales</th>\n",
              "    </tr>\n",
              "  </thead>\n",
              "  <tbody>\n",
              "    <tr>\n",
              "      <th>5</th>\n",
              "      <td>103</td>\n",
              "      <td>9</td>\n",
              "      <td>214</td>\n",
              "    </tr>\n",
              "    <tr>\n",
              "      <th>4</th>\n",
              "      <td>101</td>\n",
              "      <td>12</td>\n",
              "      <td>123</td>\n",
              "    </tr>\n",
              "    <tr>\n",
              "      <th>7</th>\n",
              "      <td>105</td>\n",
              "      <td>21</td>\n",
              "      <td>331</td>\n",
              "    </tr>\n",
              "    <tr>\n",
              "      <th>6</th>\n",
              "      <td>104</td>\n",
              "      <td>44</td>\n",
              "      <td>663</td>\n",
              "    </tr>\n",
              "  </tbody>\n",
              "</table>\n",
              "</div>"
            ],
            "text/plain": [
              "   customer  distance  sales\n",
              "5       103         9    214\n",
              "4       101        12    123\n",
              "7       105        21    331\n",
              "6       104        44    663"
            ]
          },
          "metadata": {
            "tags": []
          },
          "execution_count": 96
        }
      ]
    },
    {
      "cell_type": "code",
      "metadata": {
        "id": "Ai5mX4s6zJ0A",
        "colab_type": "code",
        "colab": {}
      },
      "source": [
        "df8.to_excel('df8.xlsx', index=False, sheet_name = 'first sheet')\n",
        "# to the excel sheet, not mentioning the index, and creating in the first sheet\n"
      ],
      "execution_count": 97,
      "outputs": []
    },
    {
      "cell_type": "code",
      "metadata": {
        "id": "KxVqRtQpzz3P",
        "colab_type": "code",
        "colab": {
          "base_uri": "https://localhost:8080/",
          "height": 173
        },
        "outputId": "d9959ea1-e05e-433e-b97e-7372d80c6263"
      },
      "source": [
        "new_df2 = pd.read_excel('df8.xlsx', sheet_name = 'first sheet')\n",
        "new_df2"
      ],
      "execution_count": 99,
      "outputs": [
        {
          "output_type": "execute_result",
          "data": {
            "text/html": [
              "<div>\n",
              "<style scoped>\n",
              "    .dataframe tbody tr th:only-of-type {\n",
              "        vertical-align: middle;\n",
              "    }\n",
              "\n",
              "    .dataframe tbody tr th {\n",
              "        vertical-align: top;\n",
              "    }\n",
              "\n",
              "    .dataframe thead th {\n",
              "        text-align: right;\n",
              "    }\n",
              "</style>\n",
              "<table border=\"1\" class=\"dataframe\">\n",
              "  <thead>\n",
              "    <tr style=\"text-align: right;\">\n",
              "      <th></th>\n",
              "      <th>customer</th>\n",
              "      <th>distance</th>\n",
              "      <th>sales</th>\n",
              "    </tr>\n",
              "  </thead>\n",
              "  <tbody>\n",
              "    <tr>\n",
              "      <th>0</th>\n",
              "      <td>103</td>\n",
              "      <td>9</td>\n",
              "      <td>214</td>\n",
              "    </tr>\n",
              "    <tr>\n",
              "      <th>1</th>\n",
              "      <td>101</td>\n",
              "      <td>12</td>\n",
              "      <td>123</td>\n",
              "    </tr>\n",
              "    <tr>\n",
              "      <th>2</th>\n",
              "      <td>105</td>\n",
              "      <td>21</td>\n",
              "      <td>331</td>\n",
              "    </tr>\n",
              "    <tr>\n",
              "      <th>3</th>\n",
              "      <td>104</td>\n",
              "      <td>44</td>\n",
              "      <td>663</td>\n",
              "    </tr>\n",
              "  </tbody>\n",
              "</table>\n",
              "</div>"
            ],
            "text/plain": [
              "   customer  distance  sales\n",
              "0       103         9    214\n",
              "1       101        12    123\n",
              "2       105        21    331\n",
              "3       104        44    663"
            ]
          },
          "metadata": {
            "tags": []
          },
          "execution_count": 99
        }
      ]
    },
    {
      "cell_type": "code",
      "metadata": {
        "id": "p3HAIRoAz-Dn",
        "colab_type": "code",
        "colab": {
          "base_uri": "https://localhost:8080/",
          "height": 204
        },
        "outputId": "bc329737-242e-4849-cd55-cf169ea97ded"
      },
      "source": [
        "new_df3 = pd.read_excel('df8.xlsx', sheet_name = 'first sheet', index_col = 0)\n",
        "new_df3  # customer acts as a index and its no longer a column"
      ],
      "execution_count": 100,
      "outputs": [
        {
          "output_type": "execute_result",
          "data": {
            "text/html": [
              "<div>\n",
              "<style scoped>\n",
              "    .dataframe tbody tr th:only-of-type {\n",
              "        vertical-align: middle;\n",
              "    }\n",
              "\n",
              "    .dataframe tbody tr th {\n",
              "        vertical-align: top;\n",
              "    }\n",
              "\n",
              "    .dataframe thead th {\n",
              "        text-align: right;\n",
              "    }\n",
              "</style>\n",
              "<table border=\"1\" class=\"dataframe\">\n",
              "  <thead>\n",
              "    <tr style=\"text-align: right;\">\n",
              "      <th></th>\n",
              "      <th>distance</th>\n",
              "      <th>sales</th>\n",
              "    </tr>\n",
              "    <tr>\n",
              "      <th>customer</th>\n",
              "      <th></th>\n",
              "      <th></th>\n",
              "    </tr>\n",
              "  </thead>\n",
              "  <tbody>\n",
              "    <tr>\n",
              "      <th>103</th>\n",
              "      <td>9</td>\n",
              "      <td>214</td>\n",
              "    </tr>\n",
              "    <tr>\n",
              "      <th>101</th>\n",
              "      <td>12</td>\n",
              "      <td>123</td>\n",
              "    </tr>\n",
              "    <tr>\n",
              "      <th>105</th>\n",
              "      <td>21</td>\n",
              "      <td>331</td>\n",
              "    </tr>\n",
              "    <tr>\n",
              "      <th>104</th>\n",
              "      <td>44</td>\n",
              "      <td>663</td>\n",
              "    </tr>\n",
              "  </tbody>\n",
              "</table>\n",
              "</div>"
            ],
            "text/plain": [
              "          distance  sales\n",
              "customer                 \n",
              "103              9    214\n",
              "101             12    123\n",
              "105             21    331\n",
              "104             44    663"
            ]
          },
          "metadata": {
            "tags": []
          },
          "execution_count": 100
        }
      ]
    },
    {
      "cell_type": "code",
      "metadata": {
        "id": "1PrSu7Az0K0x",
        "colab_type": "code",
        "colab": {}
      },
      "source": [
        ""
      ],
      "execution_count": null,
      "outputs": []
    }
  ]
}