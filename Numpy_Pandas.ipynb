{
  "nbformat": 4,
  "nbformat_minor": 0,
  "metadata": {
    "colab": {
      "name": "Numpy-Pandas.ipynb",
      "provenance": [],
      "authorship_tag": "ABX9TyOdOZDErJ2H2NbAuHYskAca",
      "include_colab_link": true
    },
    "kernelspec": {
      "name": "python3",
      "display_name": "Python 3"
    }
  },
  "cells": [
    {
      "cell_type": "markdown",
      "metadata": {
        "id": "view-in-github",
        "colab_type": "text"
      },
      "source": [
        "<a href=\"https://colab.research.google.com/github/AdicherlaVenkataSai/PyforML/blob/master/Numpy_Pandas.ipynb\" target=\"_parent\"><img src=\"https://colab.research.google.com/assets/colab-badge.svg\" alt=\"Open In Colab\"/></a>"
      ]
    },
    {
      "cell_type": "markdown",
      "metadata": {
        "id": "mpXceg6pfcv4",
        "colab_type": "text"
      },
      "source": [
        "1. vector is one dimensional array\n",
        "2. matrics is two dimensional array\n",
        "3. tensor is any array greater than 2 dimensions"
      ]
    },
    {
      "cell_type": "markdown",
      "metadata": {
        "id": "LEFTpzqyfcm3",
        "colab_type": "text"
      },
      "source": [
        "\n",
        "# Numpy\n",
        "1. Its a python package for doing math(advance), some special functions(sine, cosine, exponential, sqrt)\n",
        "2. generating samples from many type of random variables\n",
        "3. linear algebra, matric multiplication and matric-vector multiplication\n"
      ]
    },
    {
      "cell_type": "code",
      "metadata": {
        "id": "Gh6WLeFve2JW",
        "colab_type": "code",
        "colab": {}
      },
      "source": [
        "import numpy as np  # aliasing "
      ],
      "execution_count": 1,
      "outputs": []
    },
    {
      "cell_type": "code",
      "metadata": {
        "id": "Au1GZxaEgl5M",
        "colab_type": "code",
        "colab": {
          "base_uri": "https://localhost:8080/",
          "height": 68
        },
        "outputId": "e5fbe7cd-c62f-4a01-be5b-14df0bd34414"
      },
      "source": [
        "print(np.cos(np.pi))  # cos(pi) = -1\n",
        "print(np.sqrt(1.21))  # 1.1\n",
        "print(np.log(np.exp(5.2)))  # natural log base e with exponetial of number gives the number"
      ],
      "execution_count": 2,
      "outputs": [
        {
          "output_type": "stream",
          "text": [
            "-1.0\n",
            "1.1\n",
            "5.2\n"
          ],
          "name": "stdout"
        }
      ]
    },
    {
      "cell_type": "code",
      "metadata": {
        "id": "PaSCWupcg9e0",
        "colab_type": "code",
        "colab": {
          "base_uri": "https://localhost:8080/",
          "height": 85
        },
        "outputId": "16d6df73-8fac-452c-f128-5347de3ebcab"
      },
      "source": [
        "# creating a numpy array\n",
        "print(np.array([1, 2,3]))  # list to array\n",
        "\n",
        "# creating matrices\n",
        "print(np.array([[1, 2,3], [4, 5, 6], [7, 8, 9]]))  # lists to matrix"
      ],
      "execution_count": 4,
      "outputs": [
        {
          "output_type": "stream",
          "text": [
            "[1 2 3]\n",
            "[[1 2 3]\n",
            " [4 5 6]\n",
            " [7 8 9]]\n"
          ],
          "name": "stdout"
        }
      ]
    },
    {
      "cell_type": "code",
      "metadata": {
        "id": "VZ6nXdethhLD",
        "colab_type": "code",
        "colab": {
          "base_uri": "https://localhost:8080/",
          "height": 68
        },
        "outputId": "6a8e23d0-e81a-4bc2-8966-3fdd52e5662a"
      },
      "source": [
        "matrix = np.array([[1, 2,3], [4, 5, 6], [7, 8, 9]])\n",
        "print(matrix.T)  # gives the transpose of it"
      ],
      "execution_count": 5,
      "outputs": [
        {
          "output_type": "stream",
          "text": [
            "[[1 4 7]\n",
            " [2 5 8]\n",
            " [3 6 9]]\n"
          ],
          "name": "stdout"
        }
      ]
    },
    {
      "cell_type": "code",
      "metadata": {
        "id": "cw4RAXSQh32b",
        "colab_type": "code",
        "colab": {
          "base_uri": "https://localhost:8080/",
          "height": 34
        },
        "outputId": "0d6bf32f-22a8-4734-e54f-aed496ee1a6d"
      },
      "source": [
        "vector1 = np.arange(0,15)  # arange() similar like range , a\n",
        "vector1"
      ],
      "execution_count": 6,
      "outputs": [
        {
          "output_type": "execute_result",
          "data": {
            "text/plain": [
              "array([ 0,  1,  2,  3,  4,  5,  6,  7,  8,  9, 10, 11, 12, 13, 14])"
            ]
          },
          "metadata": {
            "tags": []
          },
          "execution_count": 6
        }
      ]
    },
    {
      "cell_type": "code",
      "metadata": {
        "id": "JM5eeX1ZkN_j",
        "colab_type": "code",
        "colab": {
          "base_uri": "https://localhost:8080/",
          "height": 51
        },
        "outputId": "d51a667f-d678-40a1-c256-b62ecd7e4c20"
      },
      "source": [
        "vector2 = np.arange(0,45,5)  # step size is provided\n",
        "vector2, print(vector)"
      ],
      "execution_count": 8,
      "outputs": [
        {
          "output_type": "stream",
          "text": [
            "[ 0  5 10 15 20 25 30 35 40]\n"
          ],
          "name": "stdout"
        },
        {
          "output_type": "execute_result",
          "data": {
            "text/plain": [
              "(array([ 0,  5, 10, 15, 20, 25, 30, 35, 40]), None)"
            ]
          },
          "metadata": {
            "tags": []
          },
          "execution_count": 8
        }
      ]
    },
    {
      "cell_type": "code",
      "metadata": {
        "id": "lX2T88wBkYeV",
        "colab_type": "code",
        "colab": {
          "base_uri": "https://localhost:8080/",
          "height": 136
        },
        "outputId": "4ba1f233-6f12-44a8-c6ee-10c445863e6c"
      },
      "source": [
        "# np.linspace(starting pt(included), ending pt(included), no of points reqired(entries))\n",
        "vector3 = np.linspace(0, 5, 10) \n",
        "vector3, print(vector3.reshape(5,2))\n",
        "# reshape(rows, cols), it returns a matrix but it doesnt update vector\n",
        "print(vector3)"
      ],
      "execution_count": 12,
      "outputs": [
        {
          "output_type": "stream",
          "text": [
            "[[0.         0.55555556]\n",
            " [1.11111111 1.66666667]\n",
            " [2.22222222 2.77777778]\n",
            " [3.33333333 3.88888889]\n",
            " [4.44444444 5.        ]]\n",
            "[0.         0.55555556 1.11111111 1.66666667 2.22222222 2.77777778\n",
            " 3.33333333 3.88888889 4.44444444 5.        ]\n"
          ],
          "name": "stdout"
        }
      ]
    },
    {
      "cell_type": "code",
      "metadata": {
        "id": "wZyLCwZvlMzO",
        "colab_type": "code",
        "colab": {
          "base_uri": "https://localhost:8080/",
          "height": 51
        },
        "outputId": "cd4b3b91-5667-46d0-ca33-d88a4674962a"
      },
      "source": [
        "vector3_reshaped = vector3.reshape(2,5)\n",
        "vector3_reshaped"
      ],
      "execution_count": 14,
      "outputs": [
        {
          "output_type": "execute_result",
          "data": {
            "text/plain": [
              "array([[0.        , 0.55555556, 1.11111111, 1.66666667, 2.22222222],\n",
              "       [2.77777778, 3.33333333, 3.88888889, 4.44444444, 5.        ]])"
            ]
          },
          "metadata": {
            "tags": []
          },
          "execution_count": 14
        }
      ]
    },
    {
      "cell_type": "code",
      "metadata": {
        "id": "1qjMcvJYmwgp",
        "colab_type": "code",
        "colab": {
          "base_uri": "https://localhost:8080/",
          "height": 136
        },
        "outputId": "013dd4e9-bf40-4561-da62-a4aa6dbee0fe"
      },
      "source": [
        "random_vector = np.random.randn(15)  # perfect distribution\n",
        "\n",
        "print(random_vector)\n",
        "print(random_vector > 0)  # returns the logicals\n",
        "print(random_vector[random_vector > 0])  # gives only values that satisfies the condition"
      ],
      "execution_count": 15,
      "outputs": [
        {
          "output_type": "stream",
          "text": [
            "[ 0.3459246  -1.73742028  0.76746244 -0.19900621 -0.02333282  0.52605082\n",
            "  0.28529224 -0.3840947  -0.92074286  0.39308439  1.226613    0.94834062\n",
            " -0.6498496  -0.43602645 -0.35822431]\n",
            "[ True False  True False False  True  True False False  True  True  True\n",
            " False False False]\n",
            "[0.3459246  0.76746244 0.52605082 0.28529224 0.39308439 1.226613\n",
            " 0.94834062]\n"
          ],
          "name": "stdout"
        }
      ]
    },
    {
      "cell_type": "code",
      "metadata": {
        "id": "gsVY8Xjuni2p",
        "colab_type": "code",
        "colab": {
          "base_uri": "https://localhost:8080/",
          "height": 119
        },
        "outputId": "8a2a84a3-b1b2-4d2c-ad71-e3d01f2dbfb2"
      },
      "source": [
        "print(random_vector)\n",
        "random_vector[random_vector > 0.5] = -5\n",
        "print(random_vector)"
      ],
      "execution_count": 16,
      "outputs": [
        {
          "output_type": "stream",
          "text": [
            "[ 0.3459246  -1.73742028  0.76746244 -0.19900621 -0.02333282  0.52605082\n",
            "  0.28529224 -0.3840947  -0.92074286  0.39308439  1.226613    0.94834062\n",
            " -0.6498496  -0.43602645 -0.35822431]\n",
            "[ 0.3459246  -1.73742028 -5.         -0.19900621 -0.02333282 -5.\n",
            "  0.28529224 -0.3840947  -0.92074286  0.39308439 -5.         -5.\n",
            " -0.6498496  -0.43602645 -0.35822431]\n"
          ],
          "name": "stdout"
        }
      ]
    },
    {
      "cell_type": "markdown",
      "metadata": {
        "id": "IYl8ysQKpUQE",
        "colab_type": "text"
      },
      "source": [
        "# Pandas\n",
        "1. Managing data\n",
        "2. creates 2 new data types for slicing data: series and dataframe(excel sheet)\n",
        "3. dataframe is more robust type for storing the data, more flexible than numpy arrays\n",
        "4. It also has SQL-like functions for merging, joining and sorting dfs\n"
      ]
    },
    {
      "cell_type": "code",
      "metadata": {
        "id": "XBHLXqfIobEC",
        "colab_type": "code",
        "colab": {}
      },
      "source": [
        "import pandas as pd\n",
        "import numpy as np"
      ],
      "execution_count": 17,
      "outputs": []
    },
    {
      "cell_type": "code",
      "metadata": {
        "id": "ntQaIrC2rnut",
        "colab_type": "code",
        "colab": {
          "base_uri": "https://localhost:8080/",
          "height": 34
        },
        "outputId": "d904fd4c-0626-4ae9-d77d-65ff32078071"
      },
      "source": [
        "# series is a individual column in a df\n",
        "mylist = [5.4, 6.1, 1.7, 99.8]\n",
        "myarray = np.array(mylist)\n",
        "mylist, myarray"
      ],
      "execution_count": 21,
      "outputs": [
        {
          "output_type": "execute_result",
          "data": {
            "text/plain": [
              "([5.4, 6.1, 1.7, 99.8], array([ 5.4,  6.1,  1.7, 99.8]))"
            ]
          },
          "metadata": {
            "tags": []
          },
          "execution_count": 21
        }
      ]
    },
    {
      "cell_type": "code",
      "metadata": {
        "id": "cR9uts5EsAmO",
        "colab_type": "code",
        "colab": {
          "base_uri": "https://localhost:8080/",
          "height": 187
        },
        "outputId": "902ca6d4-ee53-4d3f-f4d9-25954cf70cc7"
      },
      "source": [
        "series1 = pd.Series(data = mylist)\n",
        "print(series1)\n",
        "series2 = pd.Series(data = myarray)\n",
        "series2\n",
        "# here we have same op after converting list, numpy array as Series"
      ],
      "execution_count": 22,
      "outputs": [
        {
          "output_type": "stream",
          "text": [
            "0     5.4\n",
            "1     6.1\n",
            "2     1.7\n",
            "3    99.8\n",
            "dtype: float64\n"
          ],
          "name": "stdout"
        },
        {
          "output_type": "execute_result",
          "data": {
            "text/plain": [
              "0     5.4\n",
              "1     6.1\n",
              "2     1.7\n",
              "3    99.8\n",
              "dtype: float64"
            ]
          },
          "metadata": {
            "tags": []
          },
          "execution_count": 22
        }
      ]
    },
    {
      "cell_type": "code",
      "metadata": {
        "id": "6j_hEfEisadZ",
        "colab_type": "code",
        "colab": {
          "base_uri": "https://localhost:8080/",
          "height": 34
        },
        "outputId": "36ae5222-0db4-4aa5-fb08-7420502f8a17"
      },
      "source": [
        "series1[2]  # accessing using indexs"
      ],
      "execution_count": 23,
      "outputs": [
        {
          "output_type": "execute_result",
          "data": {
            "text/plain": [
              "1.7"
            ]
          },
          "metadata": {
            "tags": []
          },
          "execution_count": 23
        }
      ]
    },
    {
      "cell_type": "code",
      "metadata": {
        "id": "q38DEcSvs3a9",
        "colab_type": "code",
        "colab": {
          "base_uri": "https://localhost:8080/",
          "height": 102
        },
        "outputId": "83cd445a-2fd1-41d6-901f-5cf91f6d0837"
      },
      "source": [
        "# we can change the indexs\n",
        "mylabels = ['red', 'white', 'blue', 'gray']\n",
        "series3 = pd.Series(data = mylist, index = mylabels)\n",
        "series3"
      ],
      "execution_count": 27,
      "outputs": [
        {
          "output_type": "execute_result",
          "data": {
            "text/plain": [
              "red       5.4\n",
              "white     6.1\n",
              "blue      1.7\n",
              "gray     99.8\n",
              "dtype: float64"
            ]
          },
          "metadata": {
            "tags": []
          },
          "execution_count": 27
        }
      ]
    },
    {
      "cell_type": "code",
      "metadata": {
        "id": "QqQh78-4tRZ6",
        "colab_type": "code",
        "colab": {
          "base_uri": "https://localhost:8080/",
          "height": 102
        },
        "outputId": "534abc3a-4750-465a-a557-d5fb27b4cee6"
      },
      "source": [
        "# even we can write in this way also\n",
        "series4 = pd.Series(mylist, mylabels)\n",
        "series4"
      ],
      "execution_count": 28,
      "outputs": [
        {
          "output_type": "execute_result",
          "data": {
            "text/plain": [
              "red       5.4\n",
              "white     6.1\n",
              "blue      1.7\n",
              "gray     99.8\n",
              "dtype: float64"
            ]
          },
          "metadata": {
            "tags": []
          },
          "execution_count": 28
        }
      ]
    },
    {
      "cell_type": "code",
      "metadata": {
        "id": "WR54AT2PtnZf",
        "colab_type": "code",
        "colab": {
          "base_uri": "https://localhost:8080/",
          "height": 34
        },
        "outputId": "ad2c92cf-f839-4159-d7ec-1e365c80e500"
      },
      "source": [
        "# even we can also index using new labels\n",
        "series4['white']"
      ],
      "execution_count": 29,
      "outputs": [
        {
          "output_type": "execute_result",
          "data": {
            "text/plain": [
              "6.1"
            ]
          },
          "metadata": {
            "tags": []
          },
          "execution_count": 29
        }
      ]
    },
    {
      "cell_type": "code",
      "metadata": {
        "id": "TNCGoYDCtzXF",
        "colab_type": "code",
        "colab": {
          "base_uri": "https://localhost:8080/",
          "height": 102
        },
        "outputId": "b97e3cb4-0c56-4a8e-fa12-cd96d824a101"
      },
      "source": [
        "# calculation on series\n",
        "series5 = pd.Series([5.4, 1.1, 8.0, 1.6])\n",
        "series1 + series5  # adding series 1 and 5"
      ],
      "execution_count": 30,
      "outputs": [
        {
          "output_type": "execute_result",
          "data": {
            "text/plain": [
              "0     10.8\n",
              "1      7.2\n",
              "2      9.7\n",
              "3    101.4\n",
              "dtype: float64"
            ]
          },
          "metadata": {
            "tags": []
          },
          "execution_count": 30
        }
      ]
    },
    {
      "cell_type": "code",
      "metadata": {
        "id": "lY11yLLnuJX0",
        "colab_type": "code",
        "colab": {
          "base_uri": "https://localhost:8080/",
          "height": 297
        },
        "outputId": "a706b0a6-2667-4a67-c005-157c1068337a"
      },
      "source": [
        "# axis = 0: rows, axis = 1: cols\n",
        "# if sort = True it'll be in alphabetical order\n",
        "df1 = pd.concat([series4,series5], axis = 1, sort = False) \n",
        "df1"
      ],
      "execution_count": 32,
      "outputs": [
        {
          "output_type": "execute_result",
          "data": {
            "text/html": [
              "<div>\n",
              "<style scoped>\n",
              "    .dataframe tbody tr th:only-of-type {\n",
              "        vertical-align: middle;\n",
              "    }\n",
              "\n",
              "    .dataframe tbody tr th {\n",
              "        vertical-align: top;\n",
              "    }\n",
              "\n",
              "    .dataframe thead th {\n",
              "        text-align: right;\n",
              "    }\n",
              "</style>\n",
              "<table border=\"1\" class=\"dataframe\">\n",
              "  <thead>\n",
              "    <tr style=\"text-align: right;\">\n",
              "      <th></th>\n",
              "      <th>0</th>\n",
              "      <th>1</th>\n",
              "    </tr>\n",
              "  </thead>\n",
              "  <tbody>\n",
              "    <tr>\n",
              "      <th>0</th>\n",
              "      <td>NaN</td>\n",
              "      <td>5.4</td>\n",
              "    </tr>\n",
              "    <tr>\n",
              "      <th>1</th>\n",
              "      <td>NaN</td>\n",
              "      <td>1.1</td>\n",
              "    </tr>\n",
              "    <tr>\n",
              "      <th>2</th>\n",
              "      <td>NaN</td>\n",
              "      <td>8.0</td>\n",
              "    </tr>\n",
              "    <tr>\n",
              "      <th>3</th>\n",
              "      <td>NaN</td>\n",
              "      <td>1.6</td>\n",
              "    </tr>\n",
              "    <tr>\n",
              "      <th>blue</th>\n",
              "      <td>1.7</td>\n",
              "      <td>NaN</td>\n",
              "    </tr>\n",
              "    <tr>\n",
              "      <th>gray</th>\n",
              "      <td>99.8</td>\n",
              "      <td>NaN</td>\n",
              "    </tr>\n",
              "    <tr>\n",
              "      <th>red</th>\n",
              "      <td>5.4</td>\n",
              "      <td>NaN</td>\n",
              "    </tr>\n",
              "    <tr>\n",
              "      <th>white</th>\n",
              "      <td>6.1</td>\n",
              "      <td>NaN</td>\n",
              "    </tr>\n",
              "  </tbody>\n",
              "</table>\n",
              "</div>"
            ],
            "text/plain": [
              "          0    1\n",
              "0       NaN  5.4\n",
              "1       NaN  1.1\n",
              "2       NaN  8.0\n",
              "3       NaN  1.6\n",
              "blue    1.7  NaN\n",
              "gray   99.8  NaN\n",
              "red     5.4  NaN\n",
              "white   6.1  NaN"
            ]
          },
          "metadata": {
            "tags": []
          },
          "execution_count": 32
        }
      ]
    },
    {
      "cell_type": "code",
      "metadata": {
        "id": "hto3zGekvNKx",
        "colab_type": "code",
        "colab": {
          "base_uri": "https://localhost:8080/",
          "height": 204
        },
        "outputId": "31e98ab4-2478-4f3f-8a55-329640aea096"
      },
      "source": [
        "df2 = pd.DataFrame(np.random.randn(5, 5))\n",
        "df2"
      ],
      "execution_count": 33,
      "outputs": [
        {
          "output_type": "execute_result",
          "data": {
            "text/html": [
              "<div>\n",
              "<style scoped>\n",
              "    .dataframe tbody tr th:only-of-type {\n",
              "        vertical-align: middle;\n",
              "    }\n",
              "\n",
              "    .dataframe tbody tr th {\n",
              "        vertical-align: top;\n",
              "    }\n",
              "\n",
              "    .dataframe thead th {\n",
              "        text-align: right;\n",
              "    }\n",
              "</style>\n",
              "<table border=\"1\" class=\"dataframe\">\n",
              "  <thead>\n",
              "    <tr style=\"text-align: right;\">\n",
              "      <th></th>\n",
              "      <th>0</th>\n",
              "      <th>1</th>\n",
              "      <th>2</th>\n",
              "      <th>3</th>\n",
              "      <th>4</th>\n",
              "    </tr>\n",
              "  </thead>\n",
              "  <tbody>\n",
              "    <tr>\n",
              "      <th>0</th>\n",
              "      <td>-2.439599</td>\n",
              "      <td>0.992980</td>\n",
              "      <td>-1.116229</td>\n",
              "      <td>0.569809</td>\n",
              "      <td>0.486430</td>\n",
              "    </tr>\n",
              "    <tr>\n",
              "      <th>1</th>\n",
              "      <td>-0.003604</td>\n",
              "      <td>-1.029446</td>\n",
              "      <td>-0.963195</td>\n",
              "      <td>-0.258401</td>\n",
              "      <td>0.577137</td>\n",
              "    </tr>\n",
              "    <tr>\n",
              "      <th>2</th>\n",
              "      <td>-1.580355</td>\n",
              "      <td>-0.195354</td>\n",
              "      <td>2.126427</td>\n",
              "      <td>2.383007</td>\n",
              "      <td>-0.304061</td>\n",
              "    </tr>\n",
              "    <tr>\n",
              "      <th>3</th>\n",
              "      <td>-0.410481</td>\n",
              "      <td>0.800014</td>\n",
              "      <td>0.474991</td>\n",
              "      <td>-1.929452</td>\n",
              "      <td>-1.345138</td>\n",
              "    </tr>\n",
              "    <tr>\n",
              "      <th>4</th>\n",
              "      <td>-0.171298</td>\n",
              "      <td>0.370756</td>\n",
              "      <td>-0.818376</td>\n",
              "      <td>0.986604</td>\n",
              "      <td>-0.917455</td>\n",
              "    </tr>\n",
              "  </tbody>\n",
              "</table>\n",
              "</div>"
            ],
            "text/plain": [
              "          0         1         2         3         4\n",
              "0 -2.439599  0.992980 -1.116229  0.569809  0.486430\n",
              "1 -0.003604 -1.029446 -0.963195 -0.258401  0.577137\n",
              "2 -1.580355 -0.195354  2.126427  2.383007 -0.304061\n",
              "3 -0.410481  0.800014  0.474991 -1.929452 -1.345138\n",
              "4 -0.171298  0.370756 -0.818376  0.986604 -0.917455"
            ]
          },
          "metadata": {
            "tags": []
          },
          "execution_count": 33
        }
      ]
    },
    {
      "cell_type": "code",
      "metadata": {
        "id": "kgGDrOxkv59u",
        "colab_type": "code",
        "colab": {
          "base_uri": "https://localhost:8080/",
          "height": 204
        },
        "outputId": "95d7e9e1-9a15-4ec8-ee00-312a9f93cb5e"
      },
      "source": [
        "# index = row lables, columns = cols labels\n",
        "df3 = pd.DataFrame(np.random.randn(5, 5), index = ['first R', 'second R', 'third R', 'fourth R', 'fifth R'], columns = ['first C', 'second C', 'third C', 'fourth C', 'fifth C'])\n",
        "df3"
      ],
      "execution_count": 42,
      "outputs": [
        {
          "output_type": "execute_result",
          "data": {
            "text/html": [
              "<div>\n",
              "<style scoped>\n",
              "    .dataframe tbody tr th:only-of-type {\n",
              "        vertical-align: middle;\n",
              "    }\n",
              "\n",
              "    .dataframe tbody tr th {\n",
              "        vertical-align: top;\n",
              "    }\n",
              "\n",
              "    .dataframe thead th {\n",
              "        text-align: right;\n",
              "    }\n",
              "</style>\n",
              "<table border=\"1\" class=\"dataframe\">\n",
              "  <thead>\n",
              "    <tr style=\"text-align: right;\">\n",
              "      <th></th>\n",
              "      <th>first C</th>\n",
              "      <th>second C</th>\n",
              "      <th>third C</th>\n",
              "      <th>fourth C</th>\n",
              "      <th>fifth C</th>\n",
              "    </tr>\n",
              "  </thead>\n",
              "  <tbody>\n",
              "    <tr>\n",
              "      <th>first R</th>\n",
              "      <td>0.450254</td>\n",
              "      <td>0.534045</td>\n",
              "      <td>0.108242</td>\n",
              "      <td>0.345111</td>\n",
              "      <td>-0.984193</td>\n",
              "    </tr>\n",
              "    <tr>\n",
              "      <th>second R</th>\n",
              "      <td>0.092940</td>\n",
              "      <td>-0.724095</td>\n",
              "      <td>-1.014379</td>\n",
              "      <td>-1.080622</td>\n",
              "      <td>-0.899019</td>\n",
              "    </tr>\n",
              "    <tr>\n",
              "      <th>third R</th>\n",
              "      <td>-0.277135</td>\n",
              "      <td>2.863420</td>\n",
              "      <td>0.150061</td>\n",
              "      <td>-0.889808</td>\n",
              "      <td>0.359609</td>\n",
              "    </tr>\n",
              "    <tr>\n",
              "      <th>fourth R</th>\n",
              "      <td>0.209020</td>\n",
              "      <td>-0.803904</td>\n",
              "      <td>1.410217</td>\n",
              "      <td>0.663506</td>\n",
              "      <td>0.635860</td>\n",
              "    </tr>\n",
              "    <tr>\n",
              "      <th>fifth R</th>\n",
              "      <td>0.938875</td>\n",
              "      <td>0.938241</td>\n",
              "      <td>0.085707</td>\n",
              "      <td>-0.608010</td>\n",
              "      <td>1.079726</td>\n",
              "    </tr>\n",
              "  </tbody>\n",
              "</table>\n",
              "</div>"
            ],
            "text/plain": [
              "           first C  second C   third C  fourth C   fifth C\n",
              "first R   0.450254  0.534045  0.108242  0.345111 -0.984193\n",
              "second R  0.092940 -0.724095 -1.014379 -1.080622 -0.899019\n",
              "third R  -0.277135  2.863420  0.150061 -0.889808  0.359609\n",
              "fourth R  0.209020 -0.803904  1.410217  0.663506  0.635860\n",
              "fifth R   0.938875  0.938241  0.085707 -0.608010  1.079726"
            ]
          },
          "metadata": {
            "tags": []
          },
          "execution_count": 42
        }
      ]
    },
    {
      "cell_type": "code",
      "metadata": {
        "id": "nZOcmS76wX_3",
        "colab_type": "code",
        "colab": {
          "base_uri": "https://localhost:8080/",
          "height": 221
        },
        "outputId": "f2aa9f31-a2ac-429a-affb-38bc3efdb239"
      },
      "source": [
        "# accessing individual series in a dataframe\n",
        "# dataframe is list of list, so we can't directly access the rows using []\n",
        "print(df3['second C'])  # column [] : it's a series\n",
        "print(df3[['first C', 'third C']])  # column [] : it's a dataframe"
      ],
      "execution_count": 44,
      "outputs": [
        {
          "output_type": "stream",
          "text": [
            "first R     0.534045\n",
            "second R   -0.724095\n",
            "third R     2.863420\n",
            "fourth R   -0.803904\n",
            "fifth R     0.938241\n",
            "Name: second C, dtype: float64\n",
            "           first C   third C\n",
            "first R   0.450254  0.108242\n",
            "second R  0.092940 -1.014379\n",
            "third R  -0.277135  0.150061\n",
            "fourth R  0.209020  1.410217\n",
            "fifth R   0.938875  0.085707\n"
          ],
          "name": "stdout"
        }
      ]
    },
    {
      "cell_type": "code",
      "metadata": {
        "id": "KIFXvAmhw6ho",
        "colab_type": "code",
        "colab": {
          "base_uri": "https://localhost:8080/",
          "height": 119
        },
        "outputId": "58bb7648-6d1c-4cde-ec88-0f3f42f382f1"
      },
      "source": [
        "# two access rows of a dataframe\n",
        "df3.loc['first R']"
      ],
      "execution_count": 45,
      "outputs": [
        {
          "output_type": "execute_result",
          "data": {
            "text/plain": [
              "first C     0.450254\n",
              "second C    0.534045\n",
              "third C     0.108242\n",
              "fourth C    0.345111\n",
              "fifth C    -0.984193\n",
              "Name: first R, dtype: float64"
            ]
          },
          "metadata": {
            "tags": []
          },
          "execution_count": 45
        }
      ]
    },
    {
      "cell_type": "code",
      "metadata": {
        "id": "_-3lWr0OyR0I",
        "colab_type": "code",
        "colab": {
          "base_uri": "https://localhost:8080/",
          "height": 119
        },
        "outputId": "31d3cc1a-850d-4fc8-c5d4-463d2bde86a3"
      },
      "source": [
        "df3.iloc[0]  # even though we renamed the labels, still we can access with the indexs starting form 0"
      ],
      "execution_count": 46,
      "outputs": [
        {
          "output_type": "execute_result",
          "data": {
            "text/plain": [
              "first C     0.450254\n",
              "second C    0.534045\n",
              "third C     0.108242\n",
              "fourth C    0.345111\n",
              "fifth C    -0.984193\n",
              "Name: first R, dtype: float64"
            ]
          },
          "metadata": {
            "tags": []
          },
          "execution_count": 46
        }
      ]
    },
    {
      "cell_type": "code",
      "metadata": {
        "id": "sle9P1rqyYnR",
        "colab_type": "code",
        "colab": {
          "base_uri": "https://localhost:8080/",
          "height": 306
        },
        "outputId": "d414cd71-1986-4337-e4b6-b40e7ac84672"
      },
      "source": [
        "df3.loc[['fouth R'], ['second C']]"
      ],
      "execution_count": 49,
      "outputs": [
        {
          "output_type": "error",
          "ename": "KeyError",
          "evalue": "ignored",
          "traceback": [
            "\u001b[0;31m---------------------------------------------------------------------------\u001b[0m",
            "\u001b[0;31mKeyError\u001b[0m                                  Traceback (most recent call last)",
            "\u001b[0;32m<ipython-input-49-6abea40d0b32>\u001b[0m in \u001b[0;36m<module>\u001b[0;34m()\u001b[0m\n\u001b[0;32m----> 1\u001b[0;31m \u001b[0mdf3\u001b[0m\u001b[0;34m.\u001b[0m\u001b[0mloc\u001b[0m\u001b[0;34m[\u001b[0m\u001b[0;34m[\u001b[0m\u001b[0;34m'fouth R'\u001b[0m\u001b[0;34m]\u001b[0m\u001b[0;34m,\u001b[0m \u001b[0;34m[\u001b[0m\u001b[0;34m'second C'\u001b[0m\u001b[0;34m]\u001b[0m\u001b[0;34m]\u001b[0m\u001b[0;34m\u001b[0m\u001b[0;34m\u001b[0m\u001b[0m\n\u001b[0m",
            "\u001b[0;32m/usr/local/lib/python3.6/dist-packages/pandas/core/indexing.py\u001b[0m in \u001b[0;36m__getitem__\u001b[0;34m(self, key)\u001b[0m\n\u001b[1;32m   1760\u001b[0m                 \u001b[0;32mexcept\u001b[0m \u001b[0;34m(\u001b[0m\u001b[0mKeyError\u001b[0m\u001b[0;34m,\u001b[0m \u001b[0mIndexError\u001b[0m\u001b[0;34m,\u001b[0m \u001b[0mAttributeError\u001b[0m\u001b[0;34m)\u001b[0m\u001b[0;34m:\u001b[0m\u001b[0;34m\u001b[0m\u001b[0;34m\u001b[0m\u001b[0m\n\u001b[1;32m   1761\u001b[0m                     \u001b[0;32mpass\u001b[0m\u001b[0;34m\u001b[0m\u001b[0;34m\u001b[0m\u001b[0m\n\u001b[0;32m-> 1762\u001b[0;31m             \u001b[0;32mreturn\u001b[0m \u001b[0mself\u001b[0m\u001b[0;34m.\u001b[0m\u001b[0m_getitem_tuple\u001b[0m\u001b[0;34m(\u001b[0m\u001b[0mkey\u001b[0m\u001b[0;34m)\u001b[0m\u001b[0;34m\u001b[0m\u001b[0;34m\u001b[0m\u001b[0m\n\u001b[0m\u001b[1;32m   1763\u001b[0m         \u001b[0;32melse\u001b[0m\u001b[0;34m:\u001b[0m\u001b[0;34m\u001b[0m\u001b[0;34m\u001b[0m\u001b[0m\n\u001b[1;32m   1764\u001b[0m             \u001b[0;31m# we by definition only have the 0th axis\u001b[0m\u001b[0;34m\u001b[0m\u001b[0;34m\u001b[0m\u001b[0;34m\u001b[0m\u001b[0m\n",
            "\u001b[0;32m/usr/local/lib/python3.6/dist-packages/pandas/core/indexing.py\u001b[0m in \u001b[0;36m_getitem_tuple\u001b[0;34m(self, tup)\u001b[0m\n\u001b[1;32m   1279\u001b[0m         \u001b[0;31m# ugly hack for GH #836\u001b[0m\u001b[0;34m\u001b[0m\u001b[0;34m\u001b[0m\u001b[0;34m\u001b[0m\u001b[0m\n\u001b[1;32m   1280\u001b[0m         \u001b[0;32mif\u001b[0m \u001b[0mself\u001b[0m\u001b[0;34m.\u001b[0m\u001b[0m_multi_take_opportunity\u001b[0m\u001b[0;34m(\u001b[0m\u001b[0mtup\u001b[0m\u001b[0;34m)\u001b[0m\u001b[0;34m:\u001b[0m\u001b[0;34m\u001b[0m\u001b[0;34m\u001b[0m\u001b[0m\n\u001b[0;32m-> 1281\u001b[0;31m             \u001b[0;32mreturn\u001b[0m \u001b[0mself\u001b[0m\u001b[0;34m.\u001b[0m\u001b[0m_multi_take\u001b[0m\u001b[0;34m(\u001b[0m\u001b[0mtup\u001b[0m\u001b[0;34m)\u001b[0m\u001b[0;34m\u001b[0m\u001b[0;34m\u001b[0m\u001b[0m\n\u001b[0m\u001b[1;32m   1282\u001b[0m \u001b[0;34m\u001b[0m\u001b[0m\n\u001b[1;32m   1283\u001b[0m         \u001b[0;31m# no shortcut needed\u001b[0m\u001b[0;34m\u001b[0m\u001b[0;34m\u001b[0m\u001b[0;34m\u001b[0m\u001b[0m\n",
            "\u001b[0;32m/usr/local/lib/python3.6/dist-packages/pandas/core/indexing.py\u001b[0m in \u001b[0;36m_multi_take\u001b[0;34m(self, tup)\u001b[0m\n\u001b[1;32m   1338\u001b[0m         d = {\n\u001b[1;32m   1339\u001b[0m             \u001b[0maxis\u001b[0m\u001b[0;34m:\u001b[0m \u001b[0mself\u001b[0m\u001b[0;34m.\u001b[0m\u001b[0m_get_listlike_indexer\u001b[0m\u001b[0;34m(\u001b[0m\u001b[0mkey\u001b[0m\u001b[0;34m,\u001b[0m \u001b[0maxis\u001b[0m\u001b[0;34m)\u001b[0m\u001b[0;34m\u001b[0m\u001b[0;34m\u001b[0m\u001b[0m\n\u001b[0;32m-> 1340\u001b[0;31m             \u001b[0;32mfor\u001b[0m \u001b[0;34m(\u001b[0m\u001b[0mkey\u001b[0m\u001b[0;34m,\u001b[0m \u001b[0maxis\u001b[0m\u001b[0;34m)\u001b[0m \u001b[0;32min\u001b[0m \u001b[0mzip\u001b[0m\u001b[0;34m(\u001b[0m\u001b[0mtup\u001b[0m\u001b[0;34m,\u001b[0m \u001b[0mo\u001b[0m\u001b[0;34m.\u001b[0m\u001b[0m_AXIS_ORDERS\u001b[0m\u001b[0;34m)\u001b[0m\u001b[0;34m\u001b[0m\u001b[0;34m\u001b[0m\u001b[0m\n\u001b[0m\u001b[1;32m   1341\u001b[0m         }\n\u001b[1;32m   1342\u001b[0m         \u001b[0;32mreturn\u001b[0m \u001b[0mo\u001b[0m\u001b[0;34m.\u001b[0m\u001b[0m_reindex_with_indexers\u001b[0m\u001b[0;34m(\u001b[0m\u001b[0md\u001b[0m\u001b[0;34m,\u001b[0m \u001b[0mcopy\u001b[0m\u001b[0;34m=\u001b[0m\u001b[0;32mTrue\u001b[0m\u001b[0;34m,\u001b[0m \u001b[0mallow_dups\u001b[0m\u001b[0;34m=\u001b[0m\u001b[0;32mTrue\u001b[0m\u001b[0;34m)\u001b[0m\u001b[0;34m\u001b[0m\u001b[0;34m\u001b[0m\u001b[0m\n",
            "\u001b[0;32m/usr/local/lib/python3.6/dist-packages/pandas/core/indexing.py\u001b[0m in \u001b[0;36m<dictcomp>\u001b[0;34m(.0)\u001b[0m\n\u001b[1;32m   1338\u001b[0m         d = {\n\u001b[1;32m   1339\u001b[0m             \u001b[0maxis\u001b[0m\u001b[0;34m:\u001b[0m \u001b[0mself\u001b[0m\u001b[0;34m.\u001b[0m\u001b[0m_get_listlike_indexer\u001b[0m\u001b[0;34m(\u001b[0m\u001b[0mkey\u001b[0m\u001b[0;34m,\u001b[0m \u001b[0maxis\u001b[0m\u001b[0;34m)\u001b[0m\u001b[0;34m\u001b[0m\u001b[0;34m\u001b[0m\u001b[0m\n\u001b[0;32m-> 1340\u001b[0;31m             \u001b[0;32mfor\u001b[0m \u001b[0;34m(\u001b[0m\u001b[0mkey\u001b[0m\u001b[0;34m,\u001b[0m \u001b[0maxis\u001b[0m\u001b[0;34m)\u001b[0m \u001b[0;32min\u001b[0m \u001b[0mzip\u001b[0m\u001b[0;34m(\u001b[0m\u001b[0mtup\u001b[0m\u001b[0;34m,\u001b[0m \u001b[0mo\u001b[0m\u001b[0;34m.\u001b[0m\u001b[0m_AXIS_ORDERS\u001b[0m\u001b[0;34m)\u001b[0m\u001b[0;34m\u001b[0m\u001b[0;34m\u001b[0m\u001b[0m\n\u001b[0m\u001b[1;32m   1341\u001b[0m         }\n\u001b[1;32m   1342\u001b[0m         \u001b[0;32mreturn\u001b[0m \u001b[0mo\u001b[0m\u001b[0;34m.\u001b[0m\u001b[0m_reindex_with_indexers\u001b[0m\u001b[0;34m(\u001b[0m\u001b[0md\u001b[0m\u001b[0;34m,\u001b[0m \u001b[0mcopy\u001b[0m\u001b[0;34m=\u001b[0m\u001b[0;32mTrue\u001b[0m\u001b[0;34m,\u001b[0m \u001b[0mallow_dups\u001b[0m\u001b[0;34m=\u001b[0m\u001b[0;32mTrue\u001b[0m\u001b[0;34m)\u001b[0m\u001b[0;34m\u001b[0m\u001b[0;34m\u001b[0m\u001b[0m\n",
            "\u001b[0;32m/usr/local/lib/python3.6/dist-packages/pandas/core/indexing.py\u001b[0m in \u001b[0;36m_get_listlike_indexer\u001b[0;34m(self, key, axis, raise_missing)\u001b[0m\n\u001b[1;32m   1551\u001b[0m \u001b[0;34m\u001b[0m\u001b[0m\n\u001b[1;32m   1552\u001b[0m         self._validate_read_indexer(\n\u001b[0;32m-> 1553\u001b[0;31m             \u001b[0mkeyarr\u001b[0m\u001b[0;34m,\u001b[0m \u001b[0mindexer\u001b[0m\u001b[0;34m,\u001b[0m \u001b[0mo\u001b[0m\u001b[0;34m.\u001b[0m\u001b[0m_get_axis_number\u001b[0m\u001b[0;34m(\u001b[0m\u001b[0maxis\u001b[0m\u001b[0;34m)\u001b[0m\u001b[0;34m,\u001b[0m \u001b[0mraise_missing\u001b[0m\u001b[0;34m=\u001b[0m\u001b[0mraise_missing\u001b[0m\u001b[0;34m\u001b[0m\u001b[0;34m\u001b[0m\u001b[0m\n\u001b[0m\u001b[1;32m   1554\u001b[0m         )\n\u001b[1;32m   1555\u001b[0m         \u001b[0;32mreturn\u001b[0m \u001b[0mkeyarr\u001b[0m\u001b[0;34m,\u001b[0m \u001b[0mindexer\u001b[0m\u001b[0;34m\u001b[0m\u001b[0;34m\u001b[0m\u001b[0m\n",
            "\u001b[0;32m/usr/local/lib/python3.6/dist-packages/pandas/core/indexing.py\u001b[0m in \u001b[0;36m_validate_read_indexer\u001b[0;34m(self, key, indexer, axis, raise_missing)\u001b[0m\n\u001b[1;32m   1638\u001b[0m             \u001b[0;32mif\u001b[0m \u001b[0mmissing\u001b[0m \u001b[0;34m==\u001b[0m \u001b[0mlen\u001b[0m\u001b[0;34m(\u001b[0m\u001b[0mindexer\u001b[0m\u001b[0;34m)\u001b[0m\u001b[0;34m:\u001b[0m\u001b[0;34m\u001b[0m\u001b[0;34m\u001b[0m\u001b[0m\n\u001b[1;32m   1639\u001b[0m                 \u001b[0maxis_name\u001b[0m \u001b[0;34m=\u001b[0m \u001b[0mself\u001b[0m\u001b[0;34m.\u001b[0m\u001b[0mobj\u001b[0m\u001b[0;34m.\u001b[0m\u001b[0m_get_axis_name\u001b[0m\u001b[0;34m(\u001b[0m\u001b[0maxis\u001b[0m\u001b[0;34m)\u001b[0m\u001b[0;34m\u001b[0m\u001b[0;34m\u001b[0m\u001b[0m\n\u001b[0;32m-> 1640\u001b[0;31m                 \u001b[0;32mraise\u001b[0m \u001b[0mKeyError\u001b[0m\u001b[0;34m(\u001b[0m\u001b[0;34mf\"None of [{key}] are in the [{axis_name}]\"\u001b[0m\u001b[0;34m)\u001b[0m\u001b[0;34m\u001b[0m\u001b[0;34m\u001b[0m\u001b[0m\n\u001b[0m\u001b[1;32m   1641\u001b[0m \u001b[0;34m\u001b[0m\u001b[0m\n\u001b[1;32m   1642\u001b[0m             \u001b[0;31m# We (temporarily) allow for some missing keys with .loc, except in\u001b[0m\u001b[0;34m\u001b[0m\u001b[0;34m\u001b[0m\u001b[0;34m\u001b[0m\u001b[0m\n",
            "\u001b[0;31mKeyError\u001b[0m: \"None of [Index(['fouth R'], dtype='object')] are in the [index]\""
          ]
        }
      ]
    },
    {
      "cell_type": "code",
      "metadata": {
        "id": "7F-2DraSzHRz",
        "colab_type": "code",
        "colab": {
          "base_uri": "https://localhost:8080/",
          "height": 204
        },
        "outputId": "8f3c20e5-bbc1-43ca-94f6-26c0b0940d02"
      },
      "source": [
        "df3 > 0  # logicals"
      ],
      "execution_count": 50,
      "outputs": [
        {
          "output_type": "execute_result",
          "data": {
            "text/html": [
              "<div>\n",
              "<style scoped>\n",
              "    .dataframe tbody tr th:only-of-type {\n",
              "        vertical-align: middle;\n",
              "    }\n",
              "\n",
              "    .dataframe tbody tr th {\n",
              "        vertical-align: top;\n",
              "    }\n",
              "\n",
              "    .dataframe thead th {\n",
              "        text-align: right;\n",
              "    }\n",
              "</style>\n",
              "<table border=\"1\" class=\"dataframe\">\n",
              "  <thead>\n",
              "    <tr style=\"text-align: right;\">\n",
              "      <th></th>\n",
              "      <th>first C</th>\n",
              "      <th>second C</th>\n",
              "      <th>third C</th>\n",
              "      <th>fourth C</th>\n",
              "      <th>fifth C</th>\n",
              "    </tr>\n",
              "  </thead>\n",
              "  <tbody>\n",
              "    <tr>\n",
              "      <th>first R</th>\n",
              "      <td>True</td>\n",
              "      <td>True</td>\n",
              "      <td>True</td>\n",
              "      <td>True</td>\n",
              "      <td>False</td>\n",
              "    </tr>\n",
              "    <tr>\n",
              "      <th>second R</th>\n",
              "      <td>True</td>\n",
              "      <td>False</td>\n",
              "      <td>False</td>\n",
              "      <td>False</td>\n",
              "      <td>False</td>\n",
              "    </tr>\n",
              "    <tr>\n",
              "      <th>third R</th>\n",
              "      <td>False</td>\n",
              "      <td>True</td>\n",
              "      <td>True</td>\n",
              "      <td>False</td>\n",
              "      <td>True</td>\n",
              "    </tr>\n",
              "    <tr>\n",
              "      <th>fourth R</th>\n",
              "      <td>True</td>\n",
              "      <td>False</td>\n",
              "      <td>True</td>\n",
              "      <td>True</td>\n",
              "      <td>True</td>\n",
              "    </tr>\n",
              "    <tr>\n",
              "      <th>fifth R</th>\n",
              "      <td>True</td>\n",
              "      <td>True</td>\n",
              "      <td>True</td>\n",
              "      <td>False</td>\n",
              "      <td>True</td>\n",
              "    </tr>\n",
              "  </tbody>\n",
              "</table>\n",
              "</div>"
            ],
            "text/plain": [
              "          first C  second C  third C  fourth C  fifth C\n",
              "first R      True      True     True      True    False\n",
              "second R     True     False    False     False    False\n",
              "third R     False      True     True     False     True\n",
              "fourth R     True     False     True      True     True\n",
              "fifth R      True      True     True     False     True"
            ]
          },
          "metadata": {
            "tags": []
          },
          "execution_count": 50
        }
      ]
    },
    {
      "cell_type": "code",
      "metadata": {
        "id": "QBfpnoh_zeTM",
        "colab_type": "code",
        "colab": {
          "base_uri": "https://localhost:8080/",
          "height": 204
        },
        "outputId": "96abbac2-a8dc-4648-ac93-33ad798921cf"
      },
      "source": [
        "df3[df3 > 0]  # prints only the postive vales, other are NAN(negative)"
      ],
      "execution_count": 51,
      "outputs": [
        {
          "output_type": "execute_result",
          "data": {
            "text/html": [
              "<div>\n",
              "<style scoped>\n",
              "    .dataframe tbody tr th:only-of-type {\n",
              "        vertical-align: middle;\n",
              "    }\n",
              "\n",
              "    .dataframe tbody tr th {\n",
              "        vertical-align: top;\n",
              "    }\n",
              "\n",
              "    .dataframe thead th {\n",
              "        text-align: right;\n",
              "    }\n",
              "</style>\n",
              "<table border=\"1\" class=\"dataframe\">\n",
              "  <thead>\n",
              "    <tr style=\"text-align: right;\">\n",
              "      <th></th>\n",
              "      <th>first C</th>\n",
              "      <th>second C</th>\n",
              "      <th>third C</th>\n",
              "      <th>fourth C</th>\n",
              "      <th>fifth C</th>\n",
              "    </tr>\n",
              "  </thead>\n",
              "  <tbody>\n",
              "    <tr>\n",
              "      <th>first R</th>\n",
              "      <td>0.450254</td>\n",
              "      <td>0.534045</td>\n",
              "      <td>0.108242</td>\n",
              "      <td>0.345111</td>\n",
              "      <td>NaN</td>\n",
              "    </tr>\n",
              "    <tr>\n",
              "      <th>second R</th>\n",
              "      <td>0.092940</td>\n",
              "      <td>NaN</td>\n",
              "      <td>NaN</td>\n",
              "      <td>NaN</td>\n",
              "      <td>NaN</td>\n",
              "    </tr>\n",
              "    <tr>\n",
              "      <th>third R</th>\n",
              "      <td>NaN</td>\n",
              "      <td>2.863420</td>\n",
              "      <td>0.150061</td>\n",
              "      <td>NaN</td>\n",
              "      <td>0.359609</td>\n",
              "    </tr>\n",
              "    <tr>\n",
              "      <th>fourth R</th>\n",
              "      <td>0.209020</td>\n",
              "      <td>NaN</td>\n",
              "      <td>1.410217</td>\n",
              "      <td>0.663506</td>\n",
              "      <td>0.635860</td>\n",
              "    </tr>\n",
              "    <tr>\n",
              "      <th>fifth R</th>\n",
              "      <td>0.938875</td>\n",
              "      <td>0.938241</td>\n",
              "      <td>0.085707</td>\n",
              "      <td>NaN</td>\n",
              "      <td>1.079726</td>\n",
              "    </tr>\n",
              "  </tbody>\n",
              "</table>\n",
              "</div>"
            ],
            "text/plain": [
              "           first C  second C   third C  fourth C   fifth C\n",
              "first R   0.450254  0.534045  0.108242  0.345111       NaN\n",
              "second R  0.092940       NaN       NaN       NaN       NaN\n",
              "third R        NaN  2.863420  0.150061       NaN  0.359609\n",
              "fourth R  0.209020       NaN  1.410217  0.663506  0.635860\n",
              "fifth R   0.938875  0.938241  0.085707       NaN  1.079726"
            ]
          },
          "metadata": {
            "tags": []
          },
          "execution_count": 51
        }
      ]
    },
    {
      "cell_type": "code",
      "metadata": {
        "id": "cJ125iFHzj0U",
        "colab_type": "code",
        "colab": {
          "base_uri": "https://localhost:8080/",
          "height": 204
        },
        "outputId": "7283452d-fd4c-48eb-cd73-1f895d970612"
      },
      "source": [
        "# modifying the dataframe\n",
        "\n",
        "# add cols\n",
        "df3['sixth C'] = np.random.randn(5, 1)\n",
        "df3"
      ],
      "execution_count": 52,
      "outputs": [
        {
          "output_type": "execute_result",
          "data": {
            "text/html": [
              "<div>\n",
              "<style scoped>\n",
              "    .dataframe tbody tr th:only-of-type {\n",
              "        vertical-align: middle;\n",
              "    }\n",
              "\n",
              "    .dataframe tbody tr th {\n",
              "        vertical-align: top;\n",
              "    }\n",
              "\n",
              "    .dataframe thead th {\n",
              "        text-align: right;\n",
              "    }\n",
              "</style>\n",
              "<table border=\"1\" class=\"dataframe\">\n",
              "  <thead>\n",
              "    <tr style=\"text-align: right;\">\n",
              "      <th></th>\n",
              "      <th>first C</th>\n",
              "      <th>second C</th>\n",
              "      <th>third C</th>\n",
              "      <th>fourth C</th>\n",
              "      <th>fifth C</th>\n",
              "      <th>sixth C</th>\n",
              "    </tr>\n",
              "  </thead>\n",
              "  <tbody>\n",
              "    <tr>\n",
              "      <th>first R</th>\n",
              "      <td>0.450254</td>\n",
              "      <td>0.534045</td>\n",
              "      <td>0.108242</td>\n",
              "      <td>0.345111</td>\n",
              "      <td>-0.984193</td>\n",
              "      <td>0.447488</td>\n",
              "    </tr>\n",
              "    <tr>\n",
              "      <th>second R</th>\n",
              "      <td>0.092940</td>\n",
              "      <td>-0.724095</td>\n",
              "      <td>-1.014379</td>\n",
              "      <td>-1.080622</td>\n",
              "      <td>-0.899019</td>\n",
              "      <td>-0.186058</td>\n",
              "    </tr>\n",
              "    <tr>\n",
              "      <th>third R</th>\n",
              "      <td>-0.277135</td>\n",
              "      <td>2.863420</td>\n",
              "      <td>0.150061</td>\n",
              "      <td>-0.889808</td>\n",
              "      <td>0.359609</td>\n",
              "      <td>-1.669945</td>\n",
              "    </tr>\n",
              "    <tr>\n",
              "      <th>fourth R</th>\n",
              "      <td>0.209020</td>\n",
              "      <td>-0.803904</td>\n",
              "      <td>1.410217</td>\n",
              "      <td>0.663506</td>\n",
              "      <td>0.635860</td>\n",
              "      <td>-0.299285</td>\n",
              "    </tr>\n",
              "    <tr>\n",
              "      <th>fifth R</th>\n",
              "      <td>0.938875</td>\n",
              "      <td>0.938241</td>\n",
              "      <td>0.085707</td>\n",
              "      <td>-0.608010</td>\n",
              "      <td>1.079726</td>\n",
              "      <td>-0.166272</td>\n",
              "    </tr>\n",
              "  </tbody>\n",
              "</table>\n",
              "</div>"
            ],
            "text/plain": [
              "           first C  second C   third C  fourth C   fifth C   sixth C\n",
              "first R   0.450254  0.534045  0.108242  0.345111 -0.984193  0.447488\n",
              "second R  0.092940 -0.724095 -1.014379 -1.080622 -0.899019 -0.186058\n",
              "third R  -0.277135  2.863420  0.150061 -0.889808  0.359609 -1.669945\n",
              "fourth R  0.209020 -0.803904  1.410217  0.663506  0.635860 -0.299285\n",
              "fifth R   0.938875  0.938241  0.085707 -0.608010  1.079726 -0.166272"
            ]
          },
          "metadata": {
            "tags": []
          },
          "execution_count": 52
        }
      ]
    },
    {
      "cell_type": "code",
      "metadata": {
        "id": "_gTPGjlR0Ci6",
        "colab_type": "code",
        "colab": {
          "base_uri": "https://localhost:8080/",
          "height": 204
        },
        "outputId": "5446dc81-2f85-49f9-b3a5-f4519daff586"
      },
      "source": [
        "df3.drop('first C', axis =1)  # droping the cols"
      ],
      "execution_count": 53,
      "outputs": [
        {
          "output_type": "execute_result",
          "data": {
            "text/html": [
              "<div>\n",
              "<style scoped>\n",
              "    .dataframe tbody tr th:only-of-type {\n",
              "        vertical-align: middle;\n",
              "    }\n",
              "\n",
              "    .dataframe tbody tr th {\n",
              "        vertical-align: top;\n",
              "    }\n",
              "\n",
              "    .dataframe thead th {\n",
              "        text-align: right;\n",
              "    }\n",
              "</style>\n",
              "<table border=\"1\" class=\"dataframe\">\n",
              "  <thead>\n",
              "    <tr style=\"text-align: right;\">\n",
              "      <th></th>\n",
              "      <th>second C</th>\n",
              "      <th>third C</th>\n",
              "      <th>fourth C</th>\n",
              "      <th>fifth C</th>\n",
              "      <th>sixth C</th>\n",
              "    </tr>\n",
              "  </thead>\n",
              "  <tbody>\n",
              "    <tr>\n",
              "      <th>first R</th>\n",
              "      <td>0.534045</td>\n",
              "      <td>0.108242</td>\n",
              "      <td>0.345111</td>\n",
              "      <td>-0.984193</td>\n",
              "      <td>0.447488</td>\n",
              "    </tr>\n",
              "    <tr>\n",
              "      <th>second R</th>\n",
              "      <td>-0.724095</td>\n",
              "      <td>-1.014379</td>\n",
              "      <td>-1.080622</td>\n",
              "      <td>-0.899019</td>\n",
              "      <td>-0.186058</td>\n",
              "    </tr>\n",
              "    <tr>\n",
              "      <th>third R</th>\n",
              "      <td>2.863420</td>\n",
              "      <td>0.150061</td>\n",
              "      <td>-0.889808</td>\n",
              "      <td>0.359609</td>\n",
              "      <td>-1.669945</td>\n",
              "    </tr>\n",
              "    <tr>\n",
              "      <th>fourth R</th>\n",
              "      <td>-0.803904</td>\n",
              "      <td>1.410217</td>\n",
              "      <td>0.663506</td>\n",
              "      <td>0.635860</td>\n",
              "      <td>-0.299285</td>\n",
              "    </tr>\n",
              "    <tr>\n",
              "      <th>fifth R</th>\n",
              "      <td>0.938241</td>\n",
              "      <td>0.085707</td>\n",
              "      <td>-0.608010</td>\n",
              "      <td>1.079726</td>\n",
              "      <td>-0.166272</td>\n",
              "    </tr>\n",
              "  </tbody>\n",
              "</table>\n",
              "</div>"
            ],
            "text/plain": [
              "          second C   third C  fourth C   fifth C   sixth C\n",
              "first R   0.534045  0.108242  0.345111 -0.984193  0.447488\n",
              "second R -0.724095 -1.014379 -1.080622 -0.899019 -0.186058\n",
              "third R   2.863420  0.150061 -0.889808  0.359609 -1.669945\n",
              "fourth R -0.803904  1.410217  0.663506  0.635860 -0.299285\n",
              "fifth R   0.938241  0.085707 -0.608010  1.079726 -0.166272"
            ]
          },
          "metadata": {
            "tags": []
          },
          "execution_count": 53
        }
      ]
    },
    {
      "cell_type": "code",
      "metadata": {
        "id": "pXFUjLkG0Jd3",
        "colab_type": "code",
        "colab": {
          "base_uri": "https://localhost:8080/",
          "height": 173
        },
        "outputId": "1e66ec18-c546-4083-abfd-cdaba3846fdd"
      },
      "source": [
        "df3.drop('first R', axis =0)  # droping the cols"
      ],
      "execution_count": 55,
      "outputs": [
        {
          "output_type": "execute_result",
          "data": {
            "text/html": [
              "<div>\n",
              "<style scoped>\n",
              "    .dataframe tbody tr th:only-of-type {\n",
              "        vertical-align: middle;\n",
              "    }\n",
              "\n",
              "    .dataframe tbody tr th {\n",
              "        vertical-align: top;\n",
              "    }\n",
              "\n",
              "    .dataframe thead th {\n",
              "        text-align: right;\n",
              "    }\n",
              "</style>\n",
              "<table border=\"1\" class=\"dataframe\">\n",
              "  <thead>\n",
              "    <tr style=\"text-align: right;\">\n",
              "      <th></th>\n",
              "      <th>first C</th>\n",
              "      <th>second C</th>\n",
              "      <th>third C</th>\n",
              "      <th>fourth C</th>\n",
              "      <th>fifth C</th>\n",
              "      <th>sixth C</th>\n",
              "    </tr>\n",
              "  </thead>\n",
              "  <tbody>\n",
              "    <tr>\n",
              "      <th>second R</th>\n",
              "      <td>0.092940</td>\n",
              "      <td>-0.724095</td>\n",
              "      <td>-1.014379</td>\n",
              "      <td>-1.080622</td>\n",
              "      <td>-0.899019</td>\n",
              "      <td>-0.186058</td>\n",
              "    </tr>\n",
              "    <tr>\n",
              "      <th>third R</th>\n",
              "      <td>-0.277135</td>\n",
              "      <td>2.863420</td>\n",
              "      <td>0.150061</td>\n",
              "      <td>-0.889808</td>\n",
              "      <td>0.359609</td>\n",
              "      <td>-1.669945</td>\n",
              "    </tr>\n",
              "    <tr>\n",
              "      <th>fourth R</th>\n",
              "      <td>0.209020</td>\n",
              "      <td>-0.803904</td>\n",
              "      <td>1.410217</td>\n",
              "      <td>0.663506</td>\n",
              "      <td>0.635860</td>\n",
              "      <td>-0.299285</td>\n",
              "    </tr>\n",
              "    <tr>\n",
              "      <th>fifth R</th>\n",
              "      <td>0.938875</td>\n",
              "      <td>0.938241</td>\n",
              "      <td>0.085707</td>\n",
              "      <td>-0.608010</td>\n",
              "      <td>1.079726</td>\n",
              "      <td>-0.166272</td>\n",
              "    </tr>\n",
              "  </tbody>\n",
              "</table>\n",
              "</div>"
            ],
            "text/plain": [
              "           first C  second C   third C  fourth C   fifth C   sixth C\n",
              "second R  0.092940 -0.724095 -1.014379 -1.080622 -0.899019 -0.186058\n",
              "third R  -0.277135  2.863420  0.150061 -0.889808  0.359609 -1.669945\n",
              "fourth R  0.209020 -0.803904  1.410217  0.663506  0.635860 -0.299285\n",
              "fifth R   0.938875  0.938241  0.085707 -0.608010  1.079726 -0.166272"
            ]
          },
          "metadata": {
            "tags": []
          },
          "execution_count": 55
        }
      ]
    },
    {
      "cell_type": "code",
      "metadata": {
        "id": "CnH8X3mq0QRj",
        "colab_type": "code",
        "colab": {
          "base_uri": "https://localhost:8080/",
          "height": 204
        },
        "outputId": "780d906b-612f-45c3-e4f1-1a29470d4630"
      },
      "source": [
        "df3\n",
        "# drop doesnt drop in the main dataframe, it only returned the droped dataframe"
      ],
      "execution_count": 56,
      "outputs": [
        {
          "output_type": "execute_result",
          "data": {
            "text/html": [
              "<div>\n",
              "<style scoped>\n",
              "    .dataframe tbody tr th:only-of-type {\n",
              "        vertical-align: middle;\n",
              "    }\n",
              "\n",
              "    .dataframe tbody tr th {\n",
              "        vertical-align: top;\n",
              "    }\n",
              "\n",
              "    .dataframe thead th {\n",
              "        text-align: right;\n",
              "    }\n",
              "</style>\n",
              "<table border=\"1\" class=\"dataframe\">\n",
              "  <thead>\n",
              "    <tr style=\"text-align: right;\">\n",
              "      <th></th>\n",
              "      <th>first C</th>\n",
              "      <th>second C</th>\n",
              "      <th>third C</th>\n",
              "      <th>fourth C</th>\n",
              "      <th>fifth C</th>\n",
              "      <th>sixth C</th>\n",
              "    </tr>\n",
              "  </thead>\n",
              "  <tbody>\n",
              "    <tr>\n",
              "      <th>first R</th>\n",
              "      <td>0.450254</td>\n",
              "      <td>0.534045</td>\n",
              "      <td>0.108242</td>\n",
              "      <td>0.345111</td>\n",
              "      <td>-0.984193</td>\n",
              "      <td>0.447488</td>\n",
              "    </tr>\n",
              "    <tr>\n",
              "      <th>second R</th>\n",
              "      <td>0.092940</td>\n",
              "      <td>-0.724095</td>\n",
              "      <td>-1.014379</td>\n",
              "      <td>-1.080622</td>\n",
              "      <td>-0.899019</td>\n",
              "      <td>-0.186058</td>\n",
              "    </tr>\n",
              "    <tr>\n",
              "      <th>third R</th>\n",
              "      <td>-0.277135</td>\n",
              "      <td>2.863420</td>\n",
              "      <td>0.150061</td>\n",
              "      <td>-0.889808</td>\n",
              "      <td>0.359609</td>\n",
              "      <td>-1.669945</td>\n",
              "    </tr>\n",
              "    <tr>\n",
              "      <th>fourth R</th>\n",
              "      <td>0.209020</td>\n",
              "      <td>-0.803904</td>\n",
              "      <td>1.410217</td>\n",
              "      <td>0.663506</td>\n",
              "      <td>0.635860</td>\n",
              "      <td>-0.299285</td>\n",
              "    </tr>\n",
              "    <tr>\n",
              "      <th>fifth R</th>\n",
              "      <td>0.938875</td>\n",
              "      <td>0.938241</td>\n",
              "      <td>0.085707</td>\n",
              "      <td>-0.608010</td>\n",
              "      <td>1.079726</td>\n",
              "      <td>-0.166272</td>\n",
              "    </tr>\n",
              "  </tbody>\n",
              "</table>\n",
              "</div>"
            ],
            "text/plain": [
              "           first C  second C   third C  fourth C   fifth C   sixth C\n",
              "first R   0.450254  0.534045  0.108242  0.345111 -0.984193  0.447488\n",
              "second R  0.092940 -0.724095 -1.014379 -1.080622 -0.899019 -0.186058\n",
              "third R  -0.277135  2.863420  0.150061 -0.889808  0.359609 -1.669945\n",
              "fourth R  0.209020 -0.803904  1.410217  0.663506  0.635860 -0.299285\n",
              "fifth R   0.938875  0.938241  0.085707 -0.608010  1.079726 -0.166272"
            ]
          },
          "metadata": {
            "tags": []
          },
          "execution_count": 56
        }
      ]
    },
    {
      "cell_type": "code",
      "metadata": {
        "id": "N1UJBJw70TA0",
        "colab_type": "code",
        "colab": {
          "base_uri": "https://localhost:8080/",
          "height": 204
        },
        "outputId": "0c09f202-ab94-42e5-e2f3-efe5e378f69d"
      },
      "source": [
        "# to reflect it, we need to update it \n",
        "df4 = df3.drop('first C', axis = 1)  # col deleted\n",
        "df4"
      ],
      "execution_count": 58,
      "outputs": [
        {
          "output_type": "execute_result",
          "data": {
            "text/html": [
              "<div>\n",
              "<style scoped>\n",
              "    .dataframe tbody tr th:only-of-type {\n",
              "        vertical-align: middle;\n",
              "    }\n",
              "\n",
              "    .dataframe tbody tr th {\n",
              "        vertical-align: top;\n",
              "    }\n",
              "\n",
              "    .dataframe thead th {\n",
              "        text-align: right;\n",
              "    }\n",
              "</style>\n",
              "<table border=\"1\" class=\"dataframe\">\n",
              "  <thead>\n",
              "    <tr style=\"text-align: right;\">\n",
              "      <th></th>\n",
              "      <th>second C</th>\n",
              "      <th>third C</th>\n",
              "      <th>fourth C</th>\n",
              "      <th>fifth C</th>\n",
              "      <th>sixth C</th>\n",
              "    </tr>\n",
              "  </thead>\n",
              "  <tbody>\n",
              "    <tr>\n",
              "      <th>first R</th>\n",
              "      <td>0.534045</td>\n",
              "      <td>0.108242</td>\n",
              "      <td>0.345111</td>\n",
              "      <td>-0.984193</td>\n",
              "      <td>0.447488</td>\n",
              "    </tr>\n",
              "    <tr>\n",
              "      <th>second R</th>\n",
              "      <td>-0.724095</td>\n",
              "      <td>-1.014379</td>\n",
              "      <td>-1.080622</td>\n",
              "      <td>-0.899019</td>\n",
              "      <td>-0.186058</td>\n",
              "    </tr>\n",
              "    <tr>\n",
              "      <th>third R</th>\n",
              "      <td>2.863420</td>\n",
              "      <td>0.150061</td>\n",
              "      <td>-0.889808</td>\n",
              "      <td>0.359609</td>\n",
              "      <td>-1.669945</td>\n",
              "    </tr>\n",
              "    <tr>\n",
              "      <th>fourth R</th>\n",
              "      <td>-0.803904</td>\n",
              "      <td>1.410217</td>\n",
              "      <td>0.663506</td>\n",
              "      <td>0.635860</td>\n",
              "      <td>-0.299285</td>\n",
              "    </tr>\n",
              "    <tr>\n",
              "      <th>fifth R</th>\n",
              "      <td>0.938241</td>\n",
              "      <td>0.085707</td>\n",
              "      <td>-0.608010</td>\n",
              "      <td>1.079726</td>\n",
              "      <td>-0.166272</td>\n",
              "    </tr>\n",
              "  </tbody>\n",
              "</table>\n",
              "</div>"
            ],
            "text/plain": [
              "          second C   third C  fourth C   fifth C   sixth C\n",
              "first R   0.534045  0.108242  0.345111 -0.984193  0.447488\n",
              "second R -0.724095 -1.014379 -1.080622 -0.899019 -0.186058\n",
              "third R   2.863420  0.150061 -0.889808  0.359609 -1.669945\n",
              "fourth R -0.803904  1.410217  0.663506  0.635860 -0.299285\n",
              "fifth R   0.938241  0.085707 -0.608010  1.079726 -0.166272"
            ]
          },
          "metadata": {
            "tags": []
          },
          "execution_count": 58
        }
      ]
    },
    {
      "cell_type": "code",
      "metadata": {
        "id": "lZwcVEMj0lXZ",
        "colab_type": "code",
        "colab": {
          "base_uri": "https://localhost:8080/",
          "height": 173
        },
        "outputId": "567c278e-861d-49b8-ac76-3da7fc4cb9b2"
      },
      "source": [
        "df5 = df3.drop('first R', axis = 0)  # row deleted\n",
        "df5"
      ],
      "execution_count": 70,
      "outputs": [
        {
          "output_type": "execute_result",
          "data": {
            "text/html": [
              "<div>\n",
              "<style scoped>\n",
              "    .dataframe tbody tr th:only-of-type {\n",
              "        vertical-align: middle;\n",
              "    }\n",
              "\n",
              "    .dataframe tbody tr th {\n",
              "        vertical-align: top;\n",
              "    }\n",
              "\n",
              "    .dataframe thead th {\n",
              "        text-align: right;\n",
              "    }\n",
              "</style>\n",
              "<table border=\"1\" class=\"dataframe\">\n",
              "  <thead>\n",
              "    <tr style=\"text-align: right;\">\n",
              "      <th></th>\n",
              "      <th>first C</th>\n",
              "      <th>second C</th>\n",
              "      <th>third C</th>\n",
              "      <th>fourth C</th>\n",
              "      <th>fifth C</th>\n",
              "      <th>sixth C</th>\n",
              "    </tr>\n",
              "  </thead>\n",
              "  <tbody>\n",
              "    <tr>\n",
              "      <th>second R</th>\n",
              "      <td>0.092940</td>\n",
              "      <td>-0.724095</td>\n",
              "      <td>-1.014379</td>\n",
              "      <td>-1.080622</td>\n",
              "      <td>-0.899019</td>\n",
              "      <td>-0.186058</td>\n",
              "    </tr>\n",
              "    <tr>\n",
              "      <th>third R</th>\n",
              "      <td>-0.277135</td>\n",
              "      <td>2.863420</td>\n",
              "      <td>0.150061</td>\n",
              "      <td>-0.889808</td>\n",
              "      <td>0.359609</td>\n",
              "      <td>-1.669945</td>\n",
              "    </tr>\n",
              "    <tr>\n",
              "      <th>fourth R</th>\n",
              "      <td>0.209020</td>\n",
              "      <td>-0.803904</td>\n",
              "      <td>1.410217</td>\n",
              "      <td>0.663506</td>\n",
              "      <td>0.635860</td>\n",
              "      <td>-0.299285</td>\n",
              "    </tr>\n",
              "    <tr>\n",
              "      <th>fifth R</th>\n",
              "      <td>0.938875</td>\n",
              "      <td>0.938241</td>\n",
              "      <td>0.085707</td>\n",
              "      <td>-0.608010</td>\n",
              "      <td>1.079726</td>\n",
              "      <td>-0.166272</td>\n",
              "    </tr>\n",
              "  </tbody>\n",
              "</table>\n",
              "</div>"
            ],
            "text/plain": [
              "           first C  second C   third C  fourth C   fifth C   sixth C\n",
              "second R  0.092940 -0.724095 -1.014379 -1.080622 -0.899019 -0.186058\n",
              "third R  -0.277135  2.863420  0.150061 -0.889808  0.359609 -1.669945\n",
              "fourth R  0.209020 -0.803904  1.410217  0.663506  0.635860 -0.299285\n",
              "fifth R   0.938875  0.938241  0.085707 -0.608010  1.079726 -0.166272"
            ]
          },
          "metadata": {
            "tags": []
          },
          "execution_count": 70
        }
      ]
    },
    {
      "cell_type": "code",
      "metadata": {
        "id": "PsCJNotS0tE5",
        "colab_type": "code",
        "colab": {
          "base_uri": "https://localhost:8080/",
          "height": 187
        },
        "outputId": "35d8bb9b-d9e9-4e8b-ba70-79057fa70ba2"
      },
      "source": [
        "# remianing the dataframes index labels\n",
        "print(df5.reset_index()) # it does't affect the main dataframe\n",
        "print(df5)"
      ],
      "execution_count": 71,
      "outputs": [
        {
          "output_type": "stream",
          "text": [
            "      index   first C  second C   third C  fourth C   fifth C   sixth C\n",
            "0  second R  0.092940 -0.724095 -1.014379 -1.080622 -0.899019 -0.186058\n",
            "1   third R -0.277135  2.863420  0.150061 -0.889808  0.359609 -1.669945\n",
            "2  fourth R  0.209020 -0.803904  1.410217  0.663506  0.635860 -0.299285\n",
            "3   fifth R  0.938875  0.938241  0.085707 -0.608010  1.079726 -0.166272\n",
            "           first C  second C   third C  fourth C   fifth C   sixth C\n",
            "second R  0.092940 -0.724095 -1.014379 -1.080622 -0.899019 -0.186058\n",
            "third R  -0.277135  2.863420  0.150061 -0.889808  0.359609 -1.669945\n",
            "fourth R  0.209020 -0.803904  1.410217  0.663506  0.635860 -0.299285\n",
            "fifth R   0.938875  0.938241  0.085707 -0.608010  1.079726 -0.166272\n"
          ],
          "name": "stdout"
        }
      ]
    },
    {
      "cell_type": "code",
      "metadata": {
        "id": "IXejZaZG06xW",
        "colab_type": "code",
        "colab": {
          "base_uri": "https://localhost:8080/",
          "height": 173
        },
        "outputId": "c0b8eb14-8cf8-4306-a44a-d54b6de97cfa"
      },
      "source": [
        "# to have the change refelected in the dataframe, use inplace = True\n",
        "df5.reset_index(inplace = True)\n",
        "df5"
      ],
      "execution_count": 72,
      "outputs": [
        {
          "output_type": "execute_result",
          "data": {
            "text/html": [
              "<div>\n",
              "<style scoped>\n",
              "    .dataframe tbody tr th:only-of-type {\n",
              "        vertical-align: middle;\n",
              "    }\n",
              "\n",
              "    .dataframe tbody tr th {\n",
              "        vertical-align: top;\n",
              "    }\n",
              "\n",
              "    .dataframe thead th {\n",
              "        text-align: right;\n",
              "    }\n",
              "</style>\n",
              "<table border=\"1\" class=\"dataframe\">\n",
              "  <thead>\n",
              "    <tr style=\"text-align: right;\">\n",
              "      <th></th>\n",
              "      <th>index</th>\n",
              "      <th>first C</th>\n",
              "      <th>second C</th>\n",
              "      <th>third C</th>\n",
              "      <th>fourth C</th>\n",
              "      <th>fifth C</th>\n",
              "      <th>sixth C</th>\n",
              "    </tr>\n",
              "  </thead>\n",
              "  <tbody>\n",
              "    <tr>\n",
              "      <th>0</th>\n",
              "      <td>second R</td>\n",
              "      <td>0.092940</td>\n",
              "      <td>-0.724095</td>\n",
              "      <td>-1.014379</td>\n",
              "      <td>-1.080622</td>\n",
              "      <td>-0.899019</td>\n",
              "      <td>-0.186058</td>\n",
              "    </tr>\n",
              "    <tr>\n",
              "      <th>1</th>\n",
              "      <td>third R</td>\n",
              "      <td>-0.277135</td>\n",
              "      <td>2.863420</td>\n",
              "      <td>0.150061</td>\n",
              "      <td>-0.889808</td>\n",
              "      <td>0.359609</td>\n",
              "      <td>-1.669945</td>\n",
              "    </tr>\n",
              "    <tr>\n",
              "      <th>2</th>\n",
              "      <td>fourth R</td>\n",
              "      <td>0.209020</td>\n",
              "      <td>-0.803904</td>\n",
              "      <td>1.410217</td>\n",
              "      <td>0.663506</td>\n",
              "      <td>0.635860</td>\n",
              "      <td>-0.299285</td>\n",
              "    </tr>\n",
              "    <tr>\n",
              "      <th>3</th>\n",
              "      <td>fifth R</td>\n",
              "      <td>0.938875</td>\n",
              "      <td>0.938241</td>\n",
              "      <td>0.085707</td>\n",
              "      <td>-0.608010</td>\n",
              "      <td>1.079726</td>\n",
              "      <td>-0.166272</td>\n",
              "    </tr>\n",
              "  </tbody>\n",
              "</table>\n",
              "</div>"
            ],
            "text/plain": [
              "      index   first C  second C   third C  fourth C   fifth C   sixth C\n",
              "0  second R  0.092940 -0.724095 -1.014379 -1.080622 -0.899019 -0.186058\n",
              "1   third R -0.277135  2.863420  0.150061 -0.889808  0.359609 -1.669945\n",
              "2  fourth R  0.209020 -0.803904  1.410217  0.663506  0.635860 -0.299285\n",
              "3   fifth R  0.938875  0.938241  0.085707 -0.608010  1.079726 -0.166272"
            ]
          },
          "metadata": {
            "tags": []
          },
          "execution_count": 72
        }
      ]
    },
    {
      "cell_type": "code",
      "metadata": {
        "id": "HZNcxLhb1bze",
        "colab_type": "code",
        "colab": {
          "base_uri": "https://localhost:8080/",
          "height": 204
        },
        "outputId": "d5a4d6f2-16d7-4a01-e493-19b3c92b8fe0"
      },
      "source": [
        "df3.drop('first C', axis = 1, inplace = True)\n",
        "df3"
      ],
      "execution_count": 73,
      "outputs": [
        {
          "output_type": "execute_result",
          "data": {
            "text/html": [
              "<div>\n",
              "<style scoped>\n",
              "    .dataframe tbody tr th:only-of-type {\n",
              "        vertical-align: middle;\n",
              "    }\n",
              "\n",
              "    .dataframe tbody tr th {\n",
              "        vertical-align: top;\n",
              "    }\n",
              "\n",
              "    .dataframe thead th {\n",
              "        text-align: right;\n",
              "    }\n",
              "</style>\n",
              "<table border=\"1\" class=\"dataframe\">\n",
              "  <thead>\n",
              "    <tr style=\"text-align: right;\">\n",
              "      <th></th>\n",
              "      <th>second C</th>\n",
              "      <th>third C</th>\n",
              "      <th>fourth C</th>\n",
              "      <th>fifth C</th>\n",
              "      <th>sixth C</th>\n",
              "    </tr>\n",
              "  </thead>\n",
              "  <tbody>\n",
              "    <tr>\n",
              "      <th>first R</th>\n",
              "      <td>0.534045</td>\n",
              "      <td>0.108242</td>\n",
              "      <td>0.345111</td>\n",
              "      <td>-0.984193</td>\n",
              "      <td>0.447488</td>\n",
              "    </tr>\n",
              "    <tr>\n",
              "      <th>second R</th>\n",
              "      <td>-0.724095</td>\n",
              "      <td>-1.014379</td>\n",
              "      <td>-1.080622</td>\n",
              "      <td>-0.899019</td>\n",
              "      <td>-0.186058</td>\n",
              "    </tr>\n",
              "    <tr>\n",
              "      <th>third R</th>\n",
              "      <td>2.863420</td>\n",
              "      <td>0.150061</td>\n",
              "      <td>-0.889808</td>\n",
              "      <td>0.359609</td>\n",
              "      <td>-1.669945</td>\n",
              "    </tr>\n",
              "    <tr>\n",
              "      <th>fourth R</th>\n",
              "      <td>-0.803904</td>\n",
              "      <td>1.410217</td>\n",
              "      <td>0.663506</td>\n",
              "      <td>0.635860</td>\n",
              "      <td>-0.299285</td>\n",
              "    </tr>\n",
              "    <tr>\n",
              "      <th>fifth R</th>\n",
              "      <td>0.938241</td>\n",
              "      <td>0.085707</td>\n",
              "      <td>-0.608010</td>\n",
              "      <td>1.079726</td>\n",
              "      <td>-0.166272</td>\n",
              "    </tr>\n",
              "  </tbody>\n",
              "</table>\n",
              "</div>"
            ],
            "text/plain": [
              "          second C   third C  fourth C   fifth C   sixth C\n",
              "first R   0.534045  0.108242  0.345111 -0.984193  0.447488\n",
              "second R -0.724095 -1.014379 -1.080622 -0.899019 -0.186058\n",
              "third R   2.863420  0.150061 -0.889808  0.359609 -1.669945\n",
              "fourth R -0.803904  1.410217  0.663506  0.635860 -0.299285\n",
              "fifth R   0.938241  0.085707 -0.608010  1.079726 -0.166272"
            ]
          },
          "metadata": {
            "tags": []
          },
          "execution_count": 73
        }
      ]
    },
    {
      "cell_type": "code",
      "metadata": {
        "id": "flwydqvz1-5J",
        "colab_type": "code",
        "colab": {
          "base_uri": "https://localhost:8080/",
          "height": 204
        },
        "outputId": "12cdf975-c750-4aa2-8201-b8c6845c0715"
      },
      "source": [
        "# can rename the index\n",
        "df5['new names'] = ['This', 'is', 'the', 'row']\n",
        "df5"
      ],
      "execution_count": 78,
      "outputs": [
        {
          "output_type": "execute_result",
          "data": {
            "text/html": [
              "<div>\n",
              "<style scoped>\n",
              "    .dataframe tbody tr th:only-of-type {\n",
              "        vertical-align: middle;\n",
              "    }\n",
              "\n",
              "    .dataframe tbody tr th {\n",
              "        vertical-align: top;\n",
              "    }\n",
              "\n",
              "    .dataframe thead th {\n",
              "        text-align: right;\n",
              "    }\n",
              "</style>\n",
              "<table border=\"1\" class=\"dataframe\">\n",
              "  <thead>\n",
              "    <tr style=\"text-align: right;\">\n",
              "      <th></th>\n",
              "      <th>index</th>\n",
              "      <th>first C</th>\n",
              "      <th>second C</th>\n",
              "      <th>third C</th>\n",
              "      <th>fourth C</th>\n",
              "      <th>fifth C</th>\n",
              "      <th>sixth C</th>\n",
              "      <th>new names</th>\n",
              "    </tr>\n",
              "    <tr>\n",
              "      <th>new names</th>\n",
              "      <th></th>\n",
              "      <th></th>\n",
              "      <th></th>\n",
              "      <th></th>\n",
              "      <th></th>\n",
              "      <th></th>\n",
              "      <th></th>\n",
              "      <th></th>\n",
              "    </tr>\n",
              "  </thead>\n",
              "  <tbody>\n",
              "    <tr>\n",
              "      <th>This</th>\n",
              "      <td>second R</td>\n",
              "      <td>0.092940</td>\n",
              "      <td>-0.724095</td>\n",
              "      <td>-1.014379</td>\n",
              "      <td>-1.080622</td>\n",
              "      <td>-0.899019</td>\n",
              "      <td>-0.186058</td>\n",
              "      <td>This</td>\n",
              "    </tr>\n",
              "    <tr>\n",
              "      <th>is</th>\n",
              "      <td>third R</td>\n",
              "      <td>-0.277135</td>\n",
              "      <td>2.863420</td>\n",
              "      <td>0.150061</td>\n",
              "      <td>-0.889808</td>\n",
              "      <td>0.359609</td>\n",
              "      <td>-1.669945</td>\n",
              "      <td>is</td>\n",
              "    </tr>\n",
              "    <tr>\n",
              "      <th>the</th>\n",
              "      <td>fourth R</td>\n",
              "      <td>0.209020</td>\n",
              "      <td>-0.803904</td>\n",
              "      <td>1.410217</td>\n",
              "      <td>0.663506</td>\n",
              "      <td>0.635860</td>\n",
              "      <td>-0.299285</td>\n",
              "      <td>the</td>\n",
              "    </tr>\n",
              "    <tr>\n",
              "      <th>row</th>\n",
              "      <td>fifth R</td>\n",
              "      <td>0.938875</td>\n",
              "      <td>0.938241</td>\n",
              "      <td>0.085707</td>\n",
              "      <td>-0.608010</td>\n",
              "      <td>1.079726</td>\n",
              "      <td>-0.166272</td>\n",
              "      <td>row</td>\n",
              "    </tr>\n",
              "  </tbody>\n",
              "</table>\n",
              "</div>"
            ],
            "text/plain": [
              "              index   first C  second C  ...   fifth C   sixth C  new names\n",
              "new names                                ...                               \n",
              "This       second R  0.092940 -0.724095  ... -0.899019 -0.186058       This\n",
              "is          third R -0.277135  2.863420  ...  0.359609 -1.669945         is\n",
              "the        fourth R  0.209020 -0.803904  ...  0.635860 -0.299285        the\n",
              "row         fifth R  0.938875  0.938241  ...  1.079726 -0.166272        row\n",
              "\n",
              "[4 rows x 8 columns]"
            ]
          },
          "metadata": {
            "tags": []
          },
          "execution_count": 78
        }
      ]
    },
    {
      "cell_type": "code",
      "metadata": {
        "id": "VQKLXK2H2S2k",
        "colab_type": "code",
        "colab": {
          "base_uri": "https://localhost:8080/",
          "height": 204
        },
        "outputId": "b696b074-040f-46d7-dcf4-7c4b7f6ce5c5"
      },
      "source": [
        "df5.set_index('new names', inplace = True)\n",
        "df5"
      ],
      "execution_count": 79,
      "outputs": [
        {
          "output_type": "execute_result",
          "data": {
            "text/html": [
              "<div>\n",
              "<style scoped>\n",
              "    .dataframe tbody tr th:only-of-type {\n",
              "        vertical-align: middle;\n",
              "    }\n",
              "\n",
              "    .dataframe tbody tr th {\n",
              "        vertical-align: top;\n",
              "    }\n",
              "\n",
              "    .dataframe thead th {\n",
              "        text-align: right;\n",
              "    }\n",
              "</style>\n",
              "<table border=\"1\" class=\"dataframe\">\n",
              "  <thead>\n",
              "    <tr style=\"text-align: right;\">\n",
              "      <th></th>\n",
              "      <th>index</th>\n",
              "      <th>first C</th>\n",
              "      <th>second C</th>\n",
              "      <th>third C</th>\n",
              "      <th>fourth C</th>\n",
              "      <th>fifth C</th>\n",
              "      <th>sixth C</th>\n",
              "    </tr>\n",
              "    <tr>\n",
              "      <th>new names</th>\n",
              "      <th></th>\n",
              "      <th></th>\n",
              "      <th></th>\n",
              "      <th></th>\n",
              "      <th></th>\n",
              "      <th></th>\n",
              "      <th></th>\n",
              "    </tr>\n",
              "  </thead>\n",
              "  <tbody>\n",
              "    <tr>\n",
              "      <th>This</th>\n",
              "      <td>second R</td>\n",
              "      <td>0.092940</td>\n",
              "      <td>-0.724095</td>\n",
              "      <td>-1.014379</td>\n",
              "      <td>-1.080622</td>\n",
              "      <td>-0.899019</td>\n",
              "      <td>-0.186058</td>\n",
              "    </tr>\n",
              "    <tr>\n",
              "      <th>is</th>\n",
              "      <td>third R</td>\n",
              "      <td>-0.277135</td>\n",
              "      <td>2.863420</td>\n",
              "      <td>0.150061</td>\n",
              "      <td>-0.889808</td>\n",
              "      <td>0.359609</td>\n",
              "      <td>-1.669945</td>\n",
              "    </tr>\n",
              "    <tr>\n",
              "      <th>the</th>\n",
              "      <td>fourth R</td>\n",
              "      <td>0.209020</td>\n",
              "      <td>-0.803904</td>\n",
              "      <td>1.410217</td>\n",
              "      <td>0.663506</td>\n",
              "      <td>0.635860</td>\n",
              "      <td>-0.299285</td>\n",
              "    </tr>\n",
              "    <tr>\n",
              "      <th>row</th>\n",
              "      <td>fifth R</td>\n",
              "      <td>0.938875</td>\n",
              "      <td>0.938241</td>\n",
              "      <td>0.085707</td>\n",
              "      <td>-0.608010</td>\n",
              "      <td>1.079726</td>\n",
              "      <td>-0.166272</td>\n",
              "    </tr>\n",
              "  </tbody>\n",
              "</table>\n",
              "</div>"
            ],
            "text/plain": [
              "              index   first C  second C   third C  fourth C   fifth C   sixth C\n",
              "new names                                                                      \n",
              "This       second R  0.092940 -0.724095 -1.014379 -1.080622 -0.899019 -0.186058\n",
              "is          third R -0.277135  2.863420  0.150061 -0.889808  0.359609 -1.669945\n",
              "the        fourth R  0.209020 -0.803904  1.410217  0.663506  0.635860 -0.299285\n",
              "row         fifth R  0.938875  0.938241  0.085707 -0.608010  1.079726 -0.166272"
            ]
          },
          "metadata": {
            "tags": []
          },
          "execution_count": 79
        }
      ]
    },
    {
      "cell_type": "code",
      "metadata": {
        "id": "95uaJqnt2c91",
        "colab_type": "code",
        "colab": {}
      },
      "source": [
        ""
      ],
      "execution_count": null,
      "outputs": []
    }
  ]
}